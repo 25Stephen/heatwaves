{
 "cells": [
  {
   "cell_type": "code",
   "execution_count": null,
   "id": "95f0e6d2-e215-4e5a-be25-f74efa0963b3",
   "metadata": {
    "tags": []
   },
   "outputs": [],
   "source": [
    "import xarray as xr\n",
    "import matplotlib.pyplot as plt\n",
    "from cartopy import feature, crs\n",
    "import numpy as np\n",
    "import pymannkendall as mk\n",
    "from cartopy.mpl.ticker import LongitudeFormatter, LatitudeFormatter\n",
    "import warnings\n",
    "import matplotlib.gridspec as gridspec\n",
    "from matplotlib.gridspec import SubplotSpec\n",
    "warnings.filterwarnings('ignore')\n"
   ]
  },
  {
   "cell_type": "code",
   "execution_count": null,
   "id": "d6b837a5-573b-4b97-b53d-90d49a50b09f",
   "metadata": {
    "tags": []
   },
   "outputs": [],
   "source": [
    "path='/media/kenz/1B8D1A637BBA134B/CHIRTS'"
   ]
  },
  {
   "cell_type": "code",
   "execution_count": null,
   "id": "57ae921b-bf58-4b76-b068-828dec5dd7de",
   "metadata": {},
   "outputs": [],
   "source": []
  },
  {
   "cell_type": "code",
   "execution_count": null,
   "id": "a5f2fbfe-af05-4c73-afaa-cea7dd2e4dec",
   "metadata": {
    "tags": []
   },
   "outputs": [],
   "source": [
    "def create_subtitle(fig: plt.Figure, grid: SubplotSpec, title: str):\n",
    "    row = fig.add_subplot(grid)\n",
    "    row.set_title(f'{title}\\n', fontweight='semibold')#) if row==1 else row.set_title(f'{title}')\n",
    "    # if row==0 row.set_title(f'{title}\\n\\n\\n', fontweight='semibold') else row.set_title(f'{title}\\n'\n",
    "    row.set_frame_on(False)\n",
    "    row.axis('off')\n",
    "\n",
    "def df_read(path,file,var):\n",
    "    ds = xr.open_dataset(f'{path}/{file}')[f'{var}'].sortby('time').drop_duplicates('time').sel(time=slice('1983',None))\n",
    "    return ds\n",
    "def sens_slopes(data):\n",
    "    data = data.sel(longitude=np.arange(-19.875, 21.875,0.25), latitude=np.arange(3.125,26.875,0.25), method = 'nearest')\n",
    "    output=[]\n",
    "    for i in np.arange(len(data.latitude.values)):\n",
    "        for j in np.arange(len(data.longitude.values)):\n",
    "            try:\n",
    "                slope_val = mk.sens_slope(data[:,i,j]).slope\n",
    "            except:\n",
    "                slope_val = np.nan\n",
    "            output.append(slope_val)\n",
    "    output = np.copy(output).reshape(data.latitude.size,data.longitude.size)\n",
    "    slopes=xr.DataArray(output, dims=('latitude','longitude'), coords={'latitude':data.latitude,'longitude':data.longitude})\n",
    "    return slopes \n",
    "\n",
    "def CTpctl(path,temp,pctl,var):\n",
    "    temp = df_read(path,temp,var)\n",
    "    mask = temp.groupby('time.month') > pctl\n",
    "    return temp.where(mask, drop=True)\n",
    "\n",
    "def rising_filter(array, axis):\n",
    "    assert(array.shape[axis] == 5)\n",
    "    assert(axis == array.ndim-1 or axis == -1)\n",
    "    left = array[..., 1]\n",
    "    right = array[..., 2:].sum(axis=axis)\n",
    "    return np.logical_and(np.isnan(left), np.isfinite(right))\n",
    "def rising_filter_dask(x, dim):\n",
    "    return xr.apply_ufunc(rising_filter, x, input_core_dims=[[dim]],\n",
    "                             kwargs={'axis': -1},\n",
    "                             dask='parallelized',\n",
    "                             output_dtypes=[bool])\n",
    "def HWD(data):\n",
    "    windows = data.chunk({'time':20}).rolling(time=5, center=True, min_periods=1).construct('rolling_dim')\n",
    "    heatwave_starts = rising_filter_dask(windows, dim='rolling_dim')\n",
    "    return heatwave_starts\n",
    "def set_fig_params(ax):\n",
    "    for i,j in enumerate(ax):\n",
    "    # for i in (range(0,len(axes))):\n",
    "        ax[i].set_extent([-19,15,4,24])\n",
    "        ax[i].add_feature(feature.COASTLINE)\n",
    "        ax[i].add_feature(feature.BORDERS)\n",
    "        ax[i].add_feature(feature.STATES, linewidth = 0.2)\n",
    "        ax[i].set_xticks([-20,-10,0,10], crs=crs.PlateCarree())\n",
    "        ax[i].set_yticks([5,10,15,20], crs=crs.PlateCarree())\n",
    "        lon_formatter = LongitudeFormatter(zero_direction_label=True)\n",
    "        lat_formatter = LatitudeFormatter()\n",
    "        ax[i].xaxis.set_major_formatter(lon_formatter)\n",
    "        ax[i].yaxis.set_major_formatter(lat_formatter)"
   ]
  },
  {
   "cell_type": "code",
   "execution_count": null,
   "id": "da45659f-1ff3-4156-b221-2b1259f1a5d4",
   "metadata": {},
   "outputs": [],
   "source": []
  },
  {
   "cell_type": "code",
   "execution_count": null,
   "id": "568f5913-0176-4bb1-8ee8-fa9abe3ae385",
   "metadata": {
    "tags": []
   },
   "outputs": [],
   "source": [
    "tmean_ehf = 'Tmean/ehf.nc'\n",
    "tmax = 'Tmax/chirts.Tmax.1983.2016.WA.days_p25.nc'\n",
    "tmax90 = 'Tmax/chirts.Tmax.1983.2016.WA.days_p25_ymonpctl.nc'\n",
    "tmin90 = 'Tmin/chirts.Tmin.1983.2016.WA.days_p25_ymonpctl.nc'\n",
    "tmin = 'Tmin/chirts.Tmin.1983.2016.WA.days_p25.nc'\n",
    "\n",
    "tmx = 'Tmax/tx.nc'\n",
    "tmn = 'Tmin/tn.nc'\n",
    "\n",
    "tmean = 'Tmean/chirts.Tmean.1983.2016.WA.days_p25.nc'"
   ]
  },
  {
   "cell_type": "code",
   "execution_count": null,
   "id": "0540ef06-91e5-40a1-8be4-a1aaa39e3d0a",
   "metadata": {
    "tags": []
   },
   "outputs": [],
   "source": [
    "tx90 = df_read(path,tmax90,'Tmax')\n",
    "tx90 = tx90.groupby('time.month').mean('time')\n",
    "\n",
    "tn90 = df_read(path,tmin90,'Tmin')\n",
    "tn90 = tn90.groupby('time.month').mean('time')"
   ]
  },
  {
   "cell_type": "code",
   "execution_count": null,
   "id": "a10d3570-aade-4ff6-be26-857b7062b8fd",
   "metadata": {
    "tags": []
   },
   "outputs": [],
   "source": [
    "txx = df_read(path, tmax, 'Tmax')\n",
    "tnn = df_read(path, tmin, 'Tmin')"
   ]
  },
  {
   "cell_type": "code",
   "execution_count": null,
   "id": "1be1b814-dba0-406b-b24d-c547ed19d2e3",
   "metadata": {
    "tags": []
   },
   "outputs": [],
   "source": [
    "tmean_d = df_read(path,tmean,'Tmax')"
   ]
  },
  {
   "cell_type": "code",
   "execution_count": null,
   "id": "38c2e25b-f7a3-418d-9b42-64f59ee1ce2e",
   "metadata": {
    "tags": []
   },
   "outputs": [],
   "source": [
    "tx = df_read(path, tmx, 'Tmax')\n",
    "tn = df_read(path, tmn, 'Tmin')"
   ]
  },
  {
   "cell_type": "code",
   "execution_count": null,
   "id": "8680e61d-b028-4625-9dbf-d810c506f1f3",
   "metadata": {
    "tags": []
   },
   "outputs": [],
   "source": [
    "# tx = df_read(path, tmax, 'Tmax')"
   ]
  },
  {
   "cell_type": "code",
   "execution_count": null,
   "id": "64b75693-b649-4435-aa83-eb889f8db4e4",
   "metadata": {
    "tags": []
   },
   "outputs": [],
   "source": [
    "ehf = df_read(path,tmean_ehf,'Tmax')\n",
    "ds_gtehf = ehf.groupby('time.year').count()"
   ]
  },
  {
   "cell_type": "code",
   "execution_count": null,
   "id": "5b707aed-08e7-4e00-94fa-84dbea8418c4",
   "metadata": {
    "tags": []
   },
   "outputs": [],
   "source": []
  },
  {
   "cell_type": "code",
   "execution_count": null,
   "id": "51dcbd62-89da-4547-8f92-86c300e4a8e8",
   "metadata": {
    "jupyter": {
     "source_hidden": true
    },
    "tags": []
   },
   "outputs": [],
   "source": [
    "ctx90 = CTpctl(path,tmax,tx90,'Tmax')\n",
    "windows = ctx90.chunk({'time':20}).rolling(time=5, center=True, min_periods=1).construct('rolling_dim')\n",
    "hwn_tx = rising_filter_dask(windows, dim='rolling_dim')"
   ]
  },
  {
   "cell_type": "code",
   "execution_count": null,
   "id": "99b707e6-3e5f-42f1-9dce-898648186ead",
   "metadata": {
    "jupyter": {
     "source_hidden": true
    },
    "tags": []
   },
   "outputs": [],
   "source": [
    "ctn90 = CTpctl(path,tmin,tn90,'Tmin')\n",
    "windows = ctn90.chunk({'time':20}).rolling(time=5, center=True, min_periods=1).construct('rolling_dim')\n",
    "hwn_tn = rising_filter_dask(windows, dim='rolling_dim')"
   ]
  },
  {
   "cell_type": "code",
   "execution_count": null,
   "id": "6eda6ef4-e003-4caf-9037-a255dc66d4fe",
   "metadata": {},
   "outputs": [],
   "source": [
    "##### ctx90 for rolling percentile\n",
    "# %%time\n",
    "windows = tx.chunk({'time':20}).rolling(time=5, center=True, min_periods=1).construct('rolling_dim')\n",
    "hwn_tx_roll = rising_filter_dask(windows, dim='rolling_dim')\n"
   ]
  },
  {
   "cell_type": "code",
   "execution_count": null,
   "id": "5aa0d6e5-d7a1-429e-95eb-bb60dbf27dff",
   "metadata": {
    "tags": []
   },
   "outputs": [],
   "source": [
    "windows = tn.chunk({'time':20}).rolling(time=5, center=True, min_periods=1).construct('rolling_dim')\n",
    "hwn_tn_roll = rising_filter_dask(windows, dim='rolling_dim')\n"
   ]
  },
  {
   "cell_type": "code",
   "execution_count": null,
   "id": "e7f9bc17-f155-48a2-8574-15157fb9f99d",
   "metadata": {},
   "outputs": [],
   "source": []
  },
  {
   "cell_type": "code",
   "execution_count": null,
   "id": "17ce3b0d-e3ce-421a-a219-ae1f409afc86",
   "metadata": {
    "jupyter": {
     "source_hidden": true
    },
    "tags": []
   },
   "outputs": [],
   "source": [
    "fig, ax = plt.subplots(ncols=3, nrows=2, figsize=(10, 5), subplot_kw={'projection': crs.PlateCarree()})\n",
    "ax = ax.flatten()\n",
    "cc='YlOrBr'\n",
    "cm = 'RdBu_r'\n",
    "vmax=15\n",
    "set_fig_params(ax)\n",
    "hdtx = hwn_tx.groupby('time.year').sum('time').max('year')\n",
    "hdtx.where(hdtx>0).plot(ax=ax[0], cmap=cc, add_colorbar=False, vmax=vmax)\n",
    "ax[0].set_title('CTx90 \\n 1983-2016')\n",
    "\n",
    "hdtn = hwn_tn.groupby('time.year').sum('time').max('year')\n",
    "hdtn.where(hdtn>0).plot(ax=ax[1], cmap=cc, add_colorbar=False, vmax=vmax)\n",
    "ax[1].set_title('CTn90 \\n 1983-2016')\n",
    "\n",
    "cb1 = ds_gtehf.where(ds_gtehf>0).mean('year').plot(ax=ax[2], cmap=cc, vmax=vmax, add_colorbar=False)\n",
    "ax[2].set_title('EHF 1983-2016')\n",
    "\n",
    "cb2 = sens_slopes(ds_gtehf.where(ds_gtehf>0).load()).plot(ax=ax[5], cmap=cm, vmax=1, add_colorbar=False)\n",
    "ax[5].set_title('EHF - slopes')\n",
    "\n",
    "\n",
    "l = sens_slopes((HWD(ctx90.load())).groupby('time.year').sum('time').load())\n",
    "l.where(l>0).plot(ax=ax[3], cmap=cm, add_colorbar=False, vmax = 1, vmin=-1)\n",
    "l = sens_slopes((HWD(ctn90.load())).groupby('time.year').sum('time').load())\n",
    "l.where(l>0).plot(ax=ax[4], cmap=cm, add_colorbar=False, vmax = 1, vmin=-1)\n",
    "\n",
    "ax[4].set_title('CTx90 - slopes')\n",
    "ax[3].set_title('CTxn90 - slopes')\n",
    "\n",
    "label = ['HWD','Trends']\n",
    "\n",
    "cb = [cb1,cb2]\n",
    "# Add colorbars\n",
    "for i, j in enumerate([0.575, 0.12]):\n",
    "    cax = fig.add_axes([1, j, 0.02, 0.3])\n",
    "    fig.colorbar(cb[i], cax=cax, orientation='vertical', extend='both', label = label[i])\n",
    "fig.tight_layout()\n"
   ]
  },
  {
   "cell_type": "code",
   "execution_count": null,
   "id": "7cb98a81-8822-4505-80c7-ac8564db7c7a",
   "metadata": {},
   "outputs": [],
   "source": []
  },
  {
   "cell_type": "code",
   "execution_count": null,
   "id": "fae237f0-e7cf-417e-ab93-af86d2e92122",
   "metadata": {
    "tags": []
   },
   "outputs": [],
   "source": [
    "#### Using rolling percentile ####\n",
    "# %%time\n",
    "\n",
    "# Create subplots\n",
    "fig, ax = plt.subplots(ncols=3, nrows=2, figsize=(10, 5), subplot_kw={'projection': crs.PlateCarree()})\n",
    "ax = ax.flatten()\n",
    "set_fig_params(ax)\n",
    "\n",
    "vmax=15\n",
    "cc='YlOrBr'\n",
    "\n",
    "hwdtx = hwn_tx_roll.groupby('time.year').sum('time').max('year')\n",
    "cb1 = hwdtx.where(hwdtx>0).plot(ax=ax[0], cmap=cc, vmax=vmax, add_colorbar=False)\n",
    "ax[0].set_title('CTx90 1983-2016')\n",
    "\n",
    "### ds_gtn.mean('year').plot(ax=ax[1], cmap=cc, vmax=60, add_colorbar=False)\n",
    "# ds_gtn.where(ds_gtn>0).mean('year').plot(ax=ax[1], cmap=cc, vmax=55,  vmin=35, add_colorbar=False)\n",
    "\n",
    "hwdtn = hwn_tn_roll.groupby('time.year').sum('time').max('year')\n",
    "hwdtn.where(hwdtn>0).plot(ax=ax[1], cmap=cc, vmax=vmax, add_colorbar=False)\n",
    "ax[1].set_title('CTn90 1983-2016')\n",
    "\n",
    "ds_gtehf.where(ds_gtehf>0).mean('year').plot(ax=ax[2], cmap=cc, vmax=vmax, add_colorbar=False)\n",
    "ax[2].set_title('EHF 1983-2016')\n",
    "\n",
    "cm = 'RdBu_r'\n",
    "vm = 1\n",
    "\n",
    "txsl = hwn_tx_roll.groupby('time.year').sum('time')\n",
    "cb2 = sens_slopes(txsl.where(txsl>0).load()).plot(ax=ax[3], vmax=vm, cmap=cm, add_colorbar=False)\n",
    "\n",
    "tnsl = hwn_tn_roll.groupby('time.year').sum('time')\n",
    "sens_slopes(tnsl.where(tnsl>0).load()).plot(ax=ax[4], vmax=vm, cmap=cm, add_colorbar=False)\n",
    "\n",
    "sens_slopes(ds_gtehf.where(ds_gtehf>0).load()).plot(ax=ax[5], cmap=cm, vmax=vm, add_colorbar=False)\n",
    "# ax[5].set_title('EHF')\n",
    "\n",
    "label = ['HWD','Trends']\n",
    "\n",
    "cb = [cb1, cb2]\n",
    "# Add colorbars\n",
    "for i, j in enumerate([0.62, 0.13]):\n",
    "    cax = fig.add_axes([1, j, 0.02, 0.3])\n",
    "    fig.colorbar(cb[i], cax=cax, orientation='vertical', extend='both', label = label[i])\n",
    "\n",
    "fig.tight_layout()\n",
    "plt.savefig('/media/kenz/1B8D1A637BBA134B/CHIRTS/final_figures/hwd_.jpeg', bbox_inches='tight')\n",
    "\n"
   ]
  },
  {
   "cell_type": "code",
   "execution_count": null,
   "id": "97a5f137-6425-47cb-8beb-03ee96d7b03f",
   "metadata": {
    "tags": []
   },
   "outputs": [],
   "source": []
  },
  {
   "cell_type": "code",
   "execution_count": null,
   "id": "cbc39891-0f06-42ca-ac3a-f3cc4a979605",
   "metadata": {
    "jupyter": {
     "source_hidden": true
    },
    "tags": []
   },
   "outputs": [],
   "source": [
    "### Finding the date the maximum heatwave daya occurred ###\n",
    "#### Monthly percentile #####"
   ]
  },
  {
   "cell_type": "code",
   "execution_count": null,
   "id": "02409ebc-b732-4264-a5a9-5374a46bcf50",
   "metadata": {
    "jupyter": {
     "source_hidden": true
    },
    "tags": []
   },
   "outputs": [],
   "source": [
    "####tx#### 1\n",
    "txx.sel(latitude=20, longitude=15, method='nearest').sel(time=slice('2013-05-15', '2013-07-01')).plot(alpha=0.3)\n",
    "region = ctx90.sel(latitude=20, longitude=15, method='nearest').sel(time=slice('2013-05-15', '2013-07-01'))#,'1999'))\n",
    "region.where(\n",
    "    region.rolling(time=1).count()>=1\n",
    ").plot(marker='*', alpha=0.3)\n",
    "region.where(\n",
    "    region.rolling(time=17).count()>=17\n",
    ").plot(marker='.')\n",
    "plt.title('lenght of the longest heatwave')\n",
    "plt.grid()"
   ]
  },
  {
   "cell_type": "code",
   "execution_count": null,
   "id": "f69d4278-2bb8-4552-8789-106907e1e92b",
   "metadata": {
    "jupyter": {
     "source_hidden": true
    },
    "tags": []
   },
   "outputs": [],
   "source": [
    "####tx#### 2\n",
    "txx.sel(latitude=5, longitude=6.5, method='nearest').sel(time=slice('2015-12-15', '2016-01-10')).plot(alpha=0.3)\n",
    "region = ctx90.sel(latitude=5, longitude=6.5, method='nearest').sel(time=slice('2015-12-15', '2016-01-10'))#,'1999'))\n",
    "region.where(\n",
    "    region.rolling(time=3).count()>=3\n",
    ").plot(marker='*', alpha=0.3)\n",
    "region.where(\n",
    "    region.rolling(time=18).count()>=18\n",
    ").plot(marker='.')\n",
    "plt.title('lenght of the longest heatwave')\n",
    "plt.grid()"
   ]
  },
  {
   "cell_type": "code",
   "execution_count": null,
   "id": "c5349844-9a82-4ed8-94c1-508487e742ab",
   "metadata": {
    "jupyter": {
     "source_hidden": true
    },
    "tags": []
   },
   "outputs": [],
   "source": []
  },
  {
   "cell_type": "code",
   "execution_count": null,
   "id": "c6cddcbf-1823-4865-bbc1-f078a0930fc9",
   "metadata": {
    "jupyter": {
     "source_hidden": true
    },
    "tags": []
   },
   "outputs": [],
   "source": [
    "####tn#### 1\n",
    "tnn.sel(latitude=6.6, longitude=-1.6, method='nearest').sel(time=slice('1997-08-01', '1997-09-01')).plot(alpha=0.3)\n",
    "region = ctn90.sel(latitude=6.6, longitude=-1.6, method='nearest').sel(time=slice('1997-08-01', '1997-09-01'))#,'1999'))\n",
    "region.where(\n",
    "    region.rolling(time=3).count()>=3\n",
    ").plot(marker='*', alpha=0.3)\n",
    "region.where(\n",
    "    region.rolling(time=23).count()>=23\n",
    ").plot(marker='.')\n",
    "plt.title('lenght of the longest heatwave at Ghana')\n",
    "plt.grid()\n"
   ]
  },
  {
   "cell_type": "code",
   "execution_count": null,
   "id": "fd98eb67-97e0-4bab-b167-4a4132aa4775",
   "metadata": {
    "jupyter": {
     "source_hidden": true
    },
    "tags": []
   },
   "outputs": [],
   "source": []
  },
  {
   "cell_type": "code",
   "execution_count": null,
   "id": "a1695e95-4cbf-4bab-bd5d-88a9159eb2ab",
   "metadata": {
    "jupyter": {
     "source_hidden": true
    },
    "tags": []
   },
   "outputs": [],
   "source": [
    "####tn#### 2\n",
    "tnn.sel(latitude=6.8, longitude=-5.2, method='nearest').sel(time=slice('1999-07-09', '1999-08-01')).plot(alpha=0.3)\n",
    "region = ctn90.sel(latitude=6.8, longitude=-5.2, method='nearest').sel(time=slice('1999-07-09', '1999-08-01'))#,'1999'))\n",
    "region.where(\n",
    "    region.rolling(time=1).count()>=1\n",
    ").plot(marker='*', alpha=0.3)\n",
    "region.where(\n",
    "    region.rolling(time=17).count()>=17\n",
    ").plot(marker='.')\n",
    "plt.title('lenght of the longest heatwave at Ivory Coast')\n",
    "plt.grid()"
   ]
  },
  {
   "cell_type": "code",
   "execution_count": null,
   "id": "77211668-9866-4eea-a275-548fd572ff20",
   "metadata": {},
   "outputs": [],
   "source": []
  },
  {
   "cell_type": "code",
   "execution_count": null,
   "id": "3c2bf0c2-92d7-4445-bec6-7dee7e463386",
   "metadata": {
    "tags": []
   },
   "outputs": [],
   "source": [
    "#### Rolling pctl\n",
    "ds = hwn_tx_roll.groupby('time.year').sum('time').idxmax('year').load().astype(int)#.plot(ax = ax,cmap='Set2')"
   ]
  },
  {
   "cell_type": "code",
   "execution_count": null,
   "id": "cab35f5d-058a-4e97-8bc7-64c97e2ca969",
   "metadata": {
    "tags": []
   },
   "outputs": [],
   "source": [
    "fig, ax = plt.subplots(ncols=1, nrows=1, figsize=(7, 7), subplot_kw={'projection': crs.PlateCarree()})\n",
    "# cb = ax.contourf(ds,levels= np.linspace(1980,2016,1), cmap='rainbow')\n",
    "cb = ds.where((ds>0)).plot(ax=ax, cmap='Set2', add_colorbar=False)\n",
    "ax.set_extent([-17.5,15,4,24])\n",
    "ax.add_feature(feature.COASTLINE)\n",
    "ax.add_feature(feature.BORDERS)\n",
    "ax.add_feature(feature.STATES, linewidth = 0.2)\n",
    "ax.set_xticks([-17,-10,0,10], crs=crs.PlateCarree())\n",
    "ax.set_yticks([5,10,15,20], crs=crs.PlateCarree())\n",
    "lon_formatter = LongitudeFormatter(zero_direction_label=True)\n",
    "lat_formatter = LatitudeFormatter()\n",
    "ax.xaxis.set_major_formatter(lon_formatter)\n",
    "ax.yaxis.set_major_formatter(lat_formatter)\n",
    "cbar = fig.colorbar(cb , orientation ='horizontal')\n",
    "cbar.ax.tick_params(rotation=45)\n"
   ]
  },
  {
   "cell_type": "code",
   "execution_count": null,
   "id": "e87c56a7-2fd5-493d-bd43-e97f6925a6b3",
   "metadata": {},
   "outputs": [],
   "source": []
  },
  {
   "cell_type": "code",
   "execution_count": null,
   "id": "0b519b1c-c2f6-473b-a2cb-b64da652b84b",
   "metadata": {
    "tags": []
   },
   "outputs": [],
   "source": [
    "####tx#### 1\n",
    "plt.figure(figsize=(6,3))\n",
    "txx.sel(latitude=21, longitude=15, method='nearest').sel(time=slice('2008-10-27', '2008-11-16')).plot(alpha=0.3, label='Temperature')\n",
    "region = tx.sel(latitude=21, longitude=15, method='nearest').sel(time=slice('2008-10-27', '2008-11-16'))#,'1999'))\n",
    "region.where(\n",
    "    region.rolling(time=1).count()>=1\n",
    ").plot(marker='*', alpha=0.3, label='Heat wave days')\n",
    "region.where(\n",
    "    region.rolling(time=10).count()>=10\n",
    ").plot(marker='.')\n",
    "plt.grid()\n",
    "plt.title('')\n",
    "plt.legend()\n",
    "plt.savefig('/media/kenz/1B8D1A637BBA134B/CHIRTS/final_figures/hwd_tx_line.eps', bbox_inches='tight')"
   ]
  },
  {
   "cell_type": "code",
   "execution_count": null,
   "id": "9ae71716-fd01-4ede-9213-5e5219844ae4",
   "metadata": {
    "jupyter": {
     "source_hidden": true
    },
    "tags": []
   },
   "outputs": [],
   "source": [
    "####tx#### 1\n",
    "plt.figure(figsize=(6,3))\n",
    "txx.sel(latitude=21, longitude=15, method='nearest').sel(time=slice('2008-10-27', '2008-11-13')).plot(alpha=0.3, label='Temperature')\n",
    "region = tx.sel(latitude=21, longitude=15, method='nearest').sel(time=slice('2008-10-27', '2008-11-13'))#,'1999'))\n",
    "region.where(\n",
    "    region.rolling(time=1).count()>=1\n",
    ").plot(marker='*', alpha=0.3, label='Heat wave days')\n",
    "region.where(\n",
    "    region.rolling(time=10).count()>=10\n",
    ").plot(marker='.')\n",
    "plt.grid()\n",
    "plt.title('')\n",
    "plt.legend()\n",
    "plt.savefig('/media/kenz/1B8D1A637BBA134B/CHIRTS/final_figures/hwd_tx_line.jpeg', bbox_inches='tight')"
   ]
  },
  {
   "cell_type": "code",
   "execution_count": null,
   "id": "37165eb1-2e27-41e9-83bb-622a16f28cd4",
   "metadata": {},
   "outputs": [],
   "source": []
  },
  {
   "cell_type": "code",
   "execution_count": null,
   "id": "a98ffdc3-1f1e-4eb0-a879-8491bad4a2be",
   "metadata": {},
   "outputs": [],
   "source": [
    "##### tn\n",
    "plt.figure(figsize=(6,3))\n",
    "tnn.sel(latitude=23, longitude=15, method='nearest').sel(time=slice('1988-10-04', '1988-10-24')).plot(alpha=0.3, label='Temperature')\n",
    "region = tn.sel(latitude=23, longitude=15, method='nearest').sel(time=slice('1988-10-04', '1988-10-24'))\n",
    "region.where(\n",
    "    region.rolling(time=1).count()>=1\n",
    ").plot(marker='*', alpha=0.3, label='Heat wave day')\n",
    "region.where(\n",
    "    region.rolling(time=11).count()>=11\n",
    ").plot(marker='.')\n",
    "plt.title('')\n",
    "plt.grid()\n",
    "plt.legend()\n",
    "plt.savefig('/media/kenz/1B8D1A637BBA134B/CHIRTS/final_figures/hwd_tn_line.eps', bbox_inches='tight')"
   ]
  },
  {
   "cell_type": "code",
   "execution_count": null,
   "id": "eaddfd8c-5dfb-4da4-850a-b202052bbb84",
   "metadata": {},
   "outputs": [],
   "source": []
  },
  {
   "cell_type": "code",
   "execution_count": null,
   "id": "455b1d9a-169a-4609-808f-13b5c7707bac",
   "metadata": {
    "tags": []
   },
   "outputs": [],
   "source": [
    "##### ehf #####\n",
    "plt.figure(figsize=(6,3))\n",
    "g = ehf.sel(latitude=8.46, longitude=-11.79, method='nearest').sel(time=slice('2011-03-14','2011-04-16'))\n",
    "tx_r = tmean_d.sel(latitude=8.46, longitude=-11.79, method='nearest').sel(time=slice('2011-03-14','2011-04-16'))\n",
    "\n",
    "tx_r.plot(label = 'Temperature')\n",
    "tx_r.sel(time=slice('2011-03-19','2011-04-10')).plot(marker='*', label='Heat wave day')\n",
    "region = tx_r.where(g>0)\n",
    "region.where(\n",
    "    region.rolling(time=10, center=True, min_periods=1).count()>=7\n",
    ").plot(marker='*', color='orange')\n",
    "\n",
    "# region.where(\n",
    "#     region.rolling(time=1).count()>=1\n",
    "# ).plot(marker='.')\n",
    "plt.title('')\n",
    "plt.grid()\n",
    "plt.legend()\n",
    "plt.savefig('/media/kenz/1B8D1A637BBA134B/CHIRTS/final_figures/ehf_line.eps', bbox_inches='tight')"
   ]
  },
  {
   "cell_type": "code",
   "execution_count": null,
   "id": "c182cfa3-ff16-4bf7-8269-595021b4fcdf",
   "metadata": {},
   "outputs": [],
   "source": []
  },
  {
   "cell_type": "code",
   "execution_count": null,
   "id": "4e7b33dd-cd8e-4719-afd5-0ebd8327d30e",
   "metadata": {},
   "outputs": [],
   "source": []
  },
  {
   "cell_type": "code",
   "execution_count": null,
   "id": "ac5c9f63-471a-467d-a773-6ab0cc5f9732",
   "metadata": {
    "jupyter": {
     "source_hidden": true
    },
    "tags": []
   },
   "outputs": [],
   "source": [
    "### Using monthly analysis\n",
    "l1=-22\n",
    "l2=20\n",
    "l3=20\n",
    "l4=2\n",
    "def plt_maps(hd,data,temp,data_str,data_sst,dates,level,wind_thres,temp_thres, rad_thres, sst_thres,rh_thres):\n",
    "    import matplotlib as mpl\n",
    "    def show_axes():\n",
    "        for i,j in enumerate(ax):\n",
    "            ax[i].set_extent([l1,l2,l4,l3])\n",
    "            ax[i].add_feature(feature.COASTLINE)\n",
    "            ax[i].add_feature(feature.BORDERS)\n",
    "            ax[i].add_feature(feature.STATES, linewidth = 0.2)\n",
    "            ax[i].set_xticks([-15,-10,-5,0,5,10], crs=crs.PlateCarree())\n",
    "            ax[i].set_yticks([5,10,15,20], crs=crs.PlateCarree())\n",
    "            lon_formatter = LongitudeFormatter(zero_direction_label=True)\n",
    "            lat_formatter = LatitudeFormatter()\n",
    "            ax[i].xaxis.set_major_formatter(lon_formatter)\n",
    "            ax[i].yaxis.set_major_formatter(lat_formatter)\n",
    "    fig, ax = plt.subplots(ncols=4, nrows=3, figsize=(15, 10),sharex=True, subplot_kw={'projection': crs.PlateCarree()})\n",
    "    ax = ax.flatten()\n",
    "    show_axes()\n",
    "    cmap = mpl.cm.rainbow\n",
    "    cm = 'pink_r'\n",
    "    # norm = mpl.colors.Normalize(vmax=wind_thres[0], vmin=wind_thres[1])\n",
    "    # norm = mpl.colors.Normalize(vmin=0, vmax=int(wind_speed.max()))\n",
    "    norm = mpl.colors.Normalize(vmin=0, vmax=wind_thres)\n",
    "    # dates = ['1999-07-12', '1999-07-17', '1999-07-22', '1999-07-27']\n",
    "    days = ['Day 0', 'Day 5', 'Day 10', 'Day 15']\n",
    "\n",
    "    for i in range(0,4):\n",
    "        hwnp = hd.where(hd>0).plot(ax=ax[i],cbar_kwargs={'orientation': 'horizontal', 'label':'HWD'}, vmax = 18, cmap='bone_r')\n",
    "        ax[i].set_title(days[i])\n",
    "\n",
    "        \n",
    "    for i, j in enumerate(dates):    \n",
    "        rhp = data.r.sel(longitude=slice(l1,l2), latitude=slice(l3,l4)).sortby('latitude').sel(time=f'{dates[i]}T03', method='nearest').plot.contour(\n",
    "            ax=ax[i+4],add_colorbar=False, cmap= 'rainbow', vmin=rh_thres[1], vmax=rh_thres[0])\n",
    "        temp = tnn.sel(longitude=slice(l1,l2), latitude=slice(l4,l3)).sel(time=f'{dates[i]}', method = 'nearest').plot(\n",
    "            ax=ax[i+4],cmap = cm,cbar_kwargs={'orientation': 'horizontal','label':'Temperature [$^o$C]'},vmax=temp_thres[0], vmin=temp_thres[1])\n",
    "        radp = data_str.sel(longitude=slice(l1,l2), latitude=slice(l3,l4)).sortby('latitude').sel(\n",
    "            time=f'{dates[i]}T03', method = 'nearest').plot(ax=ax[8+i],cbar_kwargs={\n",
    "            'orientation': 'horizontal', 'label':'OLR [$Wm^2$C]'}, cmap= 'rainbow', vmax = rad_thres[0], vmin=rad_thres[1])\n",
    "        sstp = data_sst.sel(longitude=slice(l1,l2), latitude=slice(l3,l4)).sortby('latitude').sel(time=f'{dates[i]}T03').plot(\n",
    "            ax=ax[8+i],add_colorbar=False, cmap = 'jet', vmax=sst_thres[0], vmin=sst_thres[1])\n",
    "        # ds = data.sel(longitude=slice(-15,10), latitude=slice(15,0)).sortby('latitude').drop(\n",
    "        #     ['z','r','t','w','vo']).sel(time=f'{dates[i]}T03', method='nearest')\n",
    "        # strm = ax[i].streamplot(x=ds[\"longitude\"],y=ds[\"latitude\"], u=ds[\"u\"], v=ds[\"v\"], color=ds.u.values, linewidth=1, cmap='rainbow', density=0.6, norm=norm)\n",
    "        ds = data.sel(longitude=slice(l1,l2), latitude=slice(l3,l4)).sortby('latitude').drop(\n",
    "            ['z','r','t','w','vo']).sel(time=f'{dates[i]}T03', method='nearest')\n",
    "        wind_speed = np.sqrt(ds.u[::3, ::3] ** 2 + ds.v[::3, ::3] ** 2)\n",
    "        # norm = mpl.colors.Normalize(vmin=0, vmax=int(wind_speed.max()))\n",
    "        quiver = ax[i].quiver(ds.u[::3,::3].longitude, ds.u[::3,::3].latitude, \n",
    "                               ds.u[::3,::3], ds.v[::3,::3],wind_speed, scale=1200-int(level[:-3]),\n",
    "                              cmap='rainbow',linewidth=1.50, norm=norm, headwidth=5, headlength=5)\n",
    "\n",
    "    for i in range(0,12):\n",
    "        ax[i].set_xlabel(None)\n",
    "        ax[i].set_ylabel(None)\n",
    "\n",
    "    cbmap = [rhp,sstp]#,strm]\n",
    "    lb = ['Relative Humidity [%]','Sea Surface Temperature [$^o$C]']\n",
    "    for i, j in enumerate([0.45, 0.13]):#, 0.18]):\n",
    "        cax = fig.add_axes([1, j, 0.02, 0.15])\n",
    "        fig.colorbar(cbmap[i], cax=cax, orientation='vertical', label = lb[i])\n",
    "\n",
    "    cax = fig.add_axes([1, 0.77, 0.02, 0.15])\n",
    "    # cbar = fig.colorbar(strm.lines, cax=cax, orientation='vertical', label = 'wind speed [ms$^-2$]')\n",
    "    cbar = fig.colorbar(quiver, cax=cax, orientation='vertical', label='wind speed [ms$^-2$]')\n",
    "\n",
    "    fig.suptitle(f'Pressure level = {level[:-3]} hpa', fontweight ='bold')\n",
    "    plt.tight_layout()\n",
    "    # plt.savefig(path+f'/figures/temp_wind_radiation_rh_hwn_sst_monthly_pctl_{level}{dates[0]}_1983-2016.jpeg', bbox_inches='tight')"
   ]
  },
  {
   "cell_type": "code",
   "execution_count": null,
   "id": "79e6db50-9d3b-4e65-938e-e29f7ddfb2f4",
   "metadata": {
    "tags": []
   },
   "outputs": [],
   "source": []
  },
  {
   "cell_type": "markdown",
   "id": "252676d2-5a87-48e1-a4f4-b4fae0414b08",
   "metadata": {
    "jupyter": {
     "source_hidden": true
    },
    "tags": []
   },
   "source": [
    "## Monthly pctl"
   ]
  },
  {
   "cell_type": "code",
   "execution_count": null,
   "id": "389426c7-54fd-410b-9fea-1930c5330e14",
   "metadata": {
    "tags": []
   },
   "outputs": [],
   "source": [
    "hdtn = hwn_tn.groupby('time.year').sum('time').max('year').sel(longitude=slice(-20,15), latitude=slice(0,18))\n",
    "data_str_tn = -(xr.open_dataset('../Era_5/olr_t2.nc').ttr/3600*3)\n",
    "data_sst_tn = xr.open_dataset('../Era_5/ss-temp.nc').sst-273.15\n",
    "# tnn"
   ]
  },
  {
   "cell_type": "code",
   "execution_count": null,
   "id": "05851564-bea1-4c00-ada3-67aa2fecf6b8",
   "metadata": {
    "tags": []
   },
   "outputs": [],
   "source": []
  },
  {
   "cell_type": "code",
   "execution_count": null,
   "id": "0e11268e-156e-4fa6-8928-9bdec8062060",
   "metadata": {
    "jupyter": {
     "source_hidden": true
    },
    "tags": []
   },
   "outputs": [],
   "source": [
    "data_950_tn = xr.open_dataset('../Era_5/adaptor.mars.internal-1696568296.3407738-20356-11-6eb92cae-2150-478f-8f10-5ce4465adc91.nc').sel(level=950)\n",
    "plt_maps(hdtn, data_950_tn, tnn, data_str_tn,data_sst_tn,dates = ['1997-08-09', '1997-08-15', '1997-08-22', '1997-08-30'],level = '950 tn',\n",
    "        wind_thres = 14,temp_thres = [30,18], rad_thres = [910,200], sst_thres = [30,23], rh_thres=[120,0])"
   ]
  },
  {
   "cell_type": "code",
   "execution_count": null,
   "id": "c6f22461-e38d-40d5-b2ff-d4b324074209",
   "metadata": {
    "tags": []
   },
   "outputs": [],
   "source": []
  },
  {
   "cell_type": "code",
   "execution_count": null,
   "id": "2f99c833-7530-4943-a093-a81b89508a66",
   "metadata": {
    "tags": []
   },
   "outputs": [],
   "source": []
  },
  {
   "cell_type": "code",
   "execution_count": null,
   "id": "76deaf84-1baa-4efc-b017-f643b444f786",
   "metadata": {
    "jupyter": {
     "source_hidden": true
    },
    "tags": []
   },
   "outputs": [],
   "source": [
    "data_850_tn = xr.open_dataset('../Era_5/adaptor.mars.internal-1696568296.3407738-20356-11-6eb92cae-2150-478f-8f10-5ce4465adc91.nc').sel(level=850)\n",
    "plt_maps(hdtn, data_850_tn, tnn, data_str_tn,data_sst_tn,dates = ['1997-08-09', '1997-08-15', '1997-08-22', '1997-08-30'],level = '850 tn',\n",
    "        wind_thres = 15,temp_thres = [30,18], rad_thres = [910,200], sst_thres = [30,23], rh_thres=[120,0])"
   ]
  },
  {
   "cell_type": "code",
   "execution_count": null,
   "id": "93beda2f-0478-48ec-9282-4da2c5fc0818",
   "metadata": {},
   "outputs": [],
   "source": []
  },
  {
   "cell_type": "code",
   "execution_count": null,
   "id": "d9193503-34df-4869-a6fb-eee6575fe79e",
   "metadata": {
    "jupyter": {
     "source_hidden": true
    },
    "tags": []
   },
   "outputs": [],
   "source": [
    "data_500_tn = xr.open_dataset('../Era_5/adaptor.mars.internal-1696568296.3407738-20356-11-6eb92cae-2150-478f-8f10-5ce4465adc91.nc').sel(level=500)\n",
    "plt_maps(hdtn, data_500_tn, tn, data_str_tn,data_sst_tn,dates = ['1997-08-09', '1997-08-15', '1997-08-22', '1997-08-30'],level = '500 tn',\n",
    "        wind_thres = 20,temp_thres = [30,18], rad_thres = [910,200], sst_thres = [30,23], rh_thres=[120,0])"
   ]
  },
  {
   "cell_type": "code",
   "execution_count": null,
   "id": "dc07b7c5-ba6c-45c2-8062-14282e8a4aba",
   "metadata": {},
   "outputs": [],
   "source": []
  },
  {
   "cell_type": "code",
   "execution_count": null,
   "id": "b86516de-fb97-43aa-9287-e19cdfdb3175",
   "metadata": {
    "jupyter": {
     "source_hidden": true
    },
    "tags": []
   },
   "outputs": [],
   "source": [
    "data_200_tn = xr.open_dataset('../Era_5/adaptor.mars.internal-1696568296.3407738-20356-11-6eb92cae-2150-478f-8f10-5ce4465adc91.nc').sel(level=200)\n",
    "plt_maps(hdtn, data_200_tn, tn, data_str_tn,data_sst_tn,dates = ['1997-08-09', '1997-08-15', '1997-08-22', '1997-08-30'],level = '200 tn',\n",
    "        wind_thres = 60,temp_thres = [30,18], rad_thres = [910,200], sst_thres = [30,25], rh_thres=[120,0])"
   ]
  },
  {
   "cell_type": "code",
   "execution_count": null,
   "id": "e4a49281-deb7-46fb-9466-280270c0f0fb",
   "metadata": {},
   "outputs": [],
   "source": []
  },
  {
   "cell_type": "code",
   "execution_count": null,
   "id": "846cd258-9e41-492b-8086-241ec9062646",
   "metadata": {},
   "outputs": [],
   "source": [
    "### Scenario 2"
   ]
  },
  {
   "cell_type": "code",
   "execution_count": null,
   "id": "08265ae9-1830-4345-b29b-056259d4eb69",
   "metadata": {
    "jupyter": {
     "source_hidden": true
    },
    "tags": []
   },
   "outputs": [],
   "source": [
    "data_950_tn = xr.open_dataset('../Era_5/adaptor.mars.internal-1696568296.3407738-20356-11-6eb92cae-2150-478f-8f10-5ce4465adc91.nc').sel(level=950)\n",
    "plt_maps(hdtn, data_950_tn, tnn, data_str_tn,data_sst_tn,dates = ['1999-07-10', '1999-07-17', '1999-07-22', '1999-07-27'],level = '950 tn',\n",
    "        wind_thres = 14,temp_thres = [30,18], rad_thres = [920,200], sst_thres = [30,23], rh_thres=[120,0])"
   ]
  },
  {
   "cell_type": "code",
   "execution_count": null,
   "id": "91b9699b-28e0-4f4f-a197-c4412a8bc61a",
   "metadata": {},
   "outputs": [],
   "source": []
  },
  {
   "cell_type": "code",
   "execution_count": null,
   "id": "bc2d965c-6ab6-4382-b758-a5afcc250635",
   "metadata": {
    "jupyter": {
     "source_hidden": true
    },
    "tags": []
   },
   "outputs": [],
   "source": [
    "data_850_tn = xr.open_dataset('../Era_5/adaptor.mars.internal-1696568296.3407738-20356-11-6eb92cae-2150-478f-8f10-5ce4465adc91.nc').sel(level=850)\n",
    "plt_maps(hdtn, data_950_tn, tnn, data_str_tn,data_sst_tn,dates = ['1999-07-10', '1999-07-17', '1999-07-22', '1999-07-27'],level = '850 tn',\n",
    "        wind_thres = 14,temp_thres = [30,18], rad_thres = [920,200], sst_thres = [30,23], rh_thres=[120,0])"
   ]
  },
  {
   "cell_type": "code",
   "execution_count": null,
   "id": "58e6c922-8c1d-4f96-8049-1fd344a15817",
   "metadata": {
    "jupyter": {
     "source_hidden": true
    },
    "tags": []
   },
   "outputs": [],
   "source": []
  },
  {
   "cell_type": "code",
   "execution_count": null,
   "id": "b03f991d-2838-4fa1-b3b4-a39a2c4ebaa4",
   "metadata": {
    "jupyter": {
     "source_hidden": true
    },
    "tags": []
   },
   "outputs": [],
   "source": [
    "data_500_tn = xr.open_dataset('../Era_5/adaptor.mars.internal-1696568296.3407738-20356-11-6eb92cae-2150-478f-8f10-5ce4465adc91.nc').sel(level=500)\n",
    "plt_maps(hdtn, data_500_tn, tn, data_str_tn,data_sst_tn,dates = ['1999-07-10', '1999-07-17', '1999-07-22', '1999-07-27'],level = '500 tn',\n",
    "        wind_thres = 20,temp_thres = [30,18], rad_thres = [920,200], sst_thres = [30,23], rh_thres=[120,0])"
   ]
  },
  {
   "cell_type": "code",
   "execution_count": null,
   "id": "59610cbd-1f1b-417c-bcfe-9ae484e2928a",
   "metadata": {},
   "outputs": [],
   "source": []
  },
  {
   "cell_type": "code",
   "execution_count": null,
   "id": "23e12bf3-6dea-4b6d-b8c4-d58f97c18b2f",
   "metadata": {
    "jupyter": {
     "source_hidden": true
    },
    "tags": []
   },
   "outputs": [],
   "source": [
    "data_200_tn = xr.open_dataset('../Era_5/adaptor.mars.internal-1696568296.3407738-20356-11-6eb92cae-2150-478f-8f10-5ce4465adc91.nc').sel(level=200)\n",
    "plt_maps(hdtn, data_200_tn, tn, data_str_tn,data_sst_tn,dates = ['1999-07-10', '1999-07-17', '1999-07-22', '1999-07-27'],level = '200 tn',\n",
    "        wind_thres = 50,temp_thres = [30,18], rad_thres = [920,200], sst_thres = [30,25], rh_thres=[120,0])"
   ]
  },
  {
   "cell_type": "code",
   "execution_count": null,
   "id": "f4085780-25b3-43c7-9310-7fe7377bfe48",
   "metadata": {},
   "outputs": [],
   "source": []
  },
  {
   "cell_type": "code",
   "execution_count": null,
   "id": "42c72393-3637-419b-9cee-293613ab7f74",
   "metadata": {
    "jupyter": {
     "source_hidden": true
    },
    "tags": []
   },
   "outputs": [],
   "source": [
    "# level =1000\n",
    "def plt_map(hd,data,tmp,data_str,data_sst,dates,level,wind_thres,temp_thres, rad_thres, sst_thres,rh_thres):\n",
    "    import matplotlib as mpl\n",
    "    def show_axes():\n",
    "        for i,j in enumerate(ax):\n",
    "            ax[i].set_extent([-22,25,1,30])\n",
    "            ax[i].add_feature(feature.COASTLINE)\n",
    "            ax[i].add_feature(feature.BORDERS)\n",
    "            ax[i].add_feature(feature.STATES, linewidth = 0.2)\n",
    "            ax[i].set_xticks([-20,-10,0,10,20], crs=crs.PlateCarree())\n",
    "            ax[i].set_yticks([10,20,27], crs=crs.PlateCarree())\n",
    "            lon_formatter = LongitudeFormatter(zero_direction_label=True)\n",
    "            lat_formatter = LatitudeFormatter()\n",
    "            ax[i].xaxis.set_major_formatter(lon_formatter)\n",
    "            ax[i].yaxis.set_major_formatter(lat_formatter)\n",
    "    fig, ax = plt.subplots(ncols=4, nrows=3, figsize=(15, 10),sharex=True, subplot_kw={'projection': crs.PlateCarree()})\n",
    "    ax = ax.flatten()\n",
    "    show_axes()\n",
    "    cmap = mpl.cm.rainbow\n",
    "    cm = 'pink_r'\n",
    "    # norm = mpl.colors.Normalize(vmax=wind_thres[0], vmin=wind_thres[1])\n",
    "    # norm = mpl.colors.Normalize(vmin=0, vmax=int(wind_speed.max()))\n",
    "    norm = mpl.colors.Normalize(vmin=0, vmax=wind_thres)\n",
    "    # dates = ['1999-07-12', '1999-07-17', '1999-07-22', '1999-07-27']\n",
    "    days = ['Day 0', 'Day 5', 'Day 10', 'Day 15']\n",
    "\n",
    "    for i in range(0,4):\n",
    "        hwnp = hd.where(hd>0).plot(ax=ax[i],cbar_kwargs={'orientation': 'horizontal', 'label':'HWD'}, vmax = 18, cmap='bone_r')\n",
    "        ax[i].set_title(days[i])\n",
    "    lon = [-30,25]\n",
    "    lat = [0,35]\n",
    "    for i, j in enumerate(dates):    \n",
    "        rhp = data.r.sel(longitude=slice(lon[0],lon[1]), latitude=slice(lat[1],lat[0])).sortby('latitude').sel(time=f'{dates[i]}T15', method='nearest').plot.contour(\n",
    "            ax=ax[i+4],add_colorbar=False, cmap= 'rainbow', vmin=rh_thres[1], vmax=rh_thres[0])\n",
    "        temp = tmp.sel(longitude=slice(lon[0],lon[1]), latitude=slice(lat[0],lat[1])).sel(time=f'{dates[i]}', method = 'nearest').plot(\n",
    "            ax=ax[i+4],cmap = cm,cbar_kwargs={'orientation': 'horizontal','label':'Temperature [$^o$C]'},vmax=temp_thres[0], vmin=temp_thres[1])\n",
    "        radp = data_str.sel(longitude=slice(lon[0],lon[1]), latitude=slice(lat[1],lat[0])).sortby('latitude').sel(\n",
    "            time=f'{dates[i]}T15', method = 'nearest').plot(ax=ax[8+i],cbar_kwargs={\n",
    "            'orientation': 'horizontal', 'label':'OLR [$Wm^2$C]'}, cmap= 'rainbow', vmax = rad_thres[0], vmin=rad_thres[1])\n",
    "        sstp = data_sst.sel(longitude=slice(lon[0],lon[1]), latitude=slice(lat[1],lat[0])).sortby('latitude').sel(time=f'{dates[i]}T15').plot(\n",
    "            ax=ax[8+i],add_colorbar=False, cmap = 'jet', vmax=sst_thres[0], vmin=sst_thres[1])\n",
    " \n",
    "        ds = data.sel(longitude=slice(lon[0],lon[1]), latitude=slice(lat[1],lat[0])).sortby('latitude').drop(\n",
    "            ['z','r','t','w','vo']).sel(time=f'{dates[i]}T15', method='nearest')\n",
    "        wind_speed = np.sqrt(ds.u[::3, ::3] ** 2 + ds.v[::3, ::3] ** 2)\n",
    "        # norm = mpl.colors.Normalize(vmin=0, vmax=int(wind_speed.max()))\n",
    "        quiver = ax[i].quiver(ds.u[::3,::3].longitude, ds.u[::3,::3].latitude, \n",
    "                               ds.u[::3,::3], ds.v[::3,::3],wind_speed, scale=1200-int(level[:-3]),\n",
    "                              cmap='rainbow',linewidth=1.50, norm=norm, headwidth=5, headlength=5)\n",
    "\n",
    "    for i in range(0,12):\n",
    "        ax[i].set_xlabel(None)\n",
    "        ax[i].set_ylabel(None)\n",
    "\n",
    "    cbmap = [rhp,sstp]#,strm]\n",
    "    lb = ['Relative Humidity [%]','Sea Surface Temperature [$^o$C]']\n",
    "    for i, j in enumerate([0.45, 0.13]):#, 0.18]):\n",
    "        cax = fig.add_axes([1, j, 0.02, 0.15])\n",
    "        fig.colorbar(cbmap[i], cax=cax, orientation='vertical', label = lb[i])\n",
    "\n",
    "    cax = fig.add_axes([1, 0.77, 0.02, 0.15])\n",
    "    # cbar = fig.colorbar(strm.lines, cax=cax, orientation='vertical', label = 'wind speed [ms$^-2$]')\n",
    "    cbar = fig.colorbar(quiver, cax=cax, orientation='vertical', label='wind speed [ms$^-2$]')\n",
    "\n",
    "    fig.suptitle(f'Pressure level = {level[:-3]} hpa', fontweight ='bold')\n",
    "    plt.tight_layout()\n",
    "    # plt.savefig(path+f'/figures/temp_wind_radiation_rh_hwn_sst_monthly_pctl_{level}_{dates[0]}_1983-2016.jpeg', bbox_inches='tight')"
   ]
  },
  {
   "cell_type": "code",
   "execution_count": null,
   "id": "75af30a3-e879-402c-a092-6af6175270d5",
   "metadata": {},
   "outputs": [],
   "source": []
  },
  {
   "cell_type": "code",
   "execution_count": null,
   "id": "0f934ea2-ea5e-405b-85fe-e473212265f9",
   "metadata": {},
   "outputs": [],
   "source": []
  },
  {
   "cell_type": "code",
   "execution_count": null,
   "id": "6851375f-192a-4e80-a3d1-125283c95d7f",
   "metadata": {
    "jupyter": {
     "source_hidden": true
    },
    "tags": []
   },
   "outputs": [],
   "source": [
    "data_str_tx = -(xr.open_dataset('../Era_5/olr.nc').ttr/3600*3)\n",
    "data_sst_tx = xr.open_dataset('../Era_5/ss-temp.nc').drop_duplicates('time').sst-273.15"
   ]
  },
  {
   "cell_type": "code",
   "execution_count": null,
   "id": "d56a4720-1e89-4ccb-8604-ff857d39e0fb",
   "metadata": {
    "tags": []
   },
   "outputs": [],
   "source": []
  },
  {
   "cell_type": "code",
   "execution_count": null,
   "id": "fc38684b-cf00-411e-b5e1-5e89cd988cfe",
   "metadata": {
    "jupyter": {
     "source_hidden": true
    },
    "tags": []
   },
   "outputs": [],
   "source": [
    "#### Maximum Temperature \n",
    "hdtx = hwn_tx.groupby('time.year').sum('time').max('year')"
   ]
  },
  {
   "cell_type": "code",
   "execution_count": null,
   "id": "f2ecd18e-9871-4b64-8041-a717bc8e24b4",
   "metadata": {
    "jupyter": {
     "source_hidden": true
    },
    "tags": []
   },
   "outputs": [],
   "source": [
    "data_tx_950 = xr.open_dataset('../Era_5/adaptor.mars.internal-1696586869.7078497-9814-6-e617163c-d080-4831-bbee-0e77f388871a.nc').sel(level=950)\n",
    "plt_map(hdtx, data_tx_950, txx, data_str_tx,data_sst_tx,dates = ['2013-06-26', '2013-07-01', '2013-07-06', '2013-08-11'],level = '950 tx',\n",
    "        wind_thres = 20,temp_thres = [48,20], rad_thres = [1100,300], sst_thres = [32,18], rh_thres=[120,0])"
   ]
  },
  {
   "cell_type": "code",
   "execution_count": null,
   "id": "f0d6afa1-626d-4374-9d2b-1f37f8ee3422",
   "metadata": {},
   "outputs": [],
   "source": []
  },
  {
   "cell_type": "code",
   "execution_count": null,
   "id": "57c57f10-3317-4ecd-b87d-c3ac4e3520a2",
   "metadata": {
    "jupyter": {
     "source_hidden": true
    },
    "tags": []
   },
   "outputs": [],
   "source": [
    "data_tx_850 = xr.open_dataset('../Era_5/adaptor.mars.internal-1696586869.7078497-9814-6-e617163c-d080-4831-bbee-0e77f388871a.nc').sel(level=850)\n",
    "plt_map(hdtx, data_tx_850, txx, data_str_tx,data_sst_tx,dates = ['2013-06-26', '2013-07-01', '2013-07-06', '2013-08-11'],level = '850 tx',\n",
    "        wind_thres = 20,temp_thres = [48,20], rad_thres = [1100,300], sst_thres = [32,18], rh_thres=[120,0])"
   ]
  },
  {
   "cell_type": "code",
   "execution_count": null,
   "id": "4a9c0a91-c62f-45de-8a8b-11a5b2a98601",
   "metadata": {},
   "outputs": [],
   "source": []
  },
  {
   "cell_type": "code",
   "execution_count": null,
   "id": "9a27c2b7-4e5e-487b-8980-983169eb3689",
   "metadata": {
    "jupyter": {
     "source_hidden": true
    },
    "tags": []
   },
   "outputs": [],
   "source": [
    "data_tx_500 = xr.open_dataset('../Era_5/adaptor.mars.internal-1696586869.7078497-9814-6-e617163c-d080-4831-bbee-0e77f388871a.nc').sel(level=500)\n",
    "plt_map(hdtx, data_tx_500, txx, data_str_tx,data_sst_tx,dates = ['2013-06-26', '2013-07-01', '2013-07-06', '2013-08-11'],level = '500 tx',\n",
    "        wind_thres = 22,temp_thres = [48,20], rad_thres = [1100,300], sst_thres = [32,18], rh_thres=[120,0])"
   ]
  },
  {
   "cell_type": "code",
   "execution_count": null,
   "id": "308dfc9c-0089-4607-a004-86bf013cce13",
   "metadata": {},
   "outputs": [],
   "source": []
  },
  {
   "cell_type": "code",
   "execution_count": null,
   "id": "4b7b5b2d-284e-4aed-ba0b-d3f0fc1f411f",
   "metadata": {
    "jupyter": {
     "source_hidden": true
    },
    "tags": []
   },
   "outputs": [],
   "source": [
    "data_tx_200 = xr.open_dataset('../Era_5/adaptor.mars.internal-1696586869.7078497-9814-6-e617163c-d080-4831-bbee-0e77f388871a.nc').sel(level=500)\n",
    "plt_map(hdtx, data_tx_500, txx, data_str_tx,data_sst_tx,dates = ['2013-06-26', '2013-07-01', '2013-07-06', '2013-08-11'],level = '500 tx',\n",
    "        wind_thres = 38,temp_thres = [48,20], rad_thres = [1100,300], sst_thres = [32,18], rh_thres=[120,0])"
   ]
  },
  {
   "cell_type": "code",
   "execution_count": null,
   "id": "62b11a47-3a80-4ccc-93e1-94d1634aa2a4",
   "metadata": {
    "tags": []
   },
   "outputs": [],
   "source": []
  },
  {
   "cell_type": "code",
   "execution_count": null,
   "id": "90f9997e-5324-4c05-b592-211c01220b55",
   "metadata": {
    "tags": []
   },
   "outputs": [],
   "source": [
    "#### Scenario 2"
   ]
  },
  {
   "cell_type": "code",
   "execution_count": null,
   "id": "0a03cb40-17f2-405d-8baa-034be58b5068",
   "metadata": {
    "jupyter": {
     "source_hidden": true
    },
    "tags": []
   },
   "outputs": [],
   "source": [
    "data_tx_950 = xr.open_dataset('../Era_5/adaptor.mars.internal-1696586869.7078497-9814-6-e617163c-d080-4831-bbee-0e77f388871a.nc').sel(level=950)\n",
    "plt_map(hdtx, data_tx_950, txx, data_str_tx,data_sst_tx,dates = ['2015-12-16', '2015-12-23', '2015-12-28', '2016-01-03'],level = '950 tx',\n",
    "        wind_thres = 20,temp_thres = [18,37], rad_thres = [1100,300], sst_thres = [32,18], rh_thres=[120,0])"
   ]
  },
  {
   "cell_type": "code",
   "execution_count": null,
   "id": "c4bcdb1a-a9ab-4937-87b8-5df749cf64f6",
   "metadata": {
    "jupyter": {
     "source_hidden": true
    },
    "tags": []
   },
   "outputs": [],
   "source": []
  },
  {
   "cell_type": "code",
   "execution_count": null,
   "id": "831a0b6a-bf8c-4c04-a184-07385d8fe73e",
   "metadata": {
    "jupyter": {
     "source_hidden": true
    },
    "tags": []
   },
   "outputs": [],
   "source": [
    "data_tx_850 = xr.open_dataset('../Era_5/adaptor.mars.internal-1696586869.7078497-9814-6-e617163c-d080-4831-bbee-0e77f388871a.nc').sel(level=850)\n",
    "plt_map(hdtx, data_tx_850, txx, data_str_tx,data_sst_tx,dates = ['2015-12-16', '2015-12-23', '2015-12-28', '2016-01-03'],level = '850 tx',\n",
    "        wind_thres = 20,temp_thres = [18,37], rad_thres = [1100,300], sst_thres = [32,18], rh_thres=[120,0])"
   ]
  },
  {
   "cell_type": "code",
   "execution_count": null,
   "id": "6069629a-baf3-462f-807b-c1300e67d192",
   "metadata": {
    "jupyter": {
     "source_hidden": true
    },
    "tags": []
   },
   "outputs": [],
   "source": []
  },
  {
   "cell_type": "code",
   "execution_count": null,
   "id": "530bb6ae-38dd-4a4c-bfcd-11bfe76383c4",
   "metadata": {
    "jupyter": {
     "source_hidden": true
    },
    "tags": []
   },
   "outputs": [],
   "source": [
    "data_tx_500 = xr.open_dataset('../Era_5/adaptor.mars.internal-1696586869.7078497-9814-6-e617163c-d080-4831-bbee-0e77f388871a.nc').sel(level=500)\n",
    "plt_map(hdtx, data_tx_500, txx, data_str_tx,data_sst_tx,dates = ['2015-12-16', '2015-12-23', '2015-12-28', '2016-01-03'],level = '500 tx',\n",
    "        wind_thres = 40,temp_thres = [18,37], rad_thres = [1100,300], sst_thres = [32,18], rh_thres=[120,0])"
   ]
  },
  {
   "cell_type": "code",
   "execution_count": null,
   "id": "16e7179a-6490-4bea-92e7-ba3f8001de26",
   "metadata": {
    "jupyter": {
     "source_hidden": true
    },
    "tags": []
   },
   "outputs": [],
   "source": []
  },
  {
   "cell_type": "code",
   "execution_count": null,
   "id": "e4ffbc72-c672-4a98-8423-a3fabbc9ff5f",
   "metadata": {
    "jupyter": {
     "source_hidden": true
    },
    "tags": []
   },
   "outputs": [],
   "source": [
    "data_tx_200 = xr.open_dataset('../Era_5/adaptor.mars.internal-1696586869.7078497-9814-6-e617163c-d080-4831-bbee-0e77f388871a.nc').sel(level=200)\n",
    "plt_map(hdtx, data_tx_200, txx, data_str_tx,data_sst_tx,dates = ['2015-12-16', '2015-12-23', '2015-12-28', '2016-01-03'],level = '200 tx',\n",
    "        wind_thres = 60,temp_thres = [18,37], rad_thres = [1100,300], sst_thres = [32,18], rh_thres=[120,0])"
   ]
  },
  {
   "cell_type": "code",
   "execution_count": null,
   "id": "998f7571-0581-42bf-8f98-285cbe4a721a",
   "metadata": {
    "tags": []
   },
   "outputs": [],
   "source": []
  },
  {
   "cell_type": "code",
   "execution_count": null,
   "id": "f3d4ea53-64ac-4add-94c9-b9665bc8b843",
   "metadata": {
    "tags": []
   },
   "outputs": [],
   "source": [
    "# level =1000\n",
    "def plt_map_roll(hd,data,tmp,data_str,data_sst,dates,level,wind_thres,temp_thres, rad_thres, sst_thres,rh_thres):\n",
    "    import matplotlib as mpl\n",
    "    def show_axes():\n",
    "        for i,j in enumerate(ax):\n",
    "            ax[i].set_extent([-22,25,1,30])\n",
    "            ax[i].add_feature(feature.COASTLINE)\n",
    "            ax[i].add_feature(feature.BORDERS)\n",
    "            ax[i].add_feature(feature.STATES, linewidth = 0.2)\n",
    "            ax[i].set_xticks([-20,-10,0,10,20], crs=crs.PlateCarree())\n",
    "            ax[i].set_yticks([10,20,27], crs=crs.PlateCarree())\n",
    "            lon_formatter = LongitudeFormatter(zero_direction_label=True)\n",
    "            lat_formatter = LatitudeFormatter()\n",
    "            ax[i].xaxis.set_major_formatter(lon_formatter)\n",
    "            ax[i].yaxis.set_major_formatter(lat_formatter)\n",
    "    fig, ax = plt.subplots(ncols=4, nrows=3, figsize=(15, 10),sharex=True, subplot_kw={'projection': crs.PlateCarree()})\n",
    "    ax = ax.flatten()\n",
    "    show_axes()\n",
    "    cmap = mpl.cm.rainbow\n",
    "    cm = 'pink_r'\n",
    "    # norm = mpl.colors.Normalize(vmax=wind_thres[0], vmin=wind_thres[1])\n",
    "    # norm = mpl.colors.Normalize(vmin=0, vmax=int(wind_speed.max()))\n",
    "    norm = mpl.colors.Normalize(vmin=0, vmax=wind_thres)\n",
    "    # dates = ['1999-07-12', '1999-07-17', '1999-07-22', '1999-07-27']\n",
    "    days = ['Prior 5 days', 'Day 1', 'Day 5', 'Post 5 days']\n",
    "\n",
    "    for i in range(0,4):\n",
    "        hwnp = hd.where(hd>0).plot(ax=ax[i],cbar_kwargs={'orientation': 'horizontal', 'label':'HWD'}, vmax = 10, vmin=2, cmap='bone_r')\n",
    "        ax[i].set_title(days[i])\n",
    "    lon = [-30,25]\n",
    "    lat = [0,35]\n",
    "    for i, j in enumerate(dates):    \n",
    "        rhp = data.r.sel(longitude=slice(lon[0],lon[1]), latitude=slice(lat[1],lat[0])).sortby('latitude').sel(time=f'{dates[i]}T15', method='nearest').plot.contour(\n",
    "            ax=ax[i+4],add_colorbar=False, cmap= 'rainbow', vmin=rh_thres[1], vmax=rh_thres[0])\n",
    "        temp = tmp.sel(longitude=slice(lon[0],lon[1]), latitude=slice(lat[0],lat[1])).sel(time=f'{dates[i]}', method = 'nearest').plot(\n",
    "            ax=ax[i+4],cmap = cm,cbar_kwargs={'orientation': 'horizontal','label':'Temperature [$^o$C]'},vmax=temp_thres[0], vmin=temp_thres[1])\n",
    "        radp = data_str.sel(longitude=slice(lon[0],lon[1]), latitude=slice(lat[1],lat[0])).sortby('latitude').sel(\n",
    "            time=f'{dates[i]}T15', method = 'nearest').plot(ax=ax[8+i],cbar_kwargs={\n",
    "            'orientation': 'horizontal', 'label':'OLR [$Wm^2$C]'}, cmap= 'rainbow', vmax = rad_thres[0], vmin=rad_thres[1])\n",
    "        sstp = data_sst.sel(longitude=slice(lon[0],lon[1]), latitude=slice(lat[1],lat[0])).sortby('latitude').sel(time=f'{dates[i]}T15').plot(\n",
    "            ax=ax[8+i],add_colorbar=False, cmap = 'jet', vmax=sst_thres[0], vmin=sst_thres[1])\n",
    " \n",
    "        ds = data.sel(longitude=slice(lon[0],lon[1]), latitude=slice(lat[1],lat[0])).sortby('latitude').drop(\n",
    "            ['z','r','t','w','q']).sel(time=f'{dates[i]}T15', method='nearest')\n",
    "        wind_speed = np.sqrt(ds.u[::3, ::3] ** 2 + ds.v[::3, ::3] ** 2)\n",
    "        # norm = mpl.colors.Normalize(vmin=0, vmax=int(wind_speed.max()))\n",
    "        quiver = ax[i].quiver(ds.u[::3,::3].longitude, ds.u[::3,::3].latitude, \n",
    "                               ds.u[::3,::3], ds.v[::3,::3],wind_speed, scale=1200-int(level[:-3]),\n",
    "                              cmap='rainbow',linewidth=1.50, norm=norm, headwidth=5, headlength=5)\n",
    "\n",
    "    for i in range(0,12):\n",
    "        ax[i].set_xlabel(None)\n",
    "        ax[i].set_ylabel(None)\n",
    "\n",
    "    cbmap = [rhp,sstp]#,strm]\n",
    "    lb = ['Relative Humidity [%]','Sea Surface Temperature [$^o$C]']\n",
    "    for i, j in enumerate([0.45, 0.13]):#, 0.18]):\n",
    "        cax = fig.add_axes([1, j, 0.02, 0.15])\n",
    "        fig.colorbar(cbmap[i], cax=cax, orientation='vertical', label = lb[i])\n",
    "\n",
    "    cax = fig.add_axes([1, 0.77, 0.02, 0.15])\n",
    "    # cbar = fig.colorbar(strm.lines, cax=cax, orientation='vertical', label = 'wind speed [ms$^-2$]')\n",
    "    cbar = fig.colorbar(quiver, cax=cax, orientation='vertical', label='wind speed [ms$^-2$]')\n",
    "\n",
    "    fig.suptitle(f'Pressure level = {level[:-3]} hpa', fontweight ='bold')\n",
    "    plt.tight_layout()\n",
    "    # plt.savefig('/media/kenz/1B8D1A637BBA134B/CHIRTS/final_figures/hwd_tn_line.jpeg', bbox_inches='tight')\n",
    "    plt.savefig(f'/media/kenz/1B8D1A637BBA134B/CHIRTS/final_figures/temp_wind_radiation_rh_hwn_sst_rollin_pctl_tx{level}_{dates[0]}_1983-2016.jpeg', bbox_inches='tight')"
   ]
  },
  {
   "cell_type": "code",
   "execution_count": null,
   "id": "b878b503-6a5a-4e36-967b-da19bcaa659f",
   "metadata": {
    "tags": []
   },
   "outputs": [],
   "source": []
  },
  {
   "cell_type": "code",
   "execution_count": null,
   "id": "8d4d663c-a6ea-48dc-81ea-e9ae5fa3a332",
   "metadata": {
    "tags": []
   },
   "outputs": [],
   "source": [
    "### rolling\n",
    "hdtxx = hwn_tx_roll.groupby('time.year').sum('time').max('year')\n",
    "# hwn\n",
    "# .sel(latitude=21, longitude=15, method='nearest').sel(time=slice('2008-10-30', '2008-11-13'))"
   ]
  },
  {
   "cell_type": "code",
   "execution_count": null,
   "id": "5e66ab4a-5def-4767-a0dd-1bbbc7929c3c",
   "metadata": {
    "tags": []
   },
   "outputs": [],
   "source": [
    "data_ttr = -(xr.open_dataset('../Era_5/olr_t2.nc').ttr/3600*3)\n",
    "data_sst = xr.open_dataset('../Era_5/sst.nc').sst-273.15"
   ]
  },
  {
   "cell_type": "code",
   "execution_count": null,
   "id": "9d55e6e2-87d2-46e8-b289-f8edfc8139c8",
   "metadata": {},
   "outputs": [],
   "source": [
    "data = xr.open_dataset('/media/kenz/1B8D1A637BBA134B/Era_5/wind-tmp-rh.nc').sel(level=950)\n",
    "plt_map_roll(hdtxx, data, txx, data_ttr,data_sst,dates = ['2008-10-27', '2008-11-01', '2008-11-06', '2008-11-14'],level = '950 tx',\n",
    "        wind_thres = 18,temp_thres = [40,20], rad_thres = [1100,350], sst_thres = [33,18], rh_thres=[100,0])"
   ]
  },
  {
   "cell_type": "code",
   "execution_count": null,
   "id": "e6568c0d-4396-426c-bef1-05e1aba7981c",
   "metadata": {
    "tags": []
   },
   "outputs": [],
   "source": [
    "data = xr.open_dataset('/media/kenz/1B8D1A637BBA134B/Era_5/wind-tmp-rh.nc').sel(level=850)\n",
    "plt_map_roll(hdtxx, data, txx, data_ttr,data_sst,dates = ['2008-10-27', '2008-11-01', '2008-11-06', '2008-11-14'],level = '850 tx',\n",
    "        wind_thres = 20,temp_thres = [40,20], rad_thres = [1100,350], sst_thres = [33,18], rh_thres=[120,0])"
   ]
  },
  {
   "cell_type": "code",
   "execution_count": null,
   "id": "4066732e-89f7-49ec-8e82-624b77654c20",
   "metadata": {},
   "outputs": [],
   "source": [
    "data = xr.open_dataset('/media/kenz/1B8D1A637BBA134B/Era_5/wind-tmp-rh.nc').sel(level=500)\n",
    "plt_map_roll(hdtxx, data, txx, data_ttr,data_sst,dates = ['2008-10-27', '2008-11-01', '2008-11-06', '2008-11-14'],level = '500 tx',\n",
    "        wind_thres = 35,temp_thres = [40,20], rad_thres = [1100,350], sst_thres = [33,18], rh_thres=[120,0])"
   ]
  },
  {
   "cell_type": "code",
   "execution_count": null,
   "id": "12f799fc-0e71-4878-80e0-c34649849023",
   "metadata": {},
   "outputs": [],
   "source": [
    "data = xr.open_dataset('/media/kenz/1B8D1A637BBA134B/Era_5/wind-tmp-rh.nc').sel(level=200)\n",
    "plt_map_roll(hdtxx, data, txx, data_ttr,data_sst,dates = ['2008-10-27', '2008-11-01', '2008-11-05', '2008-11-09'],level = '200 tx',\n",
    "        wind_thres = 70,temp_thres = [40,20], rad_thres = [1100,350], sst_thres = [32,18], rh_thres=[120,0])"
   ]
  },
  {
   "cell_type": "code",
   "execution_count": null,
   "id": "c069f0fc-c1fb-4302-9eb6-9df4e7f3c2bf",
   "metadata": {},
   "outputs": [],
   "source": []
  },
  {
   "cell_type": "code",
   "execution_count": null,
   "id": "a18710da-b9cc-4ae7-954e-d4a962eec6ec",
   "metadata": {
    "tags": []
   },
   "outputs": [],
   "source": [
    "####### tn ####\n",
    "hdtnn = hwn_tn_roll.groupby('time.year').sum('time').max('year')"
   ]
  },
  {
   "cell_type": "code",
   "execution_count": null,
   "id": "0ef00d89-6218-40cd-b9b8-e4f48daff435",
   "metadata": {
    "tags": []
   },
   "outputs": [],
   "source": [
    "### Using 10 pctl analysis\n",
    "l1=-22\n",
    "l2=20\n",
    "l3=30\n",
    "l4=0\n",
    "def plt_map_roll_tn(hd,data,temp,data_str,data_sst,dates,level,wind_thres,temp_thres, rad_thres, sst_thres,rh_thres):\n",
    "    \n",
    "    import matplotlib as mpl\n",
    "    def show_axes():\n",
    "        for i,j in enumerate(ax):\n",
    "            ax[i].set_extent([-22,25,1,27])\n",
    "            ax[i].add_feature(feature.COASTLINE)\n",
    "            ax[i].add_feature(feature.BORDERS)\n",
    "            ax[i].add_feature(feature.STATES, linewidth = 0.2)\n",
    "            ax[i].set_xticks([-20,-10,0,10,20], crs=crs.PlateCarree())\n",
    "            ax[i].set_yticks([10,20,27], crs=crs.PlateCarree())\n",
    "            lon_formatter = LongitudeFormatter(zero_direction_label=True)\n",
    "            lat_formatter = LatitudeFormatter()\n",
    "            ax[i].xaxis.set_major_formatter(lon_formatter)\n",
    "            ax[i].yaxis.set_major_formatter(lat_formatter)\n",
    "    fig, ax = plt.subplots(ncols=4, nrows=3, figsize=(15, 10),sharex=True, subplot_kw={'projection': crs.PlateCarree()})    \n",
    "    \n",
    "    ax = ax.flatten()\n",
    "    show_axes()\n",
    "    cmap = mpl.cm.rainbow\n",
    "    cm = 'pink_r'\n",
    "    # norm = mpl.colors.Normalize(vmax=wind_thres[0], vmin=wind_thres[1])\n",
    "    # norm = mpl.colors.Normalize(vmin=0, vmax=int(wind_speed.max()))\n",
    "    norm = mpl.colors.Normalize(vmin=0, vmax=wind_thres)\n",
    "    # dates = ['1999-07-12', '1999-07-17', '1999-07-22', '1999-07-27']\n",
    "    days = ['Prior 5 days', 'Day 1', 'Day 5', 'Post 5 days']\n",
    "\n",
    "    for i in range(0,4):\n",
    "        hwnp = hd.where(hd>0).plot(ax=ax[i],cbar_kwargs={'orientation': 'horizontal', 'label':'HWD'}, vmax = 11, cmap='bone_r')\n",
    "        ax[i].set_title(days[i])\n",
    "\n",
    "        \n",
    "    for i, j in enumerate(dates):    \n",
    "        rhp = data.r.sel(longitude=slice(l1,l2), latitude=slice(l3,l4)).sortby('latitude').sel(time=f'{dates[i]}T03', method='nearest').plot.contour(\n",
    "            ax=ax[i+4],add_colorbar=False, cmap= 'rainbow', vmin=rh_thres[1], vmax=rh_thres[0])\n",
    "        temp = tnn.sel(longitude=slice(l1,l2), latitude=slice(l4,l3)).sel(time=f'{dates[i]}', method = 'nearest').plot(\n",
    "            ax=ax[i+4],cmap = cm,cbar_kwargs={'orientation': 'horizontal','label':'Temperature [$^o$C]'},vmax=temp_thres[0], vmin=temp_thres[1])\n",
    "        radp = data_str.sel(longitude=slice(l1,l2), latitude=slice(l3,l4)).sortby('latitude').sel(\n",
    "            time=f'{dates[i]}T03', method = 'nearest').plot(ax=ax[8+i],cbar_kwargs={\n",
    "            'orientation': 'horizontal', 'label':'OLR [$Wm^2$C]'}, cmap= 'rainbow', vmax = rad_thres[0], vmin=rad_thres[1])\n",
    "        sstp = data_sst.sel(longitude=slice(l1,l2), latitude=slice(l3,l4)).sortby('latitude').sel(time=f'{dates[i]}T03').plot(\n",
    "            ax=ax[8+i],add_colorbar=False, cmap = 'jet', vmax=sst_thres[0], vmin=sst_thres[1])\n",
    "        # ds = data.sel(longitude=slice(-15,10), latitude=slice(15,0)).sortby('latitude').drop(\n",
    "        #     ['z','r','t','w','vo']).sel(time=f'{dates[i]}T03', method='nearest')\n",
    "        # strm = ax[i].streamplot(x=ds[\"longitude\"],y=ds[\"latitude\"], u=ds[\"u\"], v=ds[\"v\"], color=ds.u.values, linewidth=1, cmap='rainbow', density=0.6, norm=norm)\n",
    "        ds = data.sel(longitude=slice(l1,l2), latitude=slice(l3,l4)).sortby('latitude').drop(\n",
    "            ['z','r','t','w','q']).sel(time=f'{dates[i]}T03', method='nearest')\n",
    "        wind_speed = np.sqrt(ds.u[::3, ::3] ** 2 + ds.v[::3, ::3] ** 2)\n",
    "        # norm = mpl.colors.Normalize(vmin=0, vmax=int(wind_speed.max()))\n",
    "        quiver = ax[i].quiver(ds.u[::3,::3].longitude, ds.u[::3,::3].latitude, \n",
    "                               ds.u[::3,::3], ds.v[::3,::3],wind_speed, scale=1200-int(level[:-3]),\n",
    "                              cmap='rainbow',linewidth=1.50, norm=norm, headwidth=5, headlength=5)\n",
    "\n",
    "    for i in range(0,12):\n",
    "        ax[i].set_xlabel(None)\n",
    "        ax[i].set_ylabel(None)\n",
    "\n",
    "    cbmap = [rhp,sstp]#,strm]\n",
    "    lb = ['Relative Humidity [%]','Sea Surface Temperature [$^o$C]']\n",
    "    for i, j in enumerate([0.45, 0.13]):#, 0.18]):\n",
    "        cax = fig.add_axes([1, j, 0.02, 0.15])\n",
    "        fig.colorbar(cbmap[i], cax=cax, orientation='vertical', label = lb[i])\n",
    "\n",
    "    cax = fig.add_axes([1, 0.77, 0.02, 0.15])\n",
    "    # cbar = fig.colorbar(strm.lines, cax=cax, orientation='vertical', label = 'wind speed [ms$^-2$]')\n",
    "    cbar = fig.colorbar(quiver, cax=cax, orientation='vertical', label='wind speed [ms$^-2$]')\n",
    "\n",
    "    fig.suptitle(f'Pressure level = {level[:-3]} hpa', fontweight ='bold')\n",
    "    plt.tight_layout()\n",
    "    plt.savefig(f'/media/kenz/1B8D1A637BBA134B/CHIRTS/final_figures/temp_wind_radiation_rh_hwn_sst_10day_pctl_tn_{level}{dates[0]}_1983-2016.jpeg', bbox_inches='tight')"
   ]
  },
  {
   "cell_type": "code",
   "execution_count": null,
   "id": "cdc3fefd-d1a5-4aec-89d8-5ef89c22f6d2",
   "metadata": {
    "tags": []
   },
   "outputs": [],
   "source": [
    "data = xr.open_dataset('/media/kenz/1B8D1A637BBA134B/Era_5/wind-tmp-rh.nc').sel(level=950)\n",
    "plt_map_roll_tn(hdtnn, data, tnn, data_ttr,data_sst,dates = ['1988-10-04', '1988-10-09', '1988-10-14', '1988-10-24'],level = '950 tn',\n",
    "        wind_thres = 20,temp_thres = [30,18], rad_thres = [1000,200], sst_thres = [30,23], rh_thres=[120,0])"
   ]
  },
  {
   "cell_type": "code",
   "execution_count": null,
   "id": "46d1c9df-3e9d-4a77-803d-745682c34590",
   "metadata": {},
   "outputs": [],
   "source": []
  },
  {
   "cell_type": "code",
   "execution_count": null,
   "id": "3d7d1bc5-2d24-43e4-b0c3-86237c9e5d7e",
   "metadata": {
    "tags": []
   },
   "outputs": [],
   "source": [
    "data = xr.open_dataset('/media/kenz/1B8D1A637BBA134B/Era_5/wind-tmp-rh.nc').sel(level=850)\n",
    "plt_map_roll_tn(hdtnn, data, tnn, data_ttr,data_sst,dates = ['1988-10-04', '1988-10-09', '1988-10-14', '1988-10-24'],level = '850 tn',\n",
    "        wind_thres = 20,temp_thres = [30,18], rad_thres = [1000,200], sst_thres = [30,23], rh_thres=[120,0])"
   ]
  },
  {
   "cell_type": "code",
   "execution_count": null,
   "id": "21ce0790-601e-4308-aad9-2ca99e0a94b9",
   "metadata": {
    "tags": []
   },
   "outputs": [],
   "source": [
    "data = xr.open_dataset('/media/kenz/1B8D1A637BBA134B/Era_5/wind-tmp-rh.nc').sel(level=500)\n",
    "plt_map_roll_tn(hdtnn, data, tnn, data_ttr,data_sst,dates = ['1988-10-04', '1988-10-09', '1988-10-14', '1988-10-24'],level = '500 tn',\n",
    "        wind_thres = 26,temp_thres = [30,18], rad_thres = [1000,200], sst_thres = [30,23], rh_thres=[120,0])"
   ]
  },
  {
   "cell_type": "code",
   "execution_count": null,
   "id": "a44fe1dc-d2f2-4c48-8c9f-9a8e07fbe7a9",
   "metadata": {
    "tags": []
   },
   "outputs": [],
   "source": [
    "data = xr.open_dataset('/media/kenz/1B8D1A637BBA134B/Era_5/wind-tmp-rh.nc').sel(level=200)\n",
    "plt_map_roll_tn(hdtnn, data, tnn, data_ttr,data_sst,dates = ['1988-10-04', '1988-10-09', '1988-10-14', '1988-10-24'],level = '200 tn',\n",
    "        wind_thres = 50,temp_thres = [30,18], rad_thres = [1000,200], sst_thres = [30,23], rh_thres=[120,0])"
   ]
  },
  {
   "cell_type": "code",
   "execution_count": null,
   "id": "16a7f867-cbc6-4ac3-9ee7-63490f2b7f81",
   "metadata": {},
   "outputs": [],
   "source": []
  },
  {
   "cell_type": "code",
   "execution_count": null,
   "id": "a42f8d1d-ab7a-49c1-bba5-f45205dd73b7",
   "metadata": {
    "tags": []
   },
   "outputs": [],
   "source": [
    "data = xr.open_dataset('/media/kenz/1B8D1A637BBA134B/Era_5/wind-tmp-rh.nc').chunk({'longitude':50,'latitude':50})"
   ]
  },
  {
   "cell_type": "code",
   "execution_count": null,
   "id": "8fba7e0c-1fa4-4f17-8dc7-8a875a12714c",
   "metadata": {
    "tags": []
   },
   "outputs": [],
   "source": [
    "##### Calculating h ###\n",
    "### h = CpT+Lv+zg\n",
    "### MSE = Q*Lv + T*Cp + Z3*g"
   ]
  },
  {
   "cell_type": "code",
   "execution_count": null,
   "id": "fb74b98e-c444-4bb6-a178-1f4697cc05b6",
   "metadata": {
    "tags": []
   },
   "outputs": [],
   "source": [
    "Cp = 1005\n",
    "Lv = 2500840   #2.25*10**6\n",
    "g = 9.8"
   ]
  },
  {
   "cell_type": "code",
   "execution_count": null,
   "id": "2524ca32-971d-48dd-aa4d-77e92aca411a",
   "metadata": {
    "tags": []
   },
   "outputs": [],
   "source": [
    "MSE = data.q*Lv + data.t*Cp + data.z"
   ]
  },
  {
   "cell_type": "code",
   "execution_count": null,
   "id": "2779fc59-a334-46c6-992c-6d7d08ae29d1",
   "metadata": {
    "tags": []
   },
   "outputs": [],
   "source": [
    "MSE = MSE.compute()"
   ]
  },
  {
   "cell_type": "code",
   "execution_count": null,
   "id": "ebd12cd8-a167-4316-ad7b-167ffcaddb1f",
   "metadata": {
    "tags": []
   },
   "outputs": [],
   "source": [
    "MSE = MSE/1000"
   ]
  },
  {
   "cell_type": "code",
   "execution_count": null,
   "id": "81377acd-5b62-4ba8-bfe4-46ad37dc9afd",
   "metadata": {
    "tags": []
   },
   "outputs": [],
   "source": [
    "['1988-10-04', '1988-10-09', '1988-10-14', '1988-10-24']"
   ]
  },
  {
   "cell_type": "code",
   "execution_count": null,
   "id": "8a01dbdf-d245-4127-8880-e911a602e6e0",
   "metadata": {
    "tags": []
   },
   "outputs": [],
   "source": [
    "####tx#### 1\n",
    "plt.figure(figsize=(6,3))\n",
    "tnn.sel(latitude=23, longitude=15, method='nearest').sel(time=slice('1988-09-24', '1988-10-08')).plot(alpha=0.3, label='Temperature')\n",
    "region = tn.sel(latitude=23, longitude=15, method='nearest').sel(time=slice('1988-09-24', '1988-10-08'))#,'1999'))\n",
    "region.where(\n",
    "    region.rolling(time=1).count()>=1\n",
    ").plot(marker='*', alpha=0.3, label='Heat wave days')\n",
    "region.where(\n",
    "    region.rolling(time=10).count()>=10\n",
    ").plot(marker='.')\n",
    "plt.grid()\n",
    "plt.title('')\n",
    "plt.legend()"
   ]
  },
  {
   "cell_type": "code",
   "execution_count": null,
   "id": "37f33415-b821-4359-b7bf-5b88c82eafdb",
   "metadata": {
    "tags": []
   },
   "outputs": [],
   "source": [
    "##### tn\n",
    "plt.figure(figsize=(6,3))\n",
    "tnn.sel(latitude=23, longitude=15, method='nearest').sel(time=slice('1988-10-04', '1988-10-24')).plot(alpha=0.3, label='Temperature')\n",
    "region = tn.sel(latitude=23, longitude=15, method='nearest').sel(time=slice('1988-10-04', '1988-10-24'))\n",
    "region.where(\n",
    "    region.rolling(time=1).count()>=1\n",
    ").plot(marker='*', alpha=0.3, label='Heat wave day')\n",
    "region.where(\n",
    "    region.rolling(time=11).count()>=11\n",
    ").plot(marker='.')\n",
    "plt.title('')\n",
    "plt.grid()\n",
    "plt.legend()\n",
    "plt.savefig('/media/kenz/1B8D1A637BBA134B/CHIRTS/final_figures/hwd_tn_line.eps', bbox_inches='tight')"
   ]
  },
  {
   "cell_type": "code",
   "execution_count": null,
   "id": "e5dd0a07-a2f8-4804-ad6a-6b1ec4427bca",
   "metadata": {
    "tags": []
   },
   "outputs": [],
   "source": [
    "fig, ax = plt.subplots(ncols=4, nrows=2 , figsize=(10, 7), sharex=True, sharey=True)\n",
    "ax = ax.flatten()\n",
    "for i,j in enumerate(['2008-09-18-15', '2008-09-21', '2008-09-24', '2008-09-27']):\n",
    "    MSE.sel(latitude=20, longitude=15, method='nearest').sel(time=f'{j}').plot(y='level', ax=ax[i],label='non heatwave day')\n",
    "    \n",
    "for i,j in enumerate(['2008-11-01-15', '2008-11-04', '2008-11-07', '2008-11-10']):\n",
    "    plot2 = MSE.sel(latitude=20, longitude=15, method='nearest').sel(time=f'{j}').plot(y='level', ax=ax[i], label = 'heatwave day')\n",
    "    # ax[i].set_title(j)\n",
    "\n",
    "for i,j in enumerate(['1988-09-27-03', '1988-09-30', '1988-10-02', '1988-10-05']):\n",
    "    MSE.sel(latitude=6.8, longitude=-5.2, method='nearest').sel(time=f'{j}').plot(y='level', ax=ax[i+4], label='non heatwave day')\n",
    "\n",
    "grid = plt.GridSpec(2, 4)\n",
    "create_subtitle(fig, grid[1, ::], 'Night Time \\n')\n",
    "\n",
    "for i,j in enumerate(['1988-10-09', '1988-10-12', '1988-10-15', '1988-10-18']):\n",
    "    plot1 = MSE.sel(latitude=6.8, longitude=-5.2, method='nearest').sel(time=f'{j}').plot(y='level', ax=ax[i+4], label='heatwave day')\n",
    "    # ax[i+4].set_title(j)\n",
    "\n",
    "for i in range(0,8):\n",
    "    ax[i].set_xlabel('MSE (kJ/kg)')\n",
    "    ax[i].set_title('')\n",
    "    \n",
    "handles, labels = ax[i].get_legend_handles_labels()\n",
    "plt.suptitle('Day Time', fontweight = 'bold')\n",
    "plt.gca().invert_yaxis()\n",
    "fig.legend(handles=handles,bbox_to_anchor=(1.175, 0.94))\n",
    "plt.tight_layout()\n",
    "plt.savefig('/media/kenz/1B8D1A637BBA134B/CHIRTS/final_figures/mse.eps', bbox_inches='tight')"
   ]
  },
  {
   "cell_type": "code",
   "execution_count": null,
   "id": "019057f6-ad79-423b-b0e4-8ee15acacfbb",
   "metadata": {
    "tags": []
   },
   "outputs": [],
   "source": []
  },
  {
   "cell_type": "code",
   "execution_count": null,
   "id": "0880f63a-42c5-4169-a1be-14239c5f94b5",
   "metadata": {},
   "outputs": [],
   "source": []
  },
  {
   "cell_type": "code",
   "execution_count": null,
   "id": "f525dd8d-e44d-4c6a-bc92-45896c868864",
   "metadata": {},
   "outputs": [],
   "source": []
  },
  {
   "cell_type": "code",
   "execution_count": null,
   "id": "f7dfe2f7-72e6-4f25-9f7d-5dd376c83b28",
   "metadata": {},
   "outputs": [],
   "source": []
  }
 ],
 "metadata": {
  "kernelspec": {
   "display_name": "Python 3 (ipykernel)",
   "language": "python",
   "name": "python3"
  },
  "language_info": {
   "codemirror_mode": {
    "name": "ipython",
    "version": 3
   },
   "file_extension": ".py",
   "mimetype": "text/x-python",
   "name": "python",
   "nbconvert_exporter": "python",
   "pygments_lexer": "ipython3",
   "version": "3.10.11"
  }
 },
 "nbformat": 4,
 "nbformat_minor": 5
}
