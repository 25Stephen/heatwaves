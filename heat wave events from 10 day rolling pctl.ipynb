{
 "cells": [
  {
   "cell_type": "markdown",
   "id": "65aafa06-a3d8-497d-838f-c2d97a64ff86",
   "metadata": {
    "tags": []
   },
   "source": [
    "# Analysis of Heat Wave Definitions"
   ]
  },
  {
   "cell_type": "code",
   "execution_count": null,
   "id": "7bc2c108-44ed-4707-9608-6025e4f05248",
   "metadata": {
    "tags": []
   },
   "outputs": [],
   "source": [
    "### Import all required libraries\n",
    "\n",
    "import xarray as xr\n",
    "import dask\n",
    "import numpy as np\n",
    "from scipy.stats import norm\n",
    "import pymannkendall as mk\n",
    "import matplotlib.pyplot as plt\n",
    "# import cartopy.crs as ccrs\n",
    "from cartopy import feature, crs\n",
    "import matplotlib.animation as animation\n",
    "from matplotlib import rc\n",
    "from IPython.display import HTML\n",
    "import os\n",
    "from cdo import *\n",
    "cdo = Cdo()\n",
    "import warnings\n",
    "warnings.filterwarnings('ignore')\n",
    "from cartopy.mpl.ticker import LongitudeFormatter, LatitudeFormatter\n",
    "import glob\n",
    "from varname import nameof"
   ]
  },
  {
   "cell_type": "code",
   "execution_count": null,
   "id": "2e66c635-7bb2-49be-8ecf-4c37fd651c61",
   "metadata": {
    "tags": []
   },
   "outputs": [],
   "source": [
    "## Specify path to the file\n",
    "path='/media/kenz/1B8D1A637BBA134B/CHIRTS'\n",
    "# cdo = Cdo('~/media/kenz/1B8D1A637BBA134B/CHIRTS/scripts/tmp/')"
   ]
  },
  {
   "cell_type": "code",
   "execution_count": null,
   "id": "6fe5bbd9-8074-44ea-bd63-9b8c0c06f0fd",
   "metadata": {
    "tags": []
   },
   "outputs": [],
   "source": [
    "### specify file names\n",
    "\n",
    "tmax = 'Tmax/chirts.Tmax.1983.2016.WA.days_p25.nc'\n",
    "tmin = 'Tmin/chirts.Tmin.1983.2016.WA.days_p25.nc'\n",
    "\n",
    "tmax90 = 'Tmax/chirts.Tmax90.1983.2016.WA.days_p25.nc'\n",
    "tmin90 = 'Tmin/chirts.Tmin90.1983.2016.WA.days_p25.nc'\n",
    "\n",
    "tmean = 'Tmean/chirts.Tmean.1983.2016.WA.days_p25.nc'\n",
    "tmean95 = 'Tmean/chirts.clim.Tmean95.1983.2016.WA.days_p25.nc'\n",
    "# Tmean/chirts.clim.Tmean95.1983.2016.WA.days_p25.nc\n",
    "\n",
    "tmean_accl = 'Tmean/accl.nc'\n",
    "tmean_sig = 'Tmean/sig95.nc'\n",
    "\n",
    "tmean_ehf = 'Tmean/ehf.nc'\n",
    "\n",
    "tmx = 'Tmax/tx.nc'\n",
    "tmn = 'Tmin/tn.nc'"
   ]
  },
  {
   "cell_type": "code",
   "execution_count": null,
   "id": "01f2545d-23da-4cba-a429-9b5b304e186c",
   "metadata": {
    "tags": []
   },
   "outputs": [],
   "source": [
    "### Defining functions  ###\n",
    "\n",
    "def set_fig_params(ax):\n",
    "    for i,j in enumerate(ax):\n",
    "    # for i in (range(0,len(axes))):\n",
    "        ax[i].set_extent([-19,15,4,24])\n",
    "        ax[i].add_feature(feature.COASTLINE)\n",
    "        ax[i].add_feature(feature.BORDERS)\n",
    "        ax[i].add_feature(feature.STATES, linewidth = 0.2)\n",
    "        ax[i].set_xticks([-20,-10,0,10], crs=crs.PlateCarree())\n",
    "        ax[i].set_yticks([5,10,15,20], crs=crs.PlateCarree())\n",
    "        lon_formatter = LongitudeFormatter(zero_direction_label=True)\n",
    "        lat_formatter = LatitudeFormatter()\n",
    "        ax[i].xaxis.set_major_formatter(lon_formatter)\n",
    "        ax[i].yaxis.set_major_formatter(lat_formatter)\n",
    "def sens_slope(data):\n",
    "    data = data.groupby('time.year').mean('time')\n",
    "    data = data.sel(longitude=np.arange(-19.875, 21.875,0.25), latitude=np.arange(3.125,26.875,0.25), method = 'nearest')\n",
    "    output=[]\n",
    "    for i in np.arange(len(data.latitude.values)):\n",
    "        for j in np.arange(len(data.longitude.values)):\n",
    "            try:\n",
    "                slope_val = mk.sens_slope(data[:,i,j]).slope\n",
    "            except:\n",
    "                slope_val = np.nan\n",
    "            output.append(slope_val)\n",
    "\n",
    "    output = np.copy(output).reshape(data.latitude.size,data.longitude.size)\n",
    "    slopes=xr.DataArray(output, dims=('latitude','longitude'), coords={'latitude':data.latitude,'longitude':data.longitude})\n",
    "    return slopes\n",
    "\n",
    "def rising_filter(array, axis):\n",
    "\n",
    "    # Make sure there are enough points\n",
    "    assert(array.shape[axis] == 5)\n",
    "    # Make sure we're working on the last axis\n",
    "    assert(axis == array.ndim-1 or axis == -1)\n",
    "    \n",
    "    left = array[..., 1]\n",
    "    right = array[..., 2:].sum(axis=axis)\n",
    "\n",
    "    return np.logical_and(np.isnan(left), np.isfinite(right))\n",
    "\n",
    "def rising_filter_dask(x, dim):\n",
    "\n",
    "    return xr.apply_ufunc(rising_filter, x, input_core_dims=[[dim]],\n",
    "                             kwargs={'axis': -1},\n",
    "                             dask='parallelized',\n",
    "                             output_dtypes=[bool])\n",
    "def HWD(data):\n",
    "    # s = data>0\n",
    "    # s = s.drop_duplicates('time')\n",
    "    # candidates = tx.where(s)\n",
    "    windows = data.chunk({'time':20}).rolling(time=5, center=True, min_periods=1).construct('rolling_dim')\n",
    "    heatwave_starts = rising_filter_dask(windows, dim='rolling_dim')\n",
    "    return heatwave_starts\n"
   ]
  },
  {
   "cell_type": "code",
   "execution_count": null,
   "id": "f498233e-fbe8-474f-8ed8-6ab21a283023",
   "metadata": {
    "tags": []
   },
   "outputs": [],
   "source": [
    "def sens_slopes(data):\n",
    "    data = data.sel(longitude=np.arange(-19.875, 21.875,0.25), latitude=np.arange(3.125,26.875,0.25), method = 'nearest')\n",
    "    output=[]\n",
    "    for i in np.arange(len(data.latitude.values)):\n",
    "        for j in np.arange(len(data.longitude.values)):\n",
    "            try:\n",
    "                slope_val = mk.sens_slope(data[:,i,j]).slope\n",
    "            except:\n",
    "                slope_val = np.nan\n",
    "            output.append(slope_val)\n",
    "\n",
    "    output = np.copy(output).reshape(data.latitude.size,data.longitude.size)\n",
    "    slopes=xr.DataArray(output, dims=('latitude','longitude'), coords={'latitude':data.latitude,'longitude':data.longitude})\n",
    "    return slopes"
   ]
  },
  {
   "cell_type": "code",
   "execution_count": null,
   "id": "ff5d2f6d-3c24-45f9-bd92-b9d94459d365",
   "metadata": {
    "tags": []
   },
   "outputs": [],
   "source": [
    "### More Functions ###\n",
    "# def df_read(path,file,var):\n",
    "#     ds = xr.open_dataset(f'{path}/{file}')[f'{var}']\n",
    "#     # [f'{temperature_type}']\n",
    "#     return ds\n",
    "def df_read(path,file,var):\n",
    "    ds = xr.open_dataset(f'{path}/{file}')[f'{var}'].sortby('time').drop_duplicates('time').sel(time=slice('1983',None))\n",
    "    return ds\n",
    "def sellonlat(data):\n",
    "    return data.sel(longitude=10,latitude=10,method='nearest')\n",
    "def selone(data):\n",
    "    return data.sel(time='2010')\n",
    "def mask_temp(path,data,pctl):\n",
    "    sub = cdo.sub(input = ' '.join((f'{path}/{data}', f'{path}/{pctl}')))\n",
    "    temp = df_read(path,data,str(data[:4])).chunk({'time':5000})\n",
    "    extreme = xr.open_dataset(sub)[f'{data}'[:4]].drop_duplicates('time')\n",
    "    data = temp.where(extreme>0)\n",
    "    return data\n",
    "def remove_temp_files():\n",
    "    for i in glob.glob('/tmp/cdo*'):\n",
    "        os.remove(i)\n",
    "\n",
    "# def HWF(path,file, temperature_type='Tmax',var='Tmax'):\n",
    "#     if temperature_type not in ['Tmax', 'Tmin']:\n",
    "#         raise ValueError(\"Invalid temperature_type. Use 'Tmax' or 'Tmin'.\")\n",
    "#     path,file, temperature_type = path,file, temperature_type\n",
    "#     ds = df_read(path,file,var)\n",
    "#     ds = HWD(ds).sel(time=slice('1983', '2016')).sum('time') / 30\n",
    "#     ds = cal_ct90(path, temperature_type=temperature_type).groupby('time.year').count('time').mean('year')*ds\n",
    "#     return ds\n",
    "\n",
    "# def HWF_ehf(path, file, var):\n",
    "#     ds = df_read(path, file,var).sortby('time').chunk({'time':5})\n",
    "#     mask = ds.where(ds>0, drop = True)\n",
    "#     ehf_hwd = mask.rolling(time=3).sum().sel(time=slice('1983', '2016')).mean('time')\n",
    "#     ehf = abs(ds.mean('time'))\n",
    "#     return ehf*ehf_hwd\n"
   ]
  },
  {
   "cell_type": "code",
   "execution_count": null,
   "id": "d589b627-210b-408c-b694-ddb0fa68335b",
   "metadata": {
    "tags": []
   },
   "outputs": [],
   "source": [
    "# accl = df_read(path,tmean_accl,'Tmax').chunk({'time':2700})\n",
    "# sig = df_read(path,tmean_sig,'Tmax').chunk({'time':2700})\n",
    "# accl = xr.where(accl<=1,1,accl)\n",
    "# sig = xr.where(sig<0,0,sig)\n",
    "# ehf = accl*sig\n",
    "# ehf = ehf.where(ehf>0)\n",
    "# ds_gtehf = ehf.groupby('time.year').count()"
   ]
  },
  {
   "cell_type": "code",
   "execution_count": null,
   "id": "09666a5e-3a13-4ecf-9131-d832c9f1f82e",
   "metadata": {
    "tags": []
   },
   "outputs": [],
   "source": [
    "# ehf.to_netcdf('Tmean/ehf.nc')"
   ]
  },
  {
   "cell_type": "code",
   "execution_count": null,
   "id": "dd0ebf8e-ad8e-4052-ae20-d82ffb9f5c9c",
   "metadata": {
    "tags": []
   },
   "outputs": [],
   "source": [
    "ehf = df_read(path,tmean_ehf,'Tmax')\n",
    "ds_gtehf = ehf.groupby('time.year').count()"
   ]
  },
  {
   "cell_type": "code",
   "execution_count": null,
   "id": "a928e457-ab85-46b1-9474-0e16940df73b",
   "metadata": {},
   "outputs": [],
   "source": [
    "ehf_f = ehf.chunk({'time':-1,'longitude':20,'latitude':20})"
   ]
  },
  {
   "cell_type": "raw",
   "id": "e5ccb601-cfe5-4806-a918-60a587cfbf6a",
   "metadata": {
    "tags": []
   },
   "source": [
    "%%time\n",
    "ehf_f = ehf.chunk({'time':-1,'longitude':20,'latitude':20})\n",
    "m = ehf_f>0\n",
    "hwf_ehf = (ehf_f.where(m,drop=True).rolling(time=3).sum()).mean('time')#.plot()\n",
    "# ehw_ehf = (ehf.where(ehf>0,drop=True).chunk({'time':20,'longitude':-1,'latitude':-1}).rolling(time=3).sum()).mean('time')\n",
    "# ehf_filtered = ehf_f.chunk({'time': -1, 'latitude':20,'longitude':20})"
   ]
  },
  {
   "cell_type": "code",
   "execution_count": null,
   "id": "7622d993-faae-420d-b0eb-d28d3c4a0e1c",
   "metadata": {
    "tags": []
   },
   "outputs": [],
   "source": [
    "%%time\n",
    "hwf_ehf = ehf_f.groupby('time.year').sum().mean('year')\n",
    "hwf_ehf = hwf_ehf.compute()"
   ]
  },
  {
   "cell_type": "code",
   "execution_count": null,
   "id": "b44a592c-3744-4962-bf14-9d7e4e032aac",
   "metadata": {
    "tags": []
   },
   "outputs": [],
   "source": [
    "remove_temp_files()"
   ]
  },
  {
   "cell_type": "code",
   "execution_count": null,
   "id": "8b019d69-63d3-4584-b6a4-f675ecb25018",
   "metadata": {
    "tags": []
   },
   "outputs": [],
   "source": [
    "# tx = mask_temp(path,tmax,tmax90)\n",
    "# tn = mask_temp(path,tmin,tmin90)\n",
    "\n",
    "# tx.to_netcdf('Tmax/tx.nc')\n",
    "# tn.to_netcdf('Tmain/tn.nc')\n",
    "\n",
    "tx = df_read(path, tmx, 'Tmax')\n",
    "tn = df_read(path, tmn, 'Tmin')"
   ]
  },
  {
   "cell_type": "code",
   "execution_count": null,
   "id": "f5208d4b-5c6f-4c7b-9168-da21540de41e",
   "metadata": {
    "tags": []
   },
   "outputs": [],
   "source": []
  },
  {
   "cell_type": "code",
   "execution_count": null,
   "id": "3958dcd6-d20a-4ea4-af95-62c80ec537ec",
   "metadata": {
    "tags": []
   },
   "outputs": [],
   "source": [
    "ds_gtx = tx.groupby('time.year').count('time')"
   ]
  },
  {
   "cell_type": "code",
   "execution_count": null,
   "id": "56d11832-14e6-45ed-9b81-c6f8ff09c33d",
   "metadata": {
    "tags": []
   },
   "outputs": [],
   "source": [
    "ds_gtn = tn.groupby('time.year').count('time')"
   ]
  },
  {
   "cell_type": "code",
   "execution_count": null,
   "id": "aca2288a-c386-4e01-805d-a62d72b4b276",
   "metadata": {
    "tags": []
   },
   "outputs": [],
   "source": [
    "%%time\n",
    "windows = tx.chunk({'time':20}).rolling(time=5, center=True, min_periods=1).construct('rolling_dim')\n",
    "hwn_tx = rising_filter_dask(windows, dim='rolling_dim')\n",
    "\n",
    "windows = tn.chunk({'time':20}).rolling(time=5, center=True, min_periods=1).construct('rolling_dim')\n",
    "hwn_tn = rising_filter_dask(windows, dim='rolling_dim')"
   ]
  },
  {
   "cell_type": "markdown",
   "id": "3ee1706d-59b7-4a2e-8360-a69fc1f4daed",
   "metadata": {
    "tags": []
   },
   "source": [
    "#### HWN for Maximum Temperature"
   ]
  },
  {
   "cell_type": "code",
   "execution_count": null,
   "id": "2d01374b-f95c-420f-9302-bc0075fc1750",
   "metadata": {},
   "outputs": [],
   "source": []
  },
  {
   "cell_type": "code",
   "execution_count": null,
   "id": "fc79b7c4-02b0-45c8-a3e7-158def45bd5f",
   "metadata": {
    "tags": []
   },
   "outputs": [],
   "source": [
    "selone(sellonlat(df_read(path,tmax,'Tmax'))).plot(label = 'Tmax', alpha = 0.2)\n",
    "selone(sellonlat(df_read(path,tmax90,'Tmax'))).plot(label = 'Tmax90', alpha = 0.7)\n",
    "selone(sellonlat(tx)).plot(label ='peaks', color='green')\n",
    "plt.legend()\n",
    "plt.title('2010 \\n')\n",
    "# plt.savefig(f'{path}/figures/Tem and Peaks.jpeg')"
   ]
  },
  {
   "cell_type": "code",
   "execution_count": null,
   "id": "937fd11c-df00-4268-970a-58c485e20db2",
   "metadata": {
    "tags": []
   },
   "outputs": [],
   "source": []
  },
  {
   "cell_type": "code",
   "execution_count": null,
   "id": "7031f7eb-0dcc-4848-8f8f-f7837739c246",
   "metadata": {
    "tags": []
   },
   "outputs": [],
   "source": [
    "levels = range(int(ds_gtx.max()))\n",
    "fig, axes = plt.subplots(figsize=[7,5])#ncols=1) #Creating the basis for the plot\n",
    "def animate(time):\n",
    "    ds_gtx.isel(year=time).plot(levels=levels, ax=axes, add_colorbar= False)\n",
    "\n",
    "ani = animation.FuncAnimation(fig, animate, ds_gtx.year.size, interval=400, blit=False)\n",
    "\n",
    "mld= ds_gtx.isel(year=0).plot.contourf(levels=levels, ax=axes, add_colorbar= False)\n",
    "cbar= fig.colorbar(mld)\n",
    "cbar.set_label('CTx90pctl')\n",
    "fig.suptitle(\"Tmax Yearly Heatwave Days\", fontsize= 18)\n",
    "\n",
    "HTML(ani.to_jshtml())"
   ]
  },
  {
   "cell_type": "code",
   "execution_count": null,
   "id": "b3623360-3b7e-427b-8d23-80af13599f98",
   "metadata": {
    "tags": []
   },
   "outputs": [],
   "source": [
    "ani.save('figures/Tmax_10_day_window_avearged_yearly_heatwave_events.gif', writer='imagemagick', fps = 2) #Save animation as gif-file"
   ]
  },
  {
   "cell_type": "markdown",
   "id": "7a90fabf-342c-458f-ae25-fcb174dad419",
   "metadata": {
    "tags": []
   },
   "source": [
    "#### HWN for Minimum Temperature"
   ]
  },
  {
   "cell_type": "code",
   "execution_count": null,
   "id": "3ee85c0c-a749-4ecf-b572-6e6fcb77216b",
   "metadata": {
    "tags": []
   },
   "outputs": [],
   "source": [
    "selone(sellonlat(df_read(path,tmin,'Tmin'))).plot(label = 'Tmin', alpha = 0.2)\n",
    "selone(sellonlat(df_read(path,tmin90,'Tmin'))).plot(label = 'Tmin90', alpha=0.7)\n",
    "selone(sellonlat(tn)).plot(label ='peaks', color='green')\n",
    "plt.legend()\n",
    "plt.title('2010')\n",
    "# plt.savefig(f'{path}/figures/Tmin and Peaks.jpeg')"
   ]
  },
  {
   "cell_type": "code",
   "execution_count": null,
   "id": "e89cfb69-40a5-418e-a2d6-c2303547b263",
   "metadata": {
    "tags": []
   },
   "outputs": [],
   "source": [
    "# # ds_tn_gt_tn90 = mask_temp(path,tmin,tmin90)\n",
    "# ds_tn_gt_tn90 = tn\n",
    "# ds_gtn = ds_tn_gt_tn90.groupby('time.year').count('time')\n",
    "# ds_gtn = ds_gtn.load()"
   ]
  },
  {
   "cell_type": "code",
   "execution_count": null,
   "id": "9b200d29-7098-4c3a-a8a6-15b4f3e1976f",
   "metadata": {
    "tags": []
   },
   "outputs": [],
   "source": [
    "levels = range(int(ds_gtn.max()))\n",
    "fig, axes = plt.subplots(figsize=[7,5])#ncols=1) #Creating the basis for the plot\n",
    "def animate(time):\n",
    "    ds_gtn.isel(year=time).plot(levels=levels, ax=axes, add_colorbar= False)\n",
    "\n",
    "ani = animation.FuncAnimation(fig, animate, ds_gtn.year.size, interval=400, blit=False)\n",
    "\n",
    "mld= ds_gtn.isel(year=0).plot.contourf(levels=levels, ax=axes, add_colorbar= False)\n",
    "cbar= fig.colorbar(mld)\n",
    "cbar.set_label('CTn90pctl')\n",
    "fig.suptitle(\"Tmin Yearly Heatwave Days\", fontsize= 18)\n",
    "\n",
    "HTML(ani.to_jshtml())"
   ]
  },
  {
   "cell_type": "code",
   "execution_count": null,
   "id": "7070a6c0-a922-4574-8143-06fb5a59eb12",
   "metadata": {},
   "outputs": [],
   "source": [
    "ani.save(f'{path}/figures/Tmin_10_day_window_avearged_yearly_heatwave_events.gif', writer='imagemagick', fps = 2) #Save animation as gif-file"
   ]
  },
  {
   "cell_type": "markdown",
   "id": "5eb09b83-7161-491e-b1b1-f0c24a94b3e5",
   "metadata": {},
   "source": [
    "#### Calculating HWN for EHF"
   ]
  },
  {
   "cell_type": "code",
   "execution_count": null,
   "id": "97cbca29-6d4e-4628-afa5-c72c73844a7d",
   "metadata": {
    "tags": []
   },
   "outputs": [],
   "source": [
    "### calculate this once to store and open\n",
    "\n",
    "# yearmax = cdo.yearmax(input = f'{path}/{tmean}')\n",
    "# yearmin = cdo.yearmin(input = f'{path}/{tmean}')\n",
    "# cdo.yearpctl('95',input = \"{} {} {}\".format(f'{path}/{tmean}', yearmin, yearmax),output ='Tmean/chirts.clim.Tmean95.1983.2016.WA.days_p25.nc')\n",
    "\n",
    "# cdo.runmean('3',input = f'{path}/{tmean}',output = 'Tmean/r3_95.nc')\n",
    "# cdo.runmean('30', input = f'{path}/{tmean}',output = 'Tmean/r30_95.nc')\n",
    "# cdo.sub(input=\"{} {}\".format('Tmean/r3_95.nc', 'Tmean/r30_95.nc'), output='Tmean/accl.nc')\n",
    "# cdo.sub(input=\"{} {}\".format('/Tmean/r3_95.nc', f'{path}/{tmean95}'), output='Tmean/sig95.nc')"
   ]
  },
  {
   "cell_type": "code",
   "execution_count": null,
   "id": "03573ecb-baa0-498f-8a6f-b337f9d49e0b",
   "metadata": {
    "tags": []
   },
   "outputs": [],
   "source": [
    "# cdo.sub(input=\"{} {}\".format(f'{path}/Tmean/r3_95.nc', f'{path}/{tmean95}'), output='Tmean/sig95.nc')"
   ]
  },
  {
   "cell_type": "code",
   "execution_count": null,
   "id": "08c1723e-7192-4e0c-ae6d-6deef797c458",
   "metadata": {
    "tags": []
   },
   "outputs": [],
   "source": [
    "# accl = df_read(path,tmean_accl,'Tmax').chunk({'time':5000})\n",
    "# sig = df_read(path,tmean_sig,'Tmax').chunk({'time':5000})\n",
    "# accl = xr.where(accl<=1,1,accl)\n",
    "# sig = xr.where(sig<0,0,sig)\n",
    "# ehf = accl*sig\n",
    "# ehf = ehf.where(ehf>0)"
   ]
  },
  {
   "cell_type": "code",
   "execution_count": null,
   "id": "5db01e33-d18f-41b1-8789-c07f9e530259",
   "metadata": {
    "tags": []
   },
   "outputs": [],
   "source": [
    "# ds_gtehf = ehf.groupby('time.year').count()"
   ]
  },
  {
   "cell_type": "code",
   "execution_count": null,
   "id": "1bad8ea0-7a00-4c51-b2b7-afcf83e1a13a",
   "metadata": {
    "tags": []
   },
   "outputs": [],
   "source": [
    "levels = range(int(ds_gtehf.max()))\n",
    "fig, axes = plt.subplots(figsize=[7,5])#ncols=1) #Creating the basis for the plot\n",
    "def animate(time):\n",
    "    ds_gtehf.isel(year=time).plot(levels=levels, ax=axes, add_colorbar= False)\n",
    "\n",
    "ani = animation.FuncAnimation(fig, animate, ds_gtehf.year.size, interval=400, blit=False)\n",
    "\n",
    "mld= ds_gtehf.isel(year=0).plot.contourf(levels=levels, ax=axes, add_colorbar= False)\n",
    "cbar= fig.colorbar(mld)\n",
    "cbar.set_label('EHF')\n",
    "fig.suptitle(\"EHF Yearly Extreme Temperature days\", fontsize= 18)\n",
    "\n",
    "HTML(ani.to_jshtml())"
   ]
  },
  {
   "cell_type": "code",
   "execution_count": null,
   "id": "ef97b741-7913-40e8-aff4-419d901a7c52",
   "metadata": {},
   "outputs": [],
   "source": [
    "ani.save(f'{pathfigures/EHF_95_Tmean_day_window_avearged_yearly_heatwave_events.gif', writer='imagemagick', fps = 2) #Save animation as gif-file"
   ]
  },
  {
   "cell_type": "code",
   "execution_count": null,
   "id": "c91f637b-f1c4-45cb-9956-48d183d337da",
   "metadata": {},
   "outputs": [],
   "source": []
  },
  {
   "cell_type": "markdown",
   "id": "9e9e73cc-d20f-4758-acae-91c3f0a1237f",
   "metadata": {},
   "source": [
    "#### Calculating Heatwave Number (HWN)  #####\n",
    "\n",
    " - Heatwaves are defined as a period of `at least three (3) days` where for each day the Maximum or Minimum temperature is in the top 10% for that day of the year.\n",
    " - **NB**: EHF is already in a three (3) average therefore satisfying `consecutive three (3) days` requirement of a heatwave."
   ]
  },
  {
   "cell_type": "code",
   "execution_count": null,
   "id": "ea4fd5fa-d1d0-4dfe-a43c-ffda126ba321",
   "metadata": {
    "tags": []
   },
   "outputs": [],
   "source": []
  },
  {
   "cell_type": "code",
   "execution_count": null,
   "id": "b65ce842-2a59-4670-a1dd-9a5180e31dee",
   "metadata": {
    "tags": []
   },
   "outputs": [],
   "source": [
    "%%time\n",
    "\n",
    "# Create subplots\n",
    "fig, ax = plt.subplots(ncols=3, nrows=2, figsize=(10, 5), subplot_kw={'projection': crs.PlateCarree()})\n",
    "ax = ax.flatten()\n",
    "set_fig_params(ax)\n",
    "\n",
    "# Plot data\n",
    "vmax=15\n",
    "# cc = 'gist_heat_r'# plt.savefig(f'{path}/figures/Tem and Peaks.jpeg')\n",
    "cc='YlOrBr'\n",
    "### cb1 = ds_gtx.mean('year').plot(ax=ax[0], cmap=cc, vmax=60, add_colorbar=False)\n",
    "# cb1 = ds_gtx.where(ds_gtx>0).mean('year').plot(ax=ax[0], cmap=cc, vmax=55, vmin=35, add_colorbar=False)\n",
    "\n",
    "hwdtx = hwn_tx.sum('time')/33\n",
    "cb1 = hwdtx.where(hwdtx>0).plot(ax=ax[0], cmap=cc, vmax=vmax, add_colorbar=False)\n",
    "ax[0].set_title('CTx90 1983-2016')\n",
    "\n",
    "### ds_gtn.mean('year').plot(ax=ax[1], cmap=cc, vmax=60, add_colorbar=False)\n",
    "# ds_gtn.where(ds_gtn>0).mean('year').plot(ax=ax[1], cmap=cc, vmax=55,  vmin=35, add_colorbar=False)\n",
    "\n",
    "hwdtn = (hwn_tn.sum('time')/33)\n",
    "hwdtn.where(hwdtn>0).plot(ax=ax[1], cmap=cc, vmax=vmax, add_colorbar=False)\n",
    "ax[1].set_title('CTn90 1983-2016')\n",
    "\n",
    "ds_gtehf.where(ds_gtehf>0).mean('year').plot(ax=ax[2], cmap=cc, vmax=vmax, add_colorbar=False)\n",
    "ax[2].set_title('EHF 1983-2016')\n",
    "\n",
    "cm = 'RdBu_r'\n",
    "vm = 1\n",
    "\n",
    "# cb2 = sens_slopes(ds_gtx.where(ds_gtx>0).load()).plot(ax=ax[3], vmax=vm, cmap=cm, add_colorbar=False)\n",
    "# ax[3].set_title('CTx90')\n",
    "\n",
    "\n",
    "txsl = hwn_tx.groupby('time.year').sum('time')\n",
    "# txsl = txsl.where(txsl>0).load()\n",
    "cb2 = sens_slopes(txsl.where(txsl>0).load()).plot(ax=ax[3], vmax=vm, cmap=cm, add_colorbar=False)\n",
    "\n",
    "tnsl = hwn_tn.groupby('time.year').sum('time')\n",
    "sens_slopes(tnsl.where(tnsl>0).load()).plot(ax=ax[4], vmax=vm, cmap=cm, add_colorbar=False)\n",
    "\n",
    "sens_slopes(ds_gtehf.where(ds_gtehf>0).load()).plot(ax=ax[5], cmap=cm, vmax=vm, add_colorbar=False)\n",
    "ax[5].set_title('EHF')\n",
    "\n",
    "# # cb = [cb1, cb2]\n",
    "label = ['HWN','Trends']\n",
    "\n",
    "# cax2 = fig.add_axes([1,0.62,0.02,0.3])\n",
    "# fig.colorbar(cb3,cax = cax2, orientation='vertical', extend='both',label='ehf')\n",
    "cb = [cb1, cb2]\n",
    "# Add colorbars\n",
    "for i, j in enumerate([0.62, 0.13]):\n",
    "    cax = fig.add_axes([1, j, 0.02, 0.3])\n",
    "    fig.colorbar(cb[i], cax=cax, orientation='vertical', extend='both', label = label[i])\n",
    "\n",
    "fig.tight_layout()\n",
    "# plt.savefig(path+'/figures/Climatologies of Yearly Heatwaves.jpeg', bbox_inches='tight')"
   ]
  },
  {
   "cell_type": "code",
   "execution_count": null,
   "id": "4258e1e7-2879-4003-94c5-7c231a45d4dd",
   "metadata": {},
   "outputs": [],
   "source": [
    "#### Decadal plots on HWN  ######"
   ]
  },
  {
   "cell_type": "code",
   "execution_count": null,
   "id": "fc9b06fe-f653-411c-8a27-9e066da13f05",
   "metadata": {
    "tags": []
   },
   "outputs": [],
   "source": [
    "%%time\n",
    "t1 = ['1984', '1994', '2004']\n",
    "t2 = ['1993', '2003', '2013']\n",
    "for i, j in enumerate(t1): \n",
    "    # Create subplots\n",
    "    fig, ax = plt.subplots(ncols=3, nrows=2, figsize=(10, 5), subplot_kw={'projection': crs.PlateCarree()})\n",
    "    ax = ax.flatten()\n",
    "    set_fig_params(ax)\n",
    "\n",
    "    # Plot data\n",
    "    vmax=15\n",
    "    cc='coolwarm'\n",
    "\n",
    "    hwdtx = hwn_tx.sel(time=slice(t1[i],t2[i])).sum('time')/10\n",
    "    cb1 = hwdtx.where(hwdtx>0).plot(ax=ax[0], cmap=cc, vmax=vmax, add_colorbar=False)\n",
    "    ax[0].set_title(f'CTx90 {t1[i]}-{t2[i]}')\n",
    "    # break\n",
    "\n",
    "    hwdtn = hwn_tn.sel(time=slice(t1[i],t2[i])).sum('time')/10\n",
    "    hwdtn.where(hwdtn>0).plot(ax=ax[1], cmap=cc, vmax=vmax, add_colorbar=False)\n",
    "    ax[1].set_title(f'CTn90 {t1[i]}-{t2[i]}')\n",
    "\n",
    "    ds_gtehf.where(ds_gtehf>0).sel(year=slice(t1[i],t2[i])).mean('year').plot(ax=ax[2], cmap=cc, vmax=vmax, add_colorbar=False)\n",
    "    ax[2].set_title(f'EHF {t1[i]}-{t2[i]}')\n",
    "\n",
    "    cm = 'RdBu_r'\n",
    "    vm = 1\n",
    "\n",
    "    txsl = hwn_tx.groupby('time.year').sum('time').sel(year=slice(t1[i],t2[i]))\n",
    "    # txsl = txsl.where(txsl>0).load()\n",
    "    cb2 = sens_slopes(txsl.where(txsl>0).load()).plot(ax=ax[3], vmax=vm, cmap=cm, add_colorbar=False)\n",
    "    ax[3].set_title(f'CTx90 {t1[i]}-{t2[i]}')\n",
    "\n",
    "\n",
    "    tnsl = hwn_tn.groupby('time.year').sum('time').sel(year=slice(t1[i],t2[i]))\n",
    "    sens_slopes(tnsl.where(tnsl>0).load()).plot(ax=ax[4], vmax=vm, cmap=cm, add_colorbar=False)\n",
    "    ax[4].set_title(f'CTn90 {t1[i]}-{t2[i]}')\n",
    "\n",
    "    sens_slopes(ds_gtehf.where(ds_gtehf>0).sel(year=slice(t1[i],t2[i])).load()).plot(ax=ax[5], cmap=cm, vmax=vm, add_colorbar=False)\n",
    "    ax[5].set_title(f'EHF {t1[i]}-{t2[i]}')\n",
    "\n",
    "    # # cb = [cb1, cb2]\n",
    "    label = ['HWN','Trends']\n",
    "\n",
    "    # cax2 = fig.add_axes([1,0.62,0.02,0.3])\n",
    "    # fig.colorbar(cb3,cax = cax2, orientation='vertical', extend='both',label='ehf')\n",
    "    cb = [cb1, cb2]\n",
    "    # Add colorbars\n",
    "    for i, j in enumerate([0.62, 0.13]):\n",
    "        cax = fig.add_axes([1, j, 0.02, 0.3])\n",
    "        fig.colorbar(cb[i], cax=cax, orientation='vertical', extend='both', label = label[i])\n",
    "\n",
    "    fig.tight_layout()\n",
    "    plt.savefig(f'{path}/figures/Climatologies of Yearly Heatwaves {t1[i]}-{t2[i]}.jpeg', bbox_inches='tight')"
   ]
  },
  {
   "cell_type": "code",
   "execution_count": null,
   "id": "c23fb780-7c6e-4d7e-a8dc-f6f85e0f8afb",
   "metadata": {
    "tags": []
   },
   "outputs": [],
   "source": []
  },
  {
   "cell_type": "code",
   "execution_count": null,
   "id": "50dfc2af-5484-49be-ab4b-289b54043bca",
   "metadata": {
    "tags": []
   },
   "outputs": [],
   "source": []
  },
  {
   "cell_type": "code",
   "execution_count": null,
   "id": "035b874d-6642-4d9a-a0be-dfe620213bd0",
   "metadata": {
    "tags": []
   },
   "outputs": [],
   "source": [
    "##### Seasonal Averaged HWN ######\n",
    "# %%time #hwntx\n",
    "def hwn_plt(data,t):\n",
    "    %%time\n",
    "    fig, ax = plt.subplots(ncols=4, nrows=3, figsize=(10, 5), subplot_kw={'projection': crs.PlateCarree()})\n",
    "    ax = ax.flatten()\n",
    "    set_fig_params(ax)\n",
    "    t1 = ['1984', '1994', '2004']\n",
    "    t2 = ['1993', '2003', '2013']\n",
    "    for i, j in enumerate(t1):\n",
    "\n",
    "        # Plot data\n",
    "        vmax=3\n",
    "        cc='coolwarm'\n",
    "\n",
    "        hwntx = data.sel(time=slice(t1[i],t2[i])).groupby('time.season').sum('time')/10\n",
    "        hwntx = hwntx.where(hwntx>0)\n",
    "        for x,y in enumerate(hwntx.season):\n",
    "            if i == 0:\n",
    "                cb1 = hwntx.isel(season = x).plot(ax=ax[x], cmap=cc, vmax=vmax, add_colorbar=False)\n",
    "                ax[0].set_ylabel('1984-1993', fontweight='bold')\n",
    "\n",
    "            elif i == 1:\n",
    "                cb2 = hwntx.isel(season = x).plot(ax=ax[x+4], cmap=cc, vmax=vmax, add_colorbar=False)\n",
    "                ax[4].set_ylabel('1994-2003', fontweight='bold')\n",
    "\n",
    "            else:\n",
    "                cb3 = hwntx.isel(season = x).plot(ax=ax[x+8], cmap=cc, vmax=vmax, add_colorbar=False)\n",
    "                ax[8].set_ylabel('2004-2013', fontweight='bold')\n",
    "\n",
    "    for i, j in enumerate(ax):\n",
    "        ax[i].set_xlabel(None)\n",
    "\n",
    "    for num in range(12):\n",
    "        if num not in [0, 4, 8]:\n",
    "            ax[num].set_ylabel(None)\n",
    "\n",
    "    cb = [cb1, cb2, cb3]\n",
    "\n",
    "    for i, j in enumerate([0.72, 0.40, 0.09]):\n",
    "        cax = fig.add_axes([1, j, 0.02, 0.2])\n",
    "        fig.colorbar(cb[i], cax=cax, orientation='vertical', extend='both', label=f'HWN \\n ({t})')\n",
    "\n",
    "    fig.tight_layout()\n",
    "    plt.savefig(f'{path}/figures/Climatologies of Seasonal Heatwaves {t1[0]}-{t2[2]} {nameof(t)}.jpeg', bbox_inches='tight')"
   ]
  },
  {
   "cell_type": "code",
   "execution_count": null,
   "id": "9b6bd560-b67e-4f37-8d57-9e2557d9e35f",
   "metadata": {
    "tags": []
   },
   "outputs": [],
   "source": [
    "hwn_plt(hwn_tx,'tx')"
   ]
  },
  {
   "cell_type": "code",
   "execution_count": null,
   "id": "5d2194a2-1873-4359-ab4d-2fcde8a059bd",
   "metadata": {
    "tags": []
   },
   "outputs": [],
   "source": [
    "hwn_plt(hwn_tn,'tn')"
   ]
  },
  {
   "cell_type": "code",
   "execution_count": null,
   "id": "ba601991-610b-45df-80da-5ead7c3c8262",
   "metadata": {},
   "outputs": [],
   "source": []
  },
  {
   "cell_type": "code",
   "execution_count": null,
   "id": "0470f9de-5922-499e-98ba-fd191d7778cd",
   "metadata": {
    "tags": []
   },
   "outputs": [],
   "source": [
    "fig, ax = plt.subplots(ncols=4, nrows=3, figsize=(10, 5), subplot_kw={'projection': crs.PlateCarree()})\n",
    "ax = ax.flatten()\n",
    "set_fig_params(ax)\n",
    "t1 = ['1984', '1994', '2004']\n",
    "t2 = ['1993', '2003', '2013']\n",
    "for i, j in enumerate(t1):\n",
    "\n",
    "    # Plot data\n",
    "    vmax=3\n",
    "    cc='coolwarm'\n",
    "\n",
    "    hwn_ehf = ehf.sel(time=slice(t1[i],t2[i])).groupby('time.season').mean('time')\n",
    "    # sel(time=slice(t1[i],t2[i])).groupby('time.season').sum('time')/10\n",
    "    # ehf.groupby('time.season').mean('time')[2].plot(vmax=2)\n",
    "    for x,y in enumerate(hwn_ehf.season):\n",
    "        if i == 0:\n",
    "            cb1 = hwn_ehf.isel(season = x).plot(ax=ax[x], cmap=cc, vmax=vmax, add_colorbar=False)\n",
    "            ax[0].set_ylabel('ehf \\n 1984-1993', fontweight='bold')\n",
    "\n",
    "        elif i == 1:\n",
    "            cb2 = hwn_ehf.isel(season = x).plot(ax=ax[x+4], cmap=cc, vmax=vmax, add_colorbar=False)\n",
    "            ax[4].set_ylabel('ehf \\n 1994-2003', fontweight='bold')\n",
    "\n",
    "        else:\n",
    "            cb3 = hwn_ehf.isel(season = x).plot(ax=ax[x+8], cmap=cc, vmax=vmax, add_colorbar=False)\n",
    "            ax[8].set_ylabel('ehf \\n 2004-2013', fontweight='bold')\n",
    "\n",
    "for i, j in enumerate(ax):\n",
    "    ax[i].set_xlabel(None)\n",
    "\n",
    "for num in range(12):\n",
    "    if num not in [0, 4, 8]:\n",
    "        ax[num].set_ylabel(None)\n",
    "\n",
    "cb = [cb1, cb2, cb3]\n",
    "\n",
    "for i, j in enumerate([0.72, 0.40, 0.09]):\n",
    "    cax = fig.add_axes([1, j, 0.02, 0.2])\n",
    "    fig.colorbar(cb[i], cax=cax, orientation='vertical', extend='both', label='HWN (ehf)')\n",
    "\n",
    "fig.tight_layout()\n",
    "plt.savefig(f'{path}/figures/Climatologies of Seasonal Heatwaves {t1[0]}-{t2[2]} ehf.jpeg', bbox_inches='tight')"
   ]
  },
  {
   "cell_type": "code",
   "execution_count": null,
   "id": "cedbca9f-5c18-4d10-8782-6205e404faec",
   "metadata": {
    "tags": []
   },
   "outputs": [],
   "source": []
  },
  {
   "cell_type": "code",
   "execution_count": null,
   "id": "219a47e2-8def-4550-91e6-b5129fcf4bc8",
   "metadata": {},
   "outputs": [],
   "source": []
  },
  {
   "cell_type": "markdown",
   "id": "62d20338-e326-4d1d-8050-b40e73c5af96",
   "metadata": {},
   "source": [
    "#### Length of the Longest Yearly Event (HWD) ####"
   ]
  },
  {
   "cell_type": "code",
   "execution_count": null,
   "id": "7d207fb6-77ac-4942-887a-6ac0b67acc1e",
   "metadata": {},
   "outputs": [],
   "source": []
  },
  {
   "cell_type": "raw",
   "id": "60a40bc0-99ad-4d20-97e3-ff5f611fb011",
   "metadata": {
    "tags": []
   },
   "source": [
    "hwd_tx = HWD(tx)\n",
    "hwd_tx = hwd_tx.where(hwd_tx>0)\n",
    "hwd_tn = HWD(tn)\n",
    "hwd_tn = hwd_tn.where(hwd_tn>0)\n",
    "hwd_ehf = ds_gtehf.where(ds_gtehf>0)"
   ]
  },
  {
   "cell_type": "raw",
   "id": "15cba74c-c6a6-41a9-88e4-c9ee712a4dc8",
   "metadata": {
    "tags": []
   },
   "source": [
    "%%time\n",
    "hwd_slp_tx = sens_slopes(hwd_tx.load())"
   ]
  },
  {
   "cell_type": "raw",
   "id": "50160891-d069-4950-a06d-1a46ddd52440",
   "metadata": {},
   "source": [
    "%%time\n",
    "hwd_slp_tn = sens_slopes(hwd_tn.load())"
   ]
  },
  {
   "cell_type": "raw",
   "id": "2ccb4366-ec5a-4c13-adca-5a216ce62d29",
   "metadata": {},
   "source": [
    "%%time\n",
    "hwd_ehf = sens_slopes(hwd_ehf)"
   ]
  },
  {
   "cell_type": "code",
   "execution_count": null,
   "id": "640b9f10-64c4-4a7d-916e-b90725b556ac",
   "metadata": {},
   "outputs": [],
   "source": []
  },
  {
   "cell_type": "code",
   "execution_count": null,
   "id": "aaca5e47-9ad9-4a57-82dc-e6356ea8cb6a",
   "metadata": {
    "tags": []
   },
   "outputs": [],
   "source": [
    "%%time\n",
    "\n",
    "# Create subplots\n",
    "fig, ax = plt.subplots(ncols=3, nrows=2, figsize=(10, 5), subplot_kw={'projection': crs.PlateCarree()})\n",
    "ax = ax.flatten()\n",
    "set_fig_params(ax)\n",
    "\n",
    "vmax = 24\n",
    "vmax1 = 1\n",
    "vmin1 = -1\n",
    "# windows = candidates.chunk({'time':20}).rolling(time=5, center=True, min_periods=1).construct('rolling_dim')\n",
    "# heatwave_starts = rising_filter_dask(windows, dim='rolling_dim')\n",
    "cm = 'YlOrRd'\n",
    "cc = 'rainbow'\n",
    "\n",
    "sens_slopes((ds_gtehf.where(ds_gtehf>0)).load()).plot(ax=ax[5], cmap=cc, add_colorbar=False)\n",
    "\n",
    "# g=(HWD(tx)).groupby('time.year').sum('time').max('year')\n",
    "# cb1 = g.where(g>0).plot(ax=ax[0], cmap=cm, add_colorbar=False, vmax=vmax)\n",
    "\n",
    "hdtx = hwn_tx.groupby('time.year').sum('time').max('year')\n",
    "cb1 = hdtx.where(hdtx>0).plot(ax=ax[0], cmap=cm, add_colorbar=False, vmax=vmax)\n",
    "ax[0].set_title('CTx90 \\n 1983-2016')\n",
    "\n",
    "# (HWD(tn)).groupby('time.year').sum('time').max('year').plot(ax=ax[1], cmap=cm, add_colorbar=False, vmax=vmax)\n",
    "hdtn = hwn_tn.groupby('time.year').sum('time').max('year')\n",
    "hdtn.where(hdtn>0).plot(ax=ax[1], cmap=cm, add_colorbar=False, vmax=vmax)\n",
    "ax[1].set_title('CTn90 \\n 1983-2016')\n",
    "\n",
    "# ehf.mean('time').plot(ax=ax[2], cmap=cm, add_colorbar=False, vmax=vmax)\n",
    "\n",
    "# ds_gtehf.where(ds_gtehf>0).mean('year').plot(ax=ax[2], cmap=cm, vmax=vmax, add_colorbar=False)\n",
    "\n",
    "ds_gtehf.where(ds_gtehf>0).max('year').plot(ax=ax[2], cmap=cm, vmax=vmax, add_colorbar=False)\n",
    "ax[2].set_title('EHF \\n 1983-2016')\n",
    "\n",
    "# sens_slopes((HWD(tx.load())).groupby('time.year').sum('time').load()).plot()\n",
    "\n",
    "cb2 = sens_slopes((HWD(tx.load())).groupby('time.year').sum('time').load()).plot(ax=ax[3], cmap=cc, add_colorbar=False, vmax = vmax1, vmin=vmin1)\n",
    "sens_slopes((HWD(tn.load())).groupby('time.year').sum('time').load()).plot(ax=ax[4], cmap=cc, add_colorbar=False, vmax = vmax1, vmin=vmin1)\n",
    "# sens_slopes((ds_gtehf.where(ds_gtehf>0)).load()).plot(ax=ax[5], cmap=cc, add_colorbar=False, vmax = vmax1, vmin=vmin1)\n",
    "\n",
    "# sens_slope(tn.load()).plot(ax=ax[4], cmap=cc, add_colorbar=False, vmax = vmax1, vmin=vmin1)\n",
    "# sens_slope(ehf.load()).plot(ax=ax[5], cmap=cc, add_colorbar=False, vmax = vmax1, vmin = vmin1)\n",
    "\n",
    "\n",
    "ax[3].set_title('CTx90pctl \\n 1983-2016')\n",
    "ax[4].set_title('CTc90pctl \\n 1983-2016')\n",
    "ax[5].set_title('EHF \\n 1983-2016')\n",
    "\n",
    "# Add colorbar\n",
    "cb = [cb1, cb2]\n",
    "labels = ['HWD','Trend']\n",
    "# cax2 = fig.add_axes([1,0.13,0.02,0.3])\n",
    "# fig.colorbar(cb3,cax = cax2, orientation='vertical', extend='both',label='ehf-Trend')\n",
    "\n",
    "for i, j in enumerate([0.585, 0.13]):\n",
    "    cax = fig.add_axes([1, j, 0.02, 0.3])\n",
    "    fig.colorbar(cb[i], cax=cax, orientation='vertical', extend='both', label=labels[i])\n",
    "\n",
    "fig.tight_layout()\n",
    "plt.savefig(path+'/figures/lenght of the longest heatwave.jpeg', bbox_inches='tight')"
   ]
  },
  {
   "cell_type": "code",
   "execution_count": null,
   "id": "31bae484-54e9-4d5d-ab5b-4abd9a3e92f4",
   "metadata": {},
   "outputs": [],
   "source": []
  },
  {
   "cell_type": "code",
   "execution_count": null,
   "id": "949a0edd-7c6f-43f4-ad0b-3c0c32f41bed",
   "metadata": {},
   "outputs": [],
   "source": [
    "%%time\n",
    "\n",
    "fig, ax = plt.subplots(ncols=4, nrows=3, figsize=(10, 5), subplot_kw={'projection': crs.PlateCarree()})\n",
    "ax = ax.flatten()\n",
    "set_fig_params(ax)\n",
    "t1 = ['1984', '1994', '2004']\n",
    "t2 = ['1993', '2003', '2013']\n",
    "\n",
    "vmax = 24\n",
    "vmax1 = 1\n",
    "vmin1 = -1\n",
    "cm = 'YlOrRd'\n",
    "cc = 'rainbow'\n",
    "\n",
    "for i, j in enumerate(t1):\n",
    "\n",
    "    \n",
    "    hdtx = hwn_tx.groupby('time.year').sum('time').max('year')\n",
    "    cb1 = hdtx.where(hdtx>0).plot(ax=ax[0], cmap=cm, add_colorbar=False, vmax=vmax)\n",
    "    ax[0].set_title('CTx90 \\n 1983-2016')\n",
    "\n",
    "\n",
    "    # (HWD(tn)).groupby('time.year').sum('time').max('year').plot(ax=ax[1], cmap=cm, add_colorbar=False, vmax=vmax)\n",
    "    hdtn = hwn_tn.groupby('time.year').sum('time').max('year')\n",
    "    hdtn.where(hdtn>0).plot(ax=ax[1], cmap=cm, add_colorbar=False, vmax=vmax)\n",
    "    ax[1].set_title('CTn90 \\n 1983-2016')\n",
    "\n",
    "    # ehf.mean('time').plot(ax=ax[2], cmap=cm, add_colorbar=False, vmax=vmax)\n",
    "\n",
    "    # ds_gtehf.where(ds_gtehf>0).mean('year').plot(ax=ax[2], cmap=cm, vmax=vmax, add_colorbar=False)\n",
    "\n",
    "    ds_gtehf.where(ds_gtehf>0).max('year').plot(ax=ax[2], cmap=cm, vmax=vmax, add_colorbar=False)\n",
    "    ax[2].set_title('EHF \\n 1983-2016')\n",
    "\n",
    "    # sens_slopes((HWD(tx.load())).groupby('time.year').sum('time').load()).plot()\n",
    "\n",
    "    cb2 = sens_slopes((HWD(tx.load())).groupby('time.year').sum('time').load()).plot(ax=ax[3], cmap=cc, add_colorbar=False, vmax = vmax1, vmin=vmin1)\n",
    "    sens_slopes((HWD(tn.load())).groupby('time.year').sum('time').load()).plot(ax=ax[4], cmap=cc, add_colorbar=False, vmax = vmax1, vmin=vmin1)\n",
    "    # sens_slopes((ds_gtehf.where(ds_gtehf>0)).load()).plot(ax=ax[5], cmap=cc, add_colorbar=False, vmax = vmax1, vmin=vmin1)\n",
    "\n",
    "    # sens_slope(tn.load()).plot(ax=ax[4], cmap=cc, add_colorbar=False, vmax = vmax1, vmin=vmin1)\n",
    "    # sens_slope(ehf.load()).plot(ax=ax[5], cmap=cc, add_colorbar=False, vmax = vmax1, vmin = vmin1)\n",
    "\n",
    "\n",
    "    ax[3].set_title('CTx90pctl \\n 1983-2016')\n",
    "    ax[4].set_title('CTc90pctl \\n 1983-2016')\n",
    "    ax[5].set_title('EHF \\n 1983-2016')\n",
    "\n",
    "    # Add colorbar\n",
    "    cb = [cb1, cb2]\n",
    "    labels = ['HWD','Trend']\n",
    "    # cax2 = fig.add_axes([1,0.13,0.02,0.3])\n",
    "    # fig.colorbar(cb3,cax = cax2, orientation='vertical', extend='both',label='ehf-Trend')\n",
    "\n",
    "    for i, j in enumerate([0.585, 0.13]):\n",
    "        cax = fig.add_axes([1, j, 0.02, 0.3])\n",
    "        fig.colorbar(cb[i], cax=cax, orientation='vertical', extend='both', label=labels[i])\n",
    "\n",
    "    fig.tight_layout()\n",
    "# plt.savefig(path+'/figures/lenght of the longest heatwave.jpeg', bbox_inches='tight')"
   ]
  },
  {
   "cell_type": "code",
   "execution_count": null,
   "id": "e12d9e15-bf6b-4c41-9e9d-54c794aa14ac",
   "metadata": {},
   "outputs": [],
   "source": []
  },
  {
   "cell_type": "code",
   "execution_count": null,
   "id": "6bb53a10-5912-4cf0-af2d-be058be8b288",
   "metadata": {
    "tags": []
   },
   "outputs": [],
   "source": [
    "### ehf lenght of the longest heatwave days ###\n",
    "\n",
    "fig, ax = plt.subplots(ncols=4, nrows=3, figsize=(10, 5), subplot_kw={'projection': crs.PlateCarree()})\n",
    "ax = ax.flatten()\n",
    "set_fig_params(ax)\n",
    "t1 = ['1984', '1994', '2004']\n",
    "t2 = ['1993', '2003', '2013']\n",
    "for i, j in enumerate(t1):\n",
    "\n",
    "    # Plot data\n",
    "    vmax=10\n",
    "    cc='coolwarm'\n",
    "    hwd_ehf = ehf.sel(time=slice(t1[i],t2[i])).groupby('time.season').max('time')\n",
    "    for x,y in enumerate(hwd_ehf.season):\n",
    "        if i == 0:\n",
    "            cb1 = hwd_ehf.isel(season = x).plot(ax=ax[x], cmap=cc, vmax=vmax, add_colorbar=False)\n",
    "            ax[0].set_ylabel('ehf \\n 1984-1993', fontweight='bold')\n",
    "\n",
    "        elif i == 1:\n",
    "            cb2 = hwd_ehf.isel(season = x).plot(ax=ax[x+4], cmap=cc, vmax=vmax, add_colorbar=False)\n",
    "            ax[4].set_ylabel('ehf \\n 1994-2003', fontweight='bold')\n",
    "\n",
    "        else:\n",
    "            cb3 = hwd_ehf.isel(season = x).plot(ax=ax[x+8], cmap=cc, vmax=vmax, add_colorbar=False)\n",
    "            ax[8].set_ylabel('ehf \\n 2004-2013', fontweight='bold')\n",
    "\n",
    "for i, j in enumerate(ax):\n",
    "    ax[i].set_xlabel(None)\n",
    "\n",
    "for num in range(12):\n",
    "    if num not in [0, 4, 8]:\n",
    "        ax[num].set_ylabel(None)\n",
    "\n",
    "cb = [cb1, cb2, cb3]\n",
    "\n",
    "for i, j in enumerate([0.72, 0.40, 0.08]):\n",
    "    cax = fig.add_axes([1, j, 0.02, 0.2])\n",
    "    fig.colorbar(cb[i], cax=cax, orientation='vertical', extend='both', label='HWD (ehf)')\n",
    "\n",
    "fig.tight_layout()\n",
    "plt.savefig(f'{path}/figures/Climatologies of Seasonal Heatwaves {t1[0]}-{t2[2]} ehf_HWD.jpeg', bbox_inches='tight')"
   ]
  },
  {
   "cell_type": "code",
   "execution_count": null,
   "id": "cda505ec-05e0-4d79-8aab-c2bbc414f7b3",
   "metadata": {},
   "outputs": [],
   "source": []
  },
  {
   "cell_type": "code",
   "execution_count": null,
   "id": "a2f55e66-e7b8-4ecc-a2ab-ed5f96fbf3a7",
   "metadata": {
    "tags": []
   },
   "outputs": [],
   "source": [
    "# Your existing code to create hwn_tx\n",
    "\n",
    "def max_consecutive_true(arr, chunk_size):\n",
    "    # Create an array where True values are 1 and False values are 0\n",
    "    binary_arr = arr.astype(int)\n",
    "\n",
    "    max_consecutive = []\n",
    "\n",
    "    for start in range(0, len(arr.time), chunk_size):\n",
    "        end = min(start + chunk_size, len(arr.time))\n",
    "        chunk = binary_arr.isel(time=slice(start, end))\n",
    "\n",
    "        # Calculate the cumulative sum along the 'time' dimension in the chunk\n",
    "        cumsum = chunk.cumsum(dim='time', dtype='int')\n",
    "\n",
    "        # Find the maximum value in the cumulative sum array\n",
    "        max_chunk = cumsum.max(dim='time', skipna=True)\n",
    "\n",
    "        max_consecutive.append(max_chunk)\n",
    "\n",
    "    max_consecutive = xr.concat(max_consecutive, dim='chunk')\n",
    "    \n",
    "    # Find the maximum value across all chunks\n",
    "    max_overall = max_consecutive.max(dim='chunk', skipna=True)\n",
    "    # dates_overall = max_consecutive.idxmax(dim='chunk', skipna=True)\n",
    "\n",
    "    return max_overall\n",
    "\n",
    "# Specify the chunk size (adjust as needed)\n",
    "chunk_size = 1000\n"
   ]
  },
  {
   "cell_type": "code",
   "execution_count": null,
   "id": "f771f834-e5b9-4c32-ad16-c78f0ed06381",
   "metadata": {},
   "outputs": [],
   "source": [
    "\n",
    "# Calculate the maximum consecutive 'True' values for each grid point\n",
    "max_consecutive = max_consecutive_true(hwn_tx, chunk_size)"
   ]
  },
  {
   "cell_type": "code",
   "execution_count": null,
   "id": "40e4c530-25d4-48e6-b30d-6a0bc853e9f3",
   "metadata": {
    "tags": []
   },
   "outputs": [],
   "source": [
    "max_consecutive.where(max_consecutive >0).plot()"
   ]
  },
  {
   "cell_type": "code",
   "execution_count": null,
   "id": "44759790-7f74-48ec-8dc1-f95e461f7570",
   "metadata": {
    "tags": []
   },
   "outputs": [],
   "source": [
    "hwn_txx = hwn_tx.chunk({'time':-1})"
   ]
  },
  {
   "cell_type": "code",
   "execution_count": null,
   "id": "e08237cc-3320-4481-b1b4-9efe676ed401",
   "metadata": {
    "tags": []
   },
   "outputs": [],
   "source": [
    "# Create an array where True values are 1 and False values are 0\n",
    "binary_arr = hwn_tx.astype(int)\n",
    "\n",
    "max_consecutive = []\n",
    "\n",
    "for start in range(0, len(hwn_tx.time), 1000):\n",
    "    end = min(start + 1000, len(hwn_tx.time))\n",
    "    chunk = binary_arr.isel(time=slice(start, end))\n",
    "\n",
    "    # Calculate the cumulative sum along the 'time' dimension in the chunk\n",
    "    cumsum = chunk.cumsum(dim='time', dtype='int')\n",
    "    \n",
    "    # print(cumsum)\n",
    "\n",
    "#     # Find the maximum value in the cumulative sum array\n",
    "    max_chunk = cumsum.max(dim='time', skipna=True)\n",
    "    \n",
    "    ds = cumsum.where(cumsum.max(dim='time', skipna = True))\n",
    "    \n",
    "#     max_consecutive.append(max_chunk)\n",
    "\n",
    "# max_consecutive = xr.concat(max_consecutive, dim='chunk')\n",
    "\n",
    "# # Find the maximum value across all chunks\n",
    "# max_overall = max_consecutive.max(dim='chunk', skipna=True)\n",
    "# # dates_overall = max_consecutive.idxmax(dim='chunk', skipna=True)\n",
    "\n"
   ]
  },
  {
   "cell_type": "code",
   "execution_count": null,
   "id": "c8aee8f9-5b4d-494c-82b3-af2aa2997d74",
   "metadata": {
    "tags": []
   },
   "outputs": [],
   "source": [
    "ds"
   ]
  },
  {
   "cell_type": "code",
   "execution_count": null,
   "id": "bd0ff834-2727-4ad9-964b-f5180026c514",
   "metadata": {
    "tags": []
   },
   "outputs": [],
   "source": [
    "dates = ds.idxmax(dim='time').load()"
   ]
  },
  {
   "cell_type": "code",
   "execution_count": null,
   "id": "1fe8c4f6-8761-4d89-935a-dbd31ad776ce",
   "metadata": {
    "tags": []
   },
   "outputs": [],
   "source": [
    "d = cumsum.idxmax(dim = 'time').load()"
   ]
  },
  {
   "cell_type": "code",
   "execution_count": null,
   "id": "92385a2d-fe7c-463c-ba83-40805bf2759a",
   "metadata": {
    "tags": []
   },
   "outputs": [],
   "source": [
    "d[0][0].values.astype(np.int64)"
   ]
  },
  {
   "cell_type": "code",
   "execution_count": null,
   "id": "5943bf77-157c-494d-b821-5c4b1980e98a",
   "metadata": {
    "tags": []
   },
   "outputs": [],
   "source": [
    "d.astype(int)#.plot()"
   ]
  },
  {
   "cell_type": "code",
   "execution_count": null,
   "id": "e6a8a4f1-339e-4d57-94b2-2bb3d9ef03eb",
   "metadata": {
    "tags": []
   },
   "outputs": [],
   "source": [
    "import datetime"
   ]
  },
  {
   "cell_type": "code",
   "execution_count": null,
   "id": "3c56027a-75e2-48a1-a82b-a416c704cd45",
   "metadata": {
    "tags": []
   },
   "outputs": [],
   "source": [
    "x = d.sel(longitude=-1, latitude=4, method = 'nearest').values.astype(np.int64)\n"
   ]
  },
  {
   "cell_type": "code",
   "execution_count": null,
   "id": "cc96dde0-a0f1-4d55-a26f-6d3ae8c5b0f2",
   "metadata": {
    "tags": []
   },
   "outputs": [],
   "source": [
    "np.datetime64(3, 'us')"
   ]
  },
  {
   "cell_type": "code",
   "execution_count": null,
   "id": "3ff46aac-38e4-43ab-91d7-eb4ec61a6431",
   "metadata": {},
   "outputs": [],
   "source": [
    "np.datetime64(int(x),'us')"
   ]
  },
  {
   "cell_type": "code",
   "execution_count": null,
   "id": "b7080f4f-a272-4522-a65b-112c617fcdef",
   "metadata": {
    "tags": []
   },
   "outputs": [],
   "source": [
    "# array = ehf.groupby('time.season').max('time')\n",
    "# array.isel(longitude=array.argmax('longitude'))\n",
    "# ehf.idxmax('time').values#.resample(time='M')\n",
    "# ehf.groupby('time.season').max('time').argmax()\n",
    "# ds = ds_gtehf.where(ds_gtehf>0).idxmax()"
   ]
  },
  {
   "cell_type": "code",
   "execution_count": null,
   "id": "70b3d34d-cfb9-402a-8c6b-6b344b71c00b",
   "metadata": {
    "tags": []
   },
   "outputs": [],
   "source": []
  },
  {
   "cell_type": "code",
   "execution_count": null,
   "id": "2a2209b8-1030-4fbc-bca0-e84f6c8bc2e7",
   "metadata": {
    "tags": []
   },
   "outputs": [],
   "source": [
    "ds_gtehf.where(ds_gtehf>0).max('year').plot()"
   ]
  },
  {
   "cell_type": "code",
   "execution_count": null,
   "id": "79dea3cc-58ff-4546-bdef-4c86b9a19672",
   "metadata": {
    "tags": []
   },
   "outputs": [],
   "source": [
    "tmp_max = df_read(path,tmax,\"Tmax\")"
   ]
  },
  {
   "cell_type": "code",
   "execution_count": null,
   "id": "bc2244c6-024c-4736-b8a3-a58e14059d2b",
   "metadata": {
    "tags": []
   },
   "outputs": [],
   "source": [
    "ds = hwn_tx.resample(time='M').sum('time').argmax('time')"
   ]
  },
  {
   "cell_type": "code",
   "execution_count": null,
   "id": "5a3af82c-65ff-4e7e-9d3b-2622ee257e30",
   "metadata": {
    "tags": []
   },
   "outputs": [],
   "source": [
    "nan_mask = np.isnan(tx)"
   ]
  },
  {
   "cell_type": "code",
   "execution_count": null,
   "id": "6e7990e8-cf98-4664-ba45-4c423bc3d64c",
   "metadata": {
    "tags": []
   },
   "outputs": [],
   "source": [
    "max_consecutive_data = np.zeros_like(tx, dtype=int)"
   ]
  },
  {
   "cell_type": "code",
   "execution_count": null,
   "id": "0aaf9e7c-5e18-4c24-a801-a131f46ad8c6",
   "metadata": {},
   "outputs": [],
   "source": []
  },
  {
   "cell_type": "code",
   "execution_count": null,
   "id": "7bef24c2-bbf7-47a5-9a52-b4120fb361a9",
   "metadata": {
    "tags": []
   },
   "outputs": [],
   "source": []
  },
  {
   "cell_type": "code",
   "execution_count": null,
   "id": "99bcb0bf-5586-4180-ba08-b46dc011512f",
   "metadata": {
    "tags": []
   },
   "outputs": [],
   "source": [
    "# longest_heatwave_temperatures = tx['time'].where(ehf == longest_heatwave)\n",
    "# longest_heatwave_period = heatwave_mask.sel(time=heatwave_mask.time[heatwave_periods == longest_heatwave_index])"
   ]
  },
  {
   "cell_type": "code",
   "execution_count": null,
   "id": "3ad3329d-7cfb-47ea-bee7-23bd87ea91be",
   "metadata": {
    "tags": []
   },
   "outputs": [],
   "source": [
    "longest_heatwave_time = tmp_max['time'].where(tx == longest_heatwave, drop=True)"
   ]
  },
  {
   "cell_type": "code",
   "execution_count": null,
   "id": "b6ea0093-463e-40d5-b8c6-11389961edf7",
   "metadata": {},
   "outputs": [],
   "source": [
    "# Find the start and end dates of the longest heatwave\n",
    "start_date = longest_heatwave_temperatures.min().values\n",
    "end_date = longest_heatwave_temperatures.max().values"
   ]
  },
  {
   "cell_type": "code",
   "execution_count": null,
   "id": "bd54338b-1ef5-406a-8134-4b037da339c2",
   "metadata": {},
   "outputs": [],
   "source": [
    "start_date"
   ]
  },
  {
   "cell_type": "code",
   "execution_count": null,
   "id": "f3ad8b92-5f27-4886-9509-e1b044904066",
   "metadata": {
    "tags": []
   },
   "outputs": [],
   "source": [
    "longest_heatwave_temperatures.min('time').plot()"
   ]
  },
  {
   "cell_type": "code",
   "execution_count": null,
   "id": "039baeff-6ef6-425c-b5bf-c6d3b0131a60",
   "metadata": {},
   "outputs": [],
   "source": [
    "# ds = tx.cumsum(skipna=True)"
   ]
  },
  {
   "cell_type": "code",
   "execution_count": null,
   "id": "ce7ae47c-a95b-4540-9afa-da94c843e2be",
   "metadata": {},
   "outputs": [],
   "source": [
    "ds = tx.rolling(time=5).count()"
   ]
  },
  {
   "cell_type": "code",
   "execution_count": null,
   "id": "aa0cdae8-726b-4077-95dc-a28e84dd0847",
   "metadata": {
    "tags": []
   },
   "outputs": [],
   "source": [
    "##### Seasonal Averaged HWN ######\n",
    "# %%time #hwntx\n",
    "def hwd_plt(data,t):\n",
    "    # %%time\n",
    "    fig, ax = plt.subplots(ncols=4, nrows=3, figsize=(10, 5), subplot_kw={'projection': crs.PlateCarree()})\n",
    "    ax = ax.flatten()\n",
    "    set_fig_params(ax)\n",
    "    t1 = ['1984', '1994', '2004']\n",
    "    t2 = ['1993', '2003', '2013']\n",
    "    for i, j in enumerate(t1):\n",
    "\n",
    "        # Plot data\n",
    "        vmax=4\n",
    "        cc='coolwarm'\n",
    "        # hwn_tn.groupby('time.year').sum('time').max('year')\n",
    "        # hwn_tx.resample(time='M').sum('time').groupby('time.season').max('time')\n",
    "        hwdtx = data.sel(time=slice(t1[i],t2[i])).resample(time='M').sum('time').groupby('time.season').max('time')\n",
    "        # hwdtx = data.sel(time=slice(t1[i],t2[i])).groupby('time.season').sum('time').max()\n",
    "        hwdtx = hwdtx.where(hwdtx>0)\n",
    "        for x,y in enumerate(hwdtx.season):\n",
    "            if i == 0:\n",
    "                cb1 = hwdtx.isel(season = x).plot(ax=ax[x], cmap=cc, vmax=vmax, add_colorbar=False)\n",
    "                ax[0].set_ylabel('1984-1993', fontweight='bold')\n",
    "\n",
    "            elif i == 1:\n",
    "                cb2 = hwdtx.isel(season = x).plot(ax=ax[x+4], cmap=cc, vmax=vmax, add_colorbar=False)\n",
    "                ax[4].set_ylabel('1994-2003', fontweight='bold')\n",
    "\n",
    "            else:\n",
    "                cb3 = hwdtx.isel(season = x).plot(ax=ax[x+8], cmap=cc, vmax=vmax, add_colorbar=False)\n",
    "                ax[8].set_ylabel('2004-2013', fontweight='bold')\n",
    "\n",
    "    for i, j in enumerate(ax):\n",
    "        ax[i].set_xlabel(None)\n",
    "\n",
    "    for num in range(12):\n",
    "        if num not in [0, 4, 8]:\n",
    "            ax[num].set_ylabel(None)\n",
    "\n",
    "    cb = [cb1, cb2, cb3]\n",
    "\n",
    "    for i, j in enumerate([0.72, 0.40, 0.09]):\n",
    "        cax = fig.add_axes([1, j, 0.02, 0.2])\n",
    "        fig.colorbar(cb[i], cax=cax, orientation='vertical', extend='both', label=f'HWN \\n ({t})')\n",
    "\n",
    "    fig.tight_layout()\n",
    "    plt.savefig(f'{path}/figures/Climatologies of Seasonal Heatwaves {t1[0]}-{t2[2]} {nameof(t)}_HWD.jpeg', bbox_inches='tight')"
   ]
  },
  {
   "cell_type": "code",
   "execution_count": null,
   "id": "d170daee-5a42-4256-b7e3-98ac11cedd3d",
   "metadata": {
    "tags": []
   },
   "outputs": [],
   "source": [
    "hwd_plt(hwn_tx,'tx')"
   ]
  },
  {
   "cell_type": "code",
   "execution_count": null,
   "id": "f7b58712-ead1-45a1-ae20-924f834b5568",
   "metadata": {
    "tags": []
   },
   "outputs": [],
   "source": [
    "hwd_plt(hwn_tn, 'tn')"
   ]
  },
  {
   "cell_type": "code",
   "execution_count": null,
   "id": "4eff8b58-bc91-40b7-acae-bbc320b49aca",
   "metadata": {},
   "outputs": [],
   "source": []
  },
  {
   "cell_type": "code",
   "execution_count": null,
   "id": "741fd808-b52f-4e75-9636-b4c847ed6e1a",
   "metadata": {},
   "outputs": [],
   "source": []
  },
  {
   "cell_type": "code",
   "execution_count": null,
   "id": "6604a1c4-bdcd-4adb-ae5e-b0cd57291125",
   "metadata": {},
   "outputs": [],
   "source": []
  },
  {
   "cell_type": "markdown",
   "id": "5d61d9ee-3310-438d-a958-0d298ec7e2df",
   "metadata": {},
   "source": [
    "#### Annual Sum of Contributing Heat wave Days (HWF)"
   ]
  },
  {
   "cell_type": "code",
   "execution_count": null,
   "id": "993b9725-6cce-46c7-be7a-7fe4abe16a25",
   "metadata": {},
   "outputs": [],
   "source": []
  },
  {
   "cell_type": "code",
   "execution_count": null,
   "id": "57dffb24-0b0c-4aa0-84b4-473b4182814e",
   "metadata": {},
   "outputs": [],
   "source": [
    "%%time\n",
    "\n",
    "# Create subplots\n",
    "fig, ax = plt.subplots(ncols=3, nrows=2, figsize=(10, 5), subplot_kw={'projection': crs.PlateCarree()})\n",
    "ax = ax.flatten()\n",
    "set_fig_params(ax)\n",
    "\n",
    "vmax = 12\n",
    "vmax1 = 0.09\n",
    "vmin1 = -0.09\n",
    "# windows = candidates.chunk({'time':20}).rolling(time=5, center=True, min_periods=1).construct('rolling_dim')\n",
    "# heatwave_starts = rising_filter_dask(windows, dim='rolling_dim')\n",
    "cm = 'YlOrRd'\n",
    "cc = 'rainbow'\n",
    "\n",
    "cb1 = (HWD(tx).sum('time') / 34).plot(ax=ax[0], cmap=cm, add_colorbar=False, vmax=vmax)\n",
    "ax[0].set_title('CTx90 \\n 1983-2016')\n",
    "\n",
    "(HWD(tn).sum('time') / 34).plot(ax=ax[1], cmap=cm, add_colorbar=False, vmax=vmax)\n",
    "ax[1].set_title('CTn90 \\n 1983-2016')\n",
    "\n",
    "# (HWD(ehf).sum('time') / 34).plot(ax=ax[2], cmap=cm, add_colorbar=False, vmax=vmax)\n",
    "# ehf = ehf.chunk({'time':1000})\n",
    "# mask = (df_read(path,tmean_accl,'Tmax')*abs(df_read(path,tmean_sig,'Tmax'))).chunk({'time':1000}).where(ehf>0,drop=True)\n",
    "# mask = ehf.where(ehf>0,drop=True)\n",
    "# (mask.rolling(time=3).sum()).mean('time').plot(ax=ax[2], cmap=cm, add_colorbar=False, vmax=vmax)\n",
    "\n",
    "# ehf = df_read(path,tmean_accl,'Tmax')*abs(df_read(path,tmean_sig,'Tmax'))\n",
    "(ehf.where(ehf>0,drop=True).rolling(time=3).sum()).mean('time').plot(ax=ax[2], cmap=cm, add_colorbar=False, vmax=vmax)\n",
    "ax[2].set_title('EHF \\n 1983-2016')\n",
    "\n",
    "cb2 = sens_slope(tx.load()).plot(ax=ax[3], cmap=cc, add_colorbar=False, vmax = vmax1, vmin=vmin1)\n",
    "sens_slope(tn.load()).plot(ax=ax[4], cmap=cc, add_colorbar=False, vmax = vmax1, vmin=vmin1)\n",
    "sens_slope(ehf.load()).plot(ax=ax[5], cmap=cc, add_colorbar=False, vmax = vmax1, vmin = vmin1)\n",
    "\n",
    "\n",
    "ax[3].set_title('CTx90pctl \\n 1983-2016')\n",
    "ax[4].set_title('CTc90pctl \\n 1983-2016')\n",
    "ax[5].set_title('EHF \\n 1983-2016')\n",
    "\n",
    "# Add colorbar\n",
    "cb = [cb1, cb2]\n",
    "labels = ['HWD','Trends']\n",
    "# Add colorbars\n",
    "for i, j in enumerate([0.585, 0.13]):\n",
    "    cax = fig.add_axes([1, j, 0.02, 0.3])\n",
    "    fig.colorbar(cb[i], cax=cax, orientation='vertical', extend='both', label=labels[i])\n",
    "    \n",
    "fig.tight_layout()\n",
    "plt.savefig(path+'/figures/graph22.jpeg', bbox_inches='tight')"
   ]
  },
  {
   "cell_type": "code",
   "execution_count": null,
   "id": "9e35faa5-620d-41e7-a92a-9feb7b1ba630",
   "metadata": {},
   "outputs": [],
   "source": []
  },
  {
   "cell_type": "markdown",
   "id": "a14c8e3f-2ab3-4192-8583-08f8b6859295",
   "metadata": {},
   "source": [
    "### Climatologies of Yearly Sum of participating heat wave days\n",
    "   -  Average lenght of the yearly heat wave days x Average heatwave \n",
    "   -  yearly heatwave x length of yearly heat wave event / average\n",
    "   \n",
    "HWN x Average_lenght"
   ]
  },
  {
   "cell_type": "code",
   "execution_count": null,
   "id": "50e94bf6-ae8e-4611-863c-772d58aba56b",
   "metadata": {
    "tags": []
   },
   "outputs": [],
   "source": [
    "yearly_av_hw_tx = hwn_tx.sum('time')/33\n",
    "lenght_av_hw_tx = hwn_tx.groupby('time.year').sum('time').mean('year')\n",
    "hwf_tx = yearly_av_hw_tx*lenght_av_hw_tx"
   ]
  },
  {
   "cell_type": "code",
   "execution_count": null,
   "id": "10034eed-d7ff-437c-baad-fe32357e83ab",
   "metadata": {
    "tags": []
   },
   "outputs": [],
   "source": [
    "yearly_av_hw_tn = hwn_tn.sum('time')/33\n",
    "lenght_av_hw_tn = hwn_tn.groupby('time.year').sum('time').mean('year')\n",
    "hwf_tn = yearly_av_hw_tn*lenght_av_hw_tn"
   ]
  },
  {
   "cell_type": "code",
   "execution_count": null,
   "id": "a4ab687b-aea3-4f67-b9cb-c2d1b0fc2228",
   "metadata": {
    "tags": []
   },
   "outputs": [],
   "source": [
    "# hwf_ehf.where(hwf_ehf>0).plot(vmax=26)"
   ]
  },
  {
   "cell_type": "code",
   "execution_count": null,
   "id": "c63a4811-1528-495a-90bf-419dcd10c497",
   "metadata": {},
   "outputs": [],
   "source": [
    "%%time\n",
    "\n",
    "# tx = xr.open_dataset(f'{path1}/Tmax/chirts.Tmax.1983.2016.WA.days_p25.nc').Tmax.sortby('time').drop_duplicates('time').chunk({'time': 20})\n",
    "# tn = xr.open_dataset(f'{path1}/Tmin/chirts.Tmin.1983.2016.WA.days_p25.nc').Tmin.sortby('time').drop_duplicates('time').chunk({'time': 20})\n",
    "\n",
    "fig, ax = plt.subplots(ncols=3, nrows=1, figsize=(10, 5), subplot_kw={'projection': crs.PlateCarree()})\n",
    "ax = ax.flatten()\n",
    "set_fig_params(ax)\n",
    "\n",
    "vmax = 30\n",
    "\n",
    "# cm = 'viridis'\n",
    "cc = 'coolwarm'\n",
    "\n",
    "cb = hwf_tx.where(hwf_tx>0).plot(ax=ax[0], cmap=cc, vmax=vmax, add_colorbar=False)\n",
    "\n",
    "# .plot(ax=ax[0], cmap=cc, vmax=vmax, add_colorbar=False)\n",
    "\n",
    "hwf_tn.where(hwf_tn>0).plot(ax=ax[1], cmap=cc, vmax=vmax, add_colorbar=False)\n",
    "\n",
    "# ehf.groupby('time.year').sum().mean('year').plot(ax=ax[2], cmap=cc, add_colorbar=False)\n",
    "# (ehf.where(ehf>0,drop=True).rolling(time=3).sum()).mean('time').plot(ax=ax[2], cmap=cc, add_colorbar=False)\n",
    "hwf_ehf.where(hwf_ehf>0).plot(ax=ax[2], cmap=cc, vmax= vmax,add_colorbar=False)\n",
    "ax[2].set_title('EHF \\n 1983-2016')\n",
    "\n",
    "\n",
    "\n",
    "# sens_slope(HWF(path1, 'Tmax/tx-tx90.nc', temperature_type='Tmax', var = 'Tmax')).plot(ax=ax[3], cmap=cc)\n",
    "# sens_slope(HWF(path1, 'Tmin/tn-tn90.nc', temperature_type='Tmin', var = 'Tmin')).plot(ax=ax[4], cmap=cc)\n",
    "# sens_slope(HWF_ehf(path1, 'scripts/EHF.nc', var = 'Tmax')).plot(ax=ax[5], cmap=cc)\n",
    "\n",
    "ax[0].set_title('CTx90pct \\n 1983-2016')\n",
    "ax[1].set_title('CTn90pct \\n 1983-2016')\n",
    "# ax[5].set_title('EHF \\n 1983-2016')\n",
    "\n",
    "# cb = [cb1, cb2]\n",
    "# labels = ['HWF','Trends']\n",
    "# # Add colorbars\n",
    "# for i, j in enumerate([0.59, 0.13]):\n",
    "#     cax = fig.add_axes([1, j, 0.02, 0.3])\n",
    "#     fig.colorbar(cb[i], cax=cax, orientation='vertical', extend='both', label=labels[i])\n",
    "cax = fig.add_axes([1,0.35,0.02,0.3])\n",
    "fig.colorbar(cb, cax=cax, orientation='vertical', extend='both', label='HWF')\n",
    "\n",
    "fig.tight_layout()\n",
    "plt.savefig(path+'/figures/Yearly Number of Participating Heatwave Day.jpeg', bbox_inches='tight')"
   ]
  },
  {
   "cell_type": "code",
   "execution_count": null,
   "id": "9aadeaf2-c4ee-4a51-9e7c-bbabec3c4e25",
   "metadata": {
    "tags": []
   },
   "outputs": [],
   "source": []
  },
  {
   "cell_type": "markdown",
   "id": "6c67f75d-bb7a-45ea-9069-0c31ee5b9c34",
   "metadata": {},
   "source": [
    "#### Decadal Analysis"
   ]
  },
  {
   "cell_type": "code",
   "execution_count": null,
   "id": "2ffba811-585e-4711-b84b-3838105424b0",
   "metadata": {},
   "outputs": [],
   "source": []
  },
  {
   "cell_type": "markdown",
   "id": "8c6f42e5-426b-453c-abcf-69de49b9968f",
   "metadata": {},
   "source": [
    "###### HWN 1983-1993"
   ]
  },
  {
   "cell_type": "code",
   "execution_count": null,
   "id": "843606be-ac37-451e-818e-39d180aa3684",
   "metadata": {
    "tags": []
   },
   "outputs": [],
   "source": [
    "%%time\n",
    "t1 = '2005'\n",
    "t2 = '2015'\n",
    "# Create subplots\n",
    "fig, ax = plt.subplots(ncols=3, nrows=2, figsize=(10, 5), subplot_kw={'projection': crs.PlateCarree()})\n",
    "ax = ax.flatten()\n",
    "set_fig_params(ax)\n",
    "\n",
    "# Plot data\n",
    "vmax=15\n",
    "cc='coolwarm'\n",
    "\n",
    "hwdtx = hwn_tx.sel(time=slice(t1,t2)).sum('time')/10\n",
    "cb1 = hwdtx.where(hwdtx>0).plot(ax=ax[0], cmap=cc, vmax=vmax, add_colorbar=False)\n",
    "ax[0].set_title(f'CTx90 {t1}-{t2}')\n",
    "\n",
    "\n",
    "hwdtn = hwn_tn.sel(time=slice(t1,t2)).sum('time')/10\n",
    "hwdtn.where(hwdtn>0).plot(ax=ax[1], cmap=cc, vmax=vmax, add_colorbar=False)\n",
    "ax[1].set_title(f'CTn90 {t1}-{t2}')\n",
    "\n",
    "ds_gtehf.where(ds_gtehf>0).sel(year=slice(t1,t2)).mean('year').plot(ax=ax[2], cmap=cc, vmax=vmax, add_colorbar=False)\n",
    "ax[2].set_title(f'EHF {t1}-{t2}')\n",
    "\n",
    "cm = 'RdBu_r'\n",
    "vm = 1\n",
    "\n",
    "txsl = hwn_tx.groupby('time.year').sum('time').sel(year=slice(t1,t2))\n",
    "# txsl = txsl.where(txsl>0).load()\n",
    "cb2 = sens_slopes(txsl.where(txsl>0).load()).plot(ax=ax[3], vmax=vm, cmap=cm, add_colorbar=False)\n",
    "ax[3].set_title(f'CTx90 {t1}-{t2}')\n",
    "\n",
    "\n",
    "tnsl = hwn_tn.groupby('time.year').sum('time').sel(year=slice(t1,t2))\n",
    "sens_slopes(tnsl.where(tnsl>0).load()).plot(ax=ax[4], vmax=vm, cmap=cm, add_colorbar=False)\n",
    "ax[4].set_title(f'CTn90 {t1}-{t2}')\n",
    "\n",
    "sens_slopes(ds_gtehf.where(ds_gtehf>0).sel(year=slice(t1,t2)).load()).plot(ax=ax[5], cmap=cm, vmax=vm, add_colorbar=False)\n",
    "ax[5].set_title(f'EHF {t1}-{t2}')\n",
    "\n",
    "# # cb = [cb1, cb2]\n",
    "label = ['HWN','Trends']\n",
    "\n",
    "# cax2 = fig.add_axes([1,0.62,0.02,0.3])\n",
    "# fig.colorbar(cb3,cax = cax2, orientation='vertical', extend='both',label='ehf')\n",
    "cb = [cb1, cb2]\n",
    "# Add colorbars\n",
    "for i, j in enumerate([0.62, 0.13]):\n",
    "    cax = fig.add_axes([1, j, 0.02, 0.3])\n",
    "    fig.colorbar(cb[i], cax=cax, orientation='vertical', extend='both', label = label[i])\n",
    "\n",
    "fig.tight_layout()\n",
    "plt.savefig(f'{path}/figures/Climatologies of Yearly Heatwaves {t1}-{t2}.jpeg', bbox_inches='tight')"
   ]
  },
  {
   "cell_type": "code",
   "execution_count": null,
   "id": "3571d531-12cd-4920-9b21-f663d6f20afd",
   "metadata": {
    "tags": []
   },
   "outputs": [],
   "source": [
    "# txsl = hwn_tx.groupby('time.year').sum('time').sel(year=slice('1983''1993'))\n",
    "# sens_slopes(txsl.where(txsl>0).load()).plot()\n",
    "# sellonlat(hwn_tx.groupby('time.year').sum('time')).plot()#"
   ]
  },
  {
   "cell_type": "code",
   "execution_count": null,
   "id": "57ebb515-8c95-4e0c-92bd-a54b91df63bf",
   "metadata": {
    "tags": []
   },
   "outputs": [],
   "source": [
    "# hwn_tn.groupby('time.year').sum('time').sel(year=slice(t1,t2))#.max('year')"
   ]
  },
  {
   "cell_type": "code",
   "execution_count": null,
   "id": "c8a3bdf0-a437-4237-bf21-230a04eef208",
   "metadata": {
    "tags": []
   },
   "outputs": [],
   "source": [
    "%%time\n",
    "t1 = '2005'\n",
    "t2 = '2015'\n",
    "# Create subplots\n",
    "fig, ax = plt.subplots(ncols=3, nrows=2, figsize=(10, 5), subplot_kw={'projection': crs.PlateCarree()})\n",
    "ax = ax.flatten()\n",
    "set_fig_params(ax)\n",
    "\n",
    "vmax = 24\n",
    "vmax1 = 1\n",
    "vmin1 = -1\n",
    "# windows = candidates.chunk({'time':20}).rolling(time=5, center=True, min_periods=1).construct('rolling_dim')\n",
    "# heatwave_starts = rising_filter_dask(windows, dim='rolling_dim')\n",
    "cm = 'YlOrRd'\n",
    "cc = 'rainbow'\n",
    "\n",
    "sens_slopes((ds_gtehf.where(ds_gtehf>0)).sel(year=slice(t1,t2)).load()).plot(ax=ax[5], cmap=cc, add_colorbar=False)\n",
    "\n",
    "# g=(HWD(tx)).groupby('time.year').sum('time').max('year')\n",
    "# cb1 = g.where(g>0).plot(ax=ax[0], cmap=cm, add_colorbar=False, vmax=vmax)\n",
    "\n",
    "hdtx = hwn_tx.groupby('time.year').sum('time').max('year')\n",
    "cb1 = hdtx.where(hdtx>0).plot(ax=ax[0], cmap=cm, add_colorbar=False, vmax=vmax)\n",
    "ax[0].set_title(f'CTx90 \\n {t1}-{t2}')\n",
    "\n",
    "\n",
    "# (HWD(tn)).groupby('time.year').sum('time').max('year').plot(ax=ax[1], cmap=cm, add_colorbar=False, vmax=vmax)\n",
    "hdtn = hwn_tn.groupby('time.year').sum('time').sel(year=slice(t1,t2)).max('year')\n",
    "hdtn.where(hdtn>0).plot(ax=ax[1], cmap=cm, add_colorbar=False, vmax=vmax)\n",
    "ax[1].set_title(f'CTn90 \\n {t1}-{t2}')\n",
    "\n",
    "# ehf.mean('time').plot(ax=ax[2], cmap=cm, add_colorbar=False, vmax=vmax)\n",
    "\n",
    "# ds_gtehf.where(ds_gtehf>0).mean('year').plot(ax=ax[2], cmap=cm, vmax=vmax, add_colorbar=False)\n",
    "\n",
    "ds_gtehf.where(ds_gtehf>0).sel(year=slice(t1,t2)).max('year').plot(ax=ax[2], cmap=cm, vmax=vmax, add_colorbar=False)\n",
    "ax[2].set_title(f'EHF \\n {t1}-{t2}')\n",
    "\n",
    "# sens_slopes((HWD(tx.load())).groupby('time.year').sum('time').load()).plot()\n",
    "\n",
    "cb2 = sens_slopes((HWD(tx.load())).groupby('time.year').sum('time').sel(year=slice(t1,t2)).load()).plot(ax=ax[3], cmap=cc, add_colorbar=False, vmax = vmax1, vmin=vmin1)\n",
    "sens_slopes((HWD(tn.load())).groupby('time.year').sum('time').sel(year=slice(t1,t2)).load()).plot(ax=ax[4], cmap=cc, add_colorbar=False, vmax = vmax1, vmin=vmin1)\n",
    "# sens_slopes((ds_gtehf.where(ds_gtehf>0)).load()).plot(ax=ax[5], cmap=cc, add_colorbar=False, vmax = vmax1, vmin=vmin1)\n",
    "\n",
    "# sens_slope(tn.load()).plot(ax=ax[4], cmap=cc, add_colorbar=False, vmax = vmax1, vmin=vmin1)\n",
    "# sens_slope(ehf.load()).plot(ax=ax[5], cmap=cc, add_colorbar=False, vmax = vmax1, vmin = vmin1)\n",
    "\n",
    "\n",
    "ax[3].set_title(f'CTx90pctl \\n {t1}-{t2}')\n",
    "ax[4].set_title(f'CTc90pctl \\n {t1}-{t2}')\n",
    "ax[5].set_title(f'EHF \\n {t1}-{t2}')\n",
    "\n",
    "# Add colorbar\n",
    "cb = [cb1, cb2]\n",
    "labels = ['HWD','Trend']\n",
    "# cax2 = fig.add_axes([1,0.13,0.02,0.3])\n",
    "# fig.colorbar(cb3,cax = cax2, orientation='vertical', extend='both',label='ehf-Trend')\n",
    "\n",
    "for i, j in enumerate([0.585, 0.13]):\n",
    "    cax = fig.add_axes([1, j, 0.02, 0.3])\n",
    "    fig.colorbar(cb[i], cax=cax, orientation='vertical', extend='both', label=labels[i])\n",
    "\n",
    "fig.tight_layout()\n",
    "plt.savefig(f'{path}/figures/lenght of the longest heatwave {t1}-{t2}.jpeg', bbox_inches='tight')"
   ]
  },
  {
   "cell_type": "code",
   "execution_count": null,
   "id": "d73cd7ea-8879-4c68-9e37-fc1b4f90358b",
   "metadata": {
    "tags": []
   },
   "outputs": [],
   "source": [
    "# yearly_av_hw_tx = hwn_tx.sum('time')/33\n",
    "# lenght_av_hw_tx = hwn_tx.groupby('time.year').sum('time').mean('year')"
   ]
  },
  {
   "cell_type": "code",
   "execution_count": null,
   "id": "c93f9b1e-77d7-423b-82fc-aee3405581b7",
   "metadata": {},
   "outputs": [],
   "source": [
    "%%time\n",
    "\n",
    "# tx = xr.open_dataset(f'{path1}/Tmax/chirts.Tmax.1983.2016.WA.days_p25.nc').Tmax.sortby('time').drop_duplicates('time').chunk({'time': 20})\n",
    "# tn = xr.open_dataset(f'{path1}/Tmin/chirts.Tmin.1983.2016.WA.days_p25.nc').Tmin.sortby('time').drop_duplicates('time').chunk({'time': 20})\n",
    "\n",
    "fig, ax = plt.subplots(ncols=3, nrows=1, figsize=(10, 5), subplot_kw={'projection': crs.PlateCarree()})\n",
    "ax = ax.flatten()\n",
    "set_fig_params(ax)\n",
    "\n",
    "vmax = 26\n",
    "\n",
    "# cm = 'viridis'\n",
    "cc = 'Set2'\n",
    "\n",
    "cb = hwf_tx.where(hwf_tx>0).plot(ax=ax[0], cmap=cc, vmax=vmax, add_colorbar=False)\n",
    "\n",
    "# .plot(ax=ax[0], cmap=cc, vmax=vmax, add_colorbar=False)\n",
    "\n",
    "hwf_tn.where(hwf_tn>0).plot(ax=ax[1], cmap=cc, vmax=vmax, add_colorbar=False)\n",
    "\n",
    "# ehf.groupby('time.year').sum().mean('year').plot(ax=ax[2], cmap=cc, add_colorbar=False)\n",
    "# (ehf.where(ehf>0,drop=True).rolling(time=3).sum()).mean('time').plot(ax=ax[2], cmap=cc, add_colorbar=False)\n",
    "hwf_ehf.plot(ax=ax[2], cmap=cc, add_colorbar=False)\n",
    "ax[2].set_title('EHF \\n 1983-2016')\n",
    "\n",
    "\n",
    "\n",
    "# sens_slope(HWF(path1, 'Tmax/tx-tx90.nc', temperature_type='Tmax', var = 'Tmax')).plot(ax=ax[3], cmap=cc)\n",
    "# sens_slope(HWF(path1, 'Tmin/tn-tn90.nc', temperature_type='Tmin', var = 'Tmin')).plot(ax=ax[4], cmap=cc)\n",
    "# sens_slope(HWF_ehf(path1, 'scripts/EHF.nc', var = 'Tmax')).plot(ax=ax[5], cmap=cc)\n",
    "\n",
    "ax[0].set_title('CTx90pct \\n 1983-2016')\n",
    "ax[1].set_title('CTn90pct \\n 1983-2016')\n",
    "# ax[5].set_title('EHF \\n 1983-2016')\n",
    "\n",
    "# cb = [cb1, cb2]\n",
    "# labels = ['HWF','Trends']\n",
    "# # Add colorbars\n",
    "# for i, j in enumerate([0.59, 0.13]):\n",
    "#     cax = fig.add_axes([1, j, 0.02, 0.3])\n",
    "#     fig.colorbar(cb[i], cax=cax, orientation='vertical', extend='both', label=labels[i])\n",
    "cax = fig.add_axes([1,0.35,0.02,0.3])\n",
    "fig.colorbar(cb, cax=cax, orientation='vertical', extend='both', label='HWF')\n",
    "\n",
    "fig.tight_layout()\n",
    "#plt.savefig(path+'/figures/Yearly Number of Participating Heatwave Day.jpeg', bbox_inches='tight')"
   ]
  },
  {
   "cell_type": "code",
   "execution_count": null,
   "id": "38bb9145-f2a4-4e08-b9f2-d962e3824090",
   "metadata": {},
   "outputs": [],
   "source": []
  },
  {
   "cell_type": "code",
   "execution_count": null,
   "id": "6647256e-ec80-49c1-a16f-33b3d0517c95",
   "metadata": {},
   "outputs": [],
   "source": []
  },
  {
   "cell_type": "code",
   "execution_count": null,
   "id": "a414f766-60a2-45cb-87a3-a8b57b592533",
   "metadata": {},
   "outputs": [],
   "source": []
  },
  {
   "cell_type": "code",
   "execution_count": null,
   "id": "99e277e0-e9cb-482c-9715-806ff712d767",
   "metadata": {},
   "outputs": [],
   "source": []
  },
  {
   "cell_type": "code",
   "execution_count": null,
   "id": "9b240fc2-feda-41e9-bdbc-25a9bca0cfe0",
   "metadata": {},
   "outputs": [],
   "source": []
  },
  {
   "cell_type": "code",
   "execution_count": null,
   "id": "bb77298b-5c02-4535-bedf-e655135d8136",
   "metadata": {
    "tags": []
   },
   "outputs": [],
   "source": [
    "####Maximum Temperature\n",
    "dx = hwn_tx.groupby('time.year').sum('time').idxmax('year').load().astype(int)#.plot()"
   ]
  },
  {
   "cell_type": "code",
   "execution_count": null,
   "id": "950f940f-8f10-4a26-a08c-5306b6e8f85c",
   "metadata": {
    "tags": []
   },
   "outputs": [],
   "source": [
    "fig, ax = plt.subplots(ncols=1, nrows=1, figsize=(7, 7), subplot_kw={'projection': crs.PlateCarree()})\n",
    "# cb = ax.contourf(ds,levels= np.linspace(1980,2016,1), cmap='rainbow')\n",
    "cb = dx.plot(ax=ax, cmap='Set2', add_colorbar=False)\n",
    "ax.set_extent([-20,22,4,25])\n",
    "ax.add_feature(feature.COASTLINE)\n",
    "ax.add_feature(feature.BORDERS)\n",
    "ax.add_feature(feature.STATES, linewidth = 0.2)\n",
    "ax.set_xticks([-20,-10,0,10], crs=crs.PlateCarree())\n",
    "ax.set_yticks([5,10,15,20], crs=crs.PlateCarree())\n",
    "lon_formatter = LongitudeFormatter(zero_direction_label=True)\n",
    "lat_formatter = LatitudeFormatter()\n",
    "ax.xaxis.set_major_formatter(lon_formatter)\n",
    "ax.yaxis.set_major_formatter(lat_formatter)\n",
    "cbar = fig.colorbar(cb , orientation ='horizontal')\n",
    "cbar.ax.tick_params(rotation=45)\n",
    "# plt.savefig(path+'/figures/years_of_longest heatwave_monthly_pctl_1983-2016.jpeg', bbox_inches='tight')"
   ]
  },
  {
   "cell_type": "code",
   "execution_count": null,
   "id": "81a236c4-e30f-435b-9ee6-33fa34a7e994",
   "metadata": {
    "tags": []
   },
   "outputs": [],
   "source": [
    "dx = hwn_tx.groupby('time.year').sum('time').max('year').load()"
   ]
  },
  {
   "cell_type": "code",
   "execution_count": null,
   "id": "1780f9eb-4482-4c8f-b4b8-086617effc08",
   "metadata": {
    "tags": []
   },
   "outputs": [],
   "source": [
    "fig, ax = plt.subplots(ncols=1, nrows=1, figsize=(7, 7), subplot_kw={'projection': crs.PlateCarree()})\n",
    "# cb = ax.contourf(ds,levels= np.linspace(1980,2016,1), cmap='rainbow')\n",
    "cb = dx.where(dx>0).plot(ax=ax, cmap='Set2', add_colorbar=False)\n",
    "ax.set_extent([-20,22,4,25])\n",
    "ax.add_feature(feature.COASTLINE)\n",
    "ax.add_feature(feature.BORDERS)\n",
    "ax.add_feature(feature.STATES, linewidth = 0.2)\n",
    "ax.set_xticks([-20,-16,-12,-8,-4,0,4,8,12,16,20], crs=crs.PlateCarree())\n",
    "ax.set_yticks([2,4,6,8,10,12,14,16,18,20], crs=crs.PlateCarree())\n",
    "lon_formatter = LongitudeFormatter(zero_direction_label=True)\n",
    "lat_formatter = LatitudeFormatter()\n",
    "ax.xaxis.set_major_formatter(lon_formatter)\n",
    "ax.yaxis.set_major_formatter(lat_formatter)\n",
    "cbar = fig.colorbar(cb , orientation ='horizontal')\n",
    "cbar.ax.tick_params(rotation=45)\n",
    "plt.grid()\n",
    "# plt.savefig(path+'/figures/years_of_longest heatwave_monthly_pctl_1983-2016.jpeg', bbox_inches='tight')"
   ]
  },
  {
   "cell_type": "code",
   "execution_count": null,
   "id": "12726e39-5ff4-4e9c-b176-ee9e83c63d34",
   "metadata": {},
   "outputs": [],
   "source": []
  }
 ],
 "metadata": {
  "kernelspec": {
   "display_name": "Python 3 (ipykernel)",
   "language": "python",
   "name": "python3"
  },
  "language_info": {
   "codemirror_mode": {
    "name": "ipython",
    "version": 3
   },
   "file_extension": ".py",
   "mimetype": "text/x-python",
   "name": "python",
   "nbconvert_exporter": "python",
   "pygments_lexer": "ipython3",
   "version": "3.10.11"
  }
 },
 "nbformat": 4,
 "nbformat_minor": 5
}
