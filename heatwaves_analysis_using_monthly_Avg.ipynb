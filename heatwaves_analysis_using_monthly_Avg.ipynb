{
 "cells": [
  {
   "cell_type": "code",
   "execution_count": null,
   "id": "d66a8b06-e6e6-45cb-ba93-9a80b3135d31",
   "metadata": {
    "tags": []
   },
   "outputs": [],
   "source": [
    "%%time\n",
    "import dask\n",
    "import xarray as xr\n",
    "import matplotlib.pyplot as plt\n",
    "import matplotlib as mpl\n",
    "import matplotlib.animation as animation\n",
    "from matplotlib import rc\n",
    "from IPython.display import HTML\n",
    "from cartopy import crs, feature\n",
    "from cartopy.mpl.ticker import LongitudeFormatter, LatitudeFormatter\n",
    "import numpy as np\n",
    "import pymannkendall as mk\n",
    "import os\n",
    "# from cdo import *\n",
    "# cdo = Cdo()\n",
    "import warnings\n",
    "warnings.filterwarnings('ignore')"
   ]
  },
  {
   "cell_type": "code",
   "execution_count": null,
   "id": "9a471a14-55b8-4ecf-b51e-7f930cacefea",
   "metadata": {},
   "outputs": [],
   "source": []
  },
  {
   "cell_type": "code",
   "execution_count": null,
   "id": "800759d9-c0fc-4acf-9ab4-3fadf0dc7622",
   "metadata": {
    "tags": []
   },
   "outputs": [],
   "source": [
    "path='/media/kenz/1B8D1A637BBA134B/CHIRTS'"
   ]
  },
  {
   "cell_type": "code",
   "execution_count": null,
   "id": "2a15a2f7-2668-4169-8515-36117037d222",
   "metadata": {},
   "outputs": [],
   "source": [
    "tmax = 'Tmax/chirts.Tmax.1983.2016.WA.days_p25.nc'\n",
    "tmin = 'Tmin/chirts.Tmin.1983.2016.WA.days_p25.nc'\n",
    "\n",
    "tmax90 = 'Tmax/chirts.Tmax.1983.2016.WA.days_p25_ymonpctl.nc'\n",
    "tmin90 = 'Tmin/chirts.Tmin.1983.2016.WA.days_p25_ymonpctl.nc'\n",
    "\n",
    "tmean_ehf = 'Tmean/ehf.nc'\n",
    "\n",
    "tmean = 'Tmean/chirts.Tmean.1983.2016.WA.days_p25.nc'\n",
    "# tmean95 = 'Tmean/chirts.clim.Tmean95.1983.2016.WA.days_p25.nc'\n",
    "# Tmean/chirts.clim.Tmean95.1983.2016.WA.days_p25.nc\n",
    "\n",
    "# tmean_accl = 'Tmean/accl.nc'\n",
    "# tmean_sig = 'Tmean/sig95.nc'"
   ]
  },
  {
   "cell_type": "code",
   "execution_count": null,
   "id": "cf369a18-0e1a-427e-9ad4-dce46d7a6863",
   "metadata": {},
   "outputs": [],
   "source": []
  },
  {
   "cell_type": "code",
   "execution_count": null,
   "id": "79d11934-06af-4dc8-9bc8-a9a602d06a84",
   "metadata": {
    "tags": []
   },
   "outputs": [],
   "source": [
    "def show_axes():\n",
    "    for i,j in enumerate(ax):\n",
    "        ax[i].set_extent([-15,10,0,15])\n",
    "        ax[i].add_feature(feature.COASTLINE)\n",
    "        ax[i].add_feature(feature.BORDERS)\n",
    "        ax[i].add_feature(feature.STATES, linewidth = 0.2)\n",
    "        ax[i].set_xticks([-10,-5,0,5], crs=crs.PlateCarree())\n",
    "        ax[i].set_yticks([5,10], crs=crs.PlateCarree())\n",
    "        lon_formatter = LongitudeFormatter(zero_direction_label=True)\n",
    "        lat_formatter = LatitudeFormatter()\n",
    "        ax[i].xaxis.set_major_formatter(lon_formatter)\n",
    "        ax[i].yaxis.set_major_formatter(lat_formatter)\n",
    "        \n",
    "def set_fig_params(axes):\n",
    "    for i,j in enumerate(axes):\n",
    "    # for i in (range(0,len(axes))):\n",
    "        ax[i].set_extent([-19,15,4,24])\n",
    "        ax[i].add_feature(feature.COASTLINE)\n",
    "        ax[i].add_feature(feature.BORDERS)\n",
    "        ax[i].add_feature(feature.STATES, linewidth = 0.2)\n",
    "        ax[i].set_xticks([-20,-10,0,10], crs=crs.PlateCarree())\n",
    "        ax[i].set_yticks([5,10,15,20], crs=crs.PlateCarree())\n",
    "        lon_formatter = LongitudeFormatter(zero_direction_label=True)\n",
    "        lat_formatter = LatitudeFormatter()\n",
    "        ax[i].xaxis.set_major_formatter(lon_formatter)\n",
    "        ax[i].yaxis.set_major_formatter(lat_formatter)\n",
    "        \n",
    "def CTpctl(path,temp,pctl,var):\n",
    "    temp = df_read(path,temp,var)\n",
    "    mask = temp.groupby('time.month') > pctl\n",
    "    return temp.where(mask, drop=True)\n",
    "\n",
    "def df_read(path,file,var):\n",
    "    ds = xr.open_dataset(f'{path}/{file}')[f'{var}'].sortby('time').drop_duplicates('time').sel(time=slice('1983',None))\n",
    "    return ds\n",
    "\n",
    "def sellonlat(data):\n",
    "    return data.sel(longitude=10,latitude=10,method='nearest')\n",
    "\n",
    "def selone(data):\n",
    "    return data.sel(time='2010')\n",
    "\n",
    "def rising_filter(array, axis):\n",
    "\n",
    "    # Make sure there are enough points\n",
    "    assert(array.shape[axis] == 5)\n",
    "    # Make sure we're working on the last axis\n",
    "    assert(axis == array.ndim-1 or axis == -1)\n",
    "    \n",
    "    left = array[..., 1]\n",
    "    right = array[..., 2:].sum(axis=axis)\n",
    "\n",
    "    return np.logical_and(np.isnan(left), np.isfinite(right))\n",
    "\n",
    "def rising_filter_dask(x, dim):\n",
    "\n",
    "    return xr.apply_ufunc(rising_filter, x, input_core_dims=[[dim]],\n",
    "                             kwargs={'axis': -1},\n",
    "                             dask='parallelized',\n",
    "                             output_dtypes=[bool])\n",
    "def sens_slopes(data):\n",
    "    data = data.sel(longitude=np.arange(-19.875, 21.875,0.25), latitude=np.arange(3.125,26.875,0.25), method = 'nearest')\n",
    "    output=[]\n",
    "    for i in np.arange(len(data.latitude.values)):\n",
    "        for j in np.arange(len(data.longitude.values)):\n",
    "            try:\n",
    "                slope_val = mk.sens_slope(data[:,i,j]).slope\n",
    "            except:\n",
    "                slope_val = np.nan\n",
    "            output.append(slope_val)\n",
    "\n",
    "    output = np.copy(output).reshape(data.latitude.size,data.longitude.size)\n",
    "    slopes=xr.DataArray(output, dims=('latitude','longitude'), coords={'latitude':data.latitude,'longitude':data.longitude})\n",
    "    return slopes\n",
    "\n",
    "def HWD(data):\n",
    "    windows = data.chunk({'time':20}).rolling(time=5, center=True, min_periods=1).construct('rolling_dim')\n",
    "    heatwave_starts = rising_filter_dask(windows, dim='rolling_dim')\n",
    "    return heatwave_starts"
   ]
  },
  {
   "cell_type": "code",
   "execution_count": null,
   "id": "6176cac5-118d-4390-970f-dbb2a4521227",
   "metadata": {},
   "outputs": [],
   "source": []
  },
  {
   "cell_type": "code",
   "execution_count": null,
   "id": "da372465-f868-49f3-801c-71bd818c1cc4",
   "metadata": {
    "tags": []
   },
   "outputs": [],
   "source": [
    "tx90 = df_read(path,tmax90,'Tmax')\n",
    "tx90 = tx90.groupby('time.month').mean('time')\n",
    "\n",
    "tn90 = df_read(path,tmin90,'Tmin')\n",
    "tn90 = tn90.groupby('time.month').mean('time')"
   ]
  },
  {
   "cell_type": "code",
   "execution_count": null,
   "id": "668ac350-a22c-44f5-a43c-c797146b74cd",
   "metadata": {},
   "outputs": [],
   "source": []
  },
  {
   "cell_type": "code",
   "execution_count": null,
   "id": "a8335ea9-ad5b-4452-bd01-9c2b914112eb",
   "metadata": {
    "tags": []
   },
   "outputs": [],
   "source": [
    "ctn90 = CTpctl(path,tmin,tn90,'Tmin')"
   ]
  },
  {
   "cell_type": "code",
   "execution_count": null,
   "id": "e130f44d-3594-4cb8-9e10-bc4a17a75b33",
   "metadata": {
    "tags": []
   },
   "outputs": [],
   "source": [
    "ctx90 = CTpctl(path,tmax,tx90,'Tmax')"
   ]
  },
  {
   "cell_type": "code",
   "execution_count": null,
   "id": "0c20e0f2-b4fd-4a0e-8303-3277997afc85",
   "metadata": {
    "tags": []
   },
   "outputs": [],
   "source": [
    "windows = ctx90.chunk({'time':20}).rolling(time=5, center=True, min_periods=1).construct('rolling_dim')\n",
    "hwn_tx = rising_filter_dask(windows, dim='rolling_dim')\n",
    "\n",
    "windows = ctn90.chunk({'time':20}).rolling(time=5, center=True, min_periods=1).construct('rolling_dim')\n",
    "hwn_tn = rising_filter_dask(windows, dim='rolling_dim')"
   ]
  },
  {
   "cell_type": "code",
   "execution_count": null,
   "id": "50d3df9d-7c2b-4ef6-a4f4-12e6645d0dd0",
   "metadata": {},
   "outputs": [],
   "source": []
  },
  {
   "cell_type": "code",
   "execution_count": null,
   "id": "3befa42b-05d6-48d7-85a5-c1ec3a384fca",
   "metadata": {
    "tags": []
   },
   "outputs": [],
   "source": [
    "yearly_av_hw_tx = hwn_tx.sum('time')/33\n",
    "lenght_av_hw_tx = hwn_tx.groupby('time.year').sum('time').mean('year')\n",
    "hwf_tx = yearly_av_hw_tx*lenght_av_hw_tx"
   ]
  },
  {
   "cell_type": "code",
   "execution_count": null,
   "id": "f126a71b-40a3-4d1b-8fea-c3ec979664b0",
   "metadata": {
    "tags": []
   },
   "outputs": [],
   "source": [
    "yearly_av_hw_tn = hwn_tn.sum('time')/33\n",
    "lenght_av_hw_tn = hwn_tn.groupby('time.year').sum('time').mean('year')\n",
    "hwf_tn = yearly_av_hw_tn*lenght_av_hw_tn"
   ]
  },
  {
   "cell_type": "code",
   "execution_count": null,
   "id": "de72fee9-1cc8-4d5c-8b1c-a1ee8ee70576",
   "metadata": {},
   "outputs": [],
   "source": []
  },
  {
   "cell_type": "code",
   "execution_count": null,
   "id": "3e560ae4-481d-4bb5-ab85-335f30c70e71",
   "metadata": {
    "tags": []
   },
   "outputs": [],
   "source": [
    "ehf = df_read(path,tmean_ehf,'Tmax')\n",
    "ds_gtehf = ehf.groupby('time.year').count()"
   ]
  },
  {
   "cell_type": "code",
   "execution_count": null,
   "id": "51dbd442-11c1-4008-9659-2644d3027712",
   "metadata": {},
   "outputs": [],
   "source": []
  },
  {
   "cell_type": "markdown",
   "id": "e5bab5ad-2cad-41fc-b0ab-1b252d15d472",
   "metadata": {},
   "source": [
    "#### Analysis for Maximum Temperature"
   ]
  },
  {
   "cell_type": "code",
   "execution_count": null,
   "id": "5beee1b5-0137-44a7-858a-8e1e24c29ada",
   "metadata": {
    "tags": []
   },
   "outputs": [],
   "source": [
    "######## Plotting Tmax 90 ########\n",
    "fig, axes = plt.subplots(ncols = 4, nrows=3, figsize = (12,8))\n",
    "ax=axes.flatten()\n",
    "months = ['JAN','FEB','MAR','APR','MAY','JUN','JUL','AUG', 'SEP','OCT','NOV','DEC']\n",
    "for i, month in enumerate(tx90['month']):\n",
    "    cb = tx90.sel(month=month).plot(ax=ax[i], add_colorbar = False, cmap='YlOrRd', vmax = int(tx90.max()))\n",
    "    ax[i].set_title(months[i])\n",
    "for i in [3,7,11]:\n",
    "    fig.colorbar(cb, ax = ax[i], label = 'Tmax90')\n",
    "plt.suptitle('Tmax Monthly 90th Percentile from 1983-2016', fontweight = 'bold')\n",
    "plt.tight_layout()"
   ]
  },
  {
   "cell_type": "code",
   "execution_count": null,
   "id": "4e3c473a-a0d5-49af-ab0b-c76cae6c7f0e",
   "metadata": {},
   "outputs": [],
   "source": []
  },
  {
   "cell_type": "code",
   "execution_count": null,
   "id": "39fba92a-408a-4127-a3d0-57da068799b9",
   "metadata": {
    "tags": []
   },
   "outputs": [],
   "source": [
    "sellonlat(df_read(path,tmax,'Tmax')).groupby('time.month').mean('time').plot(label = 'Mean Tmax', alpha = 0.2)\n",
    "sellonlat(tx90).plot(label = 'Tmax90', alpha = 0.7)\n",
    "sellonlat(ctx90.groupby('time.month').mean('time')).plot(label='Average Peaks')\n",
    "plt.legend()\n",
    "plt.title('Monthly Averaged')"
   ]
  },
  {
   "cell_type": "code",
   "execution_count": null,
   "id": "686756b0-a37f-4a0d-95fb-157300f1d7cd",
   "metadata": {
    "tags": []
   },
   "outputs": [],
   "source": [
    "selone(sellonlat(df_read(path,tmax,'Tmax'))).plot(label = 'Tmax', alpha = 0.2)\n",
    "# sellonlat(tx90).plot(label = 'Tmax90', alpha = 0.7)\n",
    "selone(sellonlat(ds)).plot(label='Average Peaks')\n",
    "plt.legend()\n",
    "plt.title('2010 - (monthly percentile)')"
   ]
  },
  {
   "cell_type": "code",
   "execution_count": null,
   "id": "ae6e3e1f-26da-45d9-8c0b-3237892bd996",
   "metadata": {},
   "outputs": [],
   "source": [
    "# tx = CTX(ds_tx,ds_tx90).groupby('time.year').count('time')\n",
    "# tx = tx.where(tx>0)\n"
   ]
  },
  {
   "cell_type": "code",
   "execution_count": null,
   "id": "22089cec-b2c7-4822-ac50-c672b291db3b",
   "metadata": {
    "tags": []
   },
   "outputs": [],
   "source": [
    "# ctx90.groupby('time.year').count('time')"
   ]
  },
  {
   "cell_type": "markdown",
   "id": "efa16965-eec5-402f-b2bc-a0c359a0588f",
   "metadata": {},
   "source": [
    "##### Analysis for Minimum Temperature"
   ]
  },
  {
   "cell_type": "code",
   "execution_count": null,
   "id": "1f6015fb-815d-4ce2-b40b-83db24eb507e",
   "metadata": {
    "tags": []
   },
   "outputs": [],
   "source": []
  },
  {
   "cell_type": "code",
   "execution_count": null,
   "id": "772b6949-7617-456a-9a6b-ba9bf6fe2907",
   "metadata": {
    "tags": []
   },
   "outputs": [],
   "source": [
    "######## Plotting Tmax 90 ########\n",
    "fig, axes = plt.subplots(ncols = 4, nrows=3, figsize = (12,8))\n",
    "ax=axes.flatten()\n",
    "months = ['JAN','FEB','MAR','APR','MAY','JUN','JUL','AUG', 'SEP','OCT','NOV','DEC']\n",
    "for i, month in enumerate(tn90['month']):\n",
    "    cb = tn90.sel(month=month).plot(ax=ax[i], add_colorbar = False, cmap='YlOrRd', vmax = int(tn90.max()))\n",
    "    ax[i].set_title(months[i])\n",
    "for i in [3,7,11]:\n",
    "    fig.colorbar(cb, ax = ax[i], label = 'Tmin90')\n",
    "plt.suptitle('Tmin Monthly 90th Percentile from 1983-2016', fontweight = 'bold')\n",
    "plt.tight_layout()"
   ]
  },
  {
   "cell_type": "code",
   "execution_count": null,
   "id": "05bf2821-c6b2-42f6-aeed-b7f9455232c6",
   "metadata": {},
   "outputs": [],
   "source": [
    "sellonlat(df_read(path,tmin,'Tmin')).groupby('time.month').mean('time').plot(label = 'Mean Tmin', alpha = 0.2)\n",
    "sellonlat(tn90).plot(label = 'Tmin90', alpha = 0.7)\n",
    "sellonlat(ctn90.groupby('time.month').mean('time')).plot(label='Average Peaks')\n",
    "plt.legend()\n",
    "plt.title('Monthly Averaged')"
   ]
  },
  {
   "cell_type": "code",
   "execution_count": null,
   "id": "fd6428ee-a36a-4411-ba21-9df6ce2b508e",
   "metadata": {},
   "outputs": [],
   "source": []
  },
  {
   "cell_type": "markdown",
   "id": "034caf8c-48e5-4c49-896b-e6c90593d43a",
   "metadata": {},
   "source": [
    "#### Calculating for heatwave Number"
   ]
  },
  {
   "cell_type": "code",
   "execution_count": null,
   "id": "bbb37141-c8ff-4cb4-bb12-0fc4382dd0ec",
   "metadata": {
    "tags": []
   },
   "outputs": [],
   "source": []
  },
  {
   "cell_type": "code",
   "execution_count": null,
   "id": "71c15b5a-366b-42cc-a5b6-6a6af631ed4d",
   "metadata": {},
   "outputs": [],
   "source": [
    "%%time\n",
    "\n",
    "# Create subplots\n",
    "fig, ax = plt.subplots(ncols=2, nrows=2, figsize=(10, 5), subplot_kw={'projection': crs.PlateCarree()})\n",
    "ax = ax.flatten()\n",
    "set_fig_params(ax)\n",
    "\n",
    "# Plot data\n",
    "vmax=8\n",
    "cc='gist_heat_r'\n",
    "\n",
    "hwdtx = hwn_tx.sum('time')/33\n",
    "cb1 = hwdtx.where(hwdtx>0).plot(ax=ax[0], cmap=cc, vmax=vmax, add_colorbar=False)\n",
    "ax[0].set_title('CTx90 1983-2016')\n",
    "\n",
    "hwdtn = (hwn_tn.sum('time')/33)\n",
    "hwdtn.where(hwdtn>0).plot(ax=ax[1], cmap=cc, vmax=vmax, add_colorbar=False)\n",
    "ax[1].set_title('CTn90 1983-2016')\n",
    "\n",
    "cm = 'RdBu_r'\n",
    "vm = 0.5\n",
    "\n",
    "txsl = hwn_tx.groupby('time.year').sum('time')\n",
    "cb2 = sens_slopes(txsl.where(txsl>0).load()).plot(ax=ax[2], vmax=vm, vmin=-0.5, cmap=cm, add_colorbar=False)\n",
    "\n",
    "tnsl = hwn_tn.groupby('time.year').sum('time')\n",
    "sens_slopes(tnsl.where(tnsl>0).load()).plot(ax=ax[3], vmax=vm, vmin=-0.5, cmap=cm, add_colorbar=False)\n",
    "\n",
    "label = ['HWN','Trends']\n",
    "\n",
    "cb = [cb1, cb2]\n",
    "# Add colorbars\n",
    "for i, j in enumerate([0.62, 0.13]):\n",
    "    cax = fig.add_axes([0.91, j, 0.02, 0.3])\n",
    "    fig.colorbar(cb[i], cax=cax, orientation='vertical', extend='both', label = label[i])\n",
    "\n",
    "fig.tight_layout()\n",
    "plt.savefig(path+'/figures/Climatologies of Yearly Heatwaves-using monthly percentiles.jpeg', bbox_inches='tight')"
   ]
  },
  {
   "cell_type": "code",
   "execution_count": null,
   "id": "c11b81b5-fad9-45ec-b270-ed6eee9a99b2",
   "metadata": {
    "tags": []
   },
   "outputs": [],
   "source": [
    "hwdtx = hwn_tx.sel(time=slice(t1[i],t2[i])).sum('time')/10\n",
    "hwdtx.where(hwdtx>0).plot()\n",
    "# ax[0].set_title(f'CTx90 {t1[i]}-{t2[i]}')"
   ]
  },
  {
   "cell_type": "code",
   "execution_count": null,
   "id": "3ff24b7e-2c19-46ee-8838-7b43f18ff2a3",
   "metadata": {
    "tags": []
   },
   "outputs": [],
   "source": [
    "%%time\n",
    "t1 = ['1984', '1994', '2004']\n",
    "t2 = ['1993', '2003', '2013']\n",
    "for i, j in enumerate(t1): \n",
    "    # Create subplots\n",
    "    fig, ax = plt.subplots(ncols=3, nrows=2, figsize=(10, 5), subplot_kw={'projection': crs.PlateCarree()})\n",
    "    ax = ax.flatten()\n",
    "    set_fig_params(ax)\n",
    "\n",
    "    # Plot data\n",
    "    vmax=12\n",
    "    cc='coolwarm'\n",
    "\n",
    "    hwdtx = hwn_tx.sel(time=slice(t1[i],t2[i])).sum('time')/10\n",
    "    cb1 = hwdtx.where(hwdtx>0).plot(ax=ax[0], cmap=cc, vmax=vmax, add_colorbar=False)\n",
    "    ax[0].set_title(f'CTx90 {t1[i]}-{t2[i]}')\n",
    "    # break\n",
    "\n",
    "    hwdtn = hwn_tn.sel(time=slice(t1[i],t2[i])).sum('time')/10\n",
    "    hwdtn.where(hwdtn>0).plot(ax=ax[1], cmap=cc, vmax=vmax, add_colorbar=False)\n",
    "    ax[1].set_title(f'CTn90 {t1[i]}-{t2[i]}')\n",
    "\n",
    "    ds_gtehf.where(ds_gtehf>0).sel(year=slice(t1[i],t2[i])).mean('year').plot(ax=ax[2], cmap=cc, vmax=vmax, add_colorbar=False)\n",
    "    ax[2].set_title(f'EHF {t1[i]}-{t2[i]}')\n",
    "\n",
    "    cm = 'RdBu_r'\n",
    "    vm = 1\n",
    "\n",
    "    txsl = hwn_tx.groupby('time.year').sum('time').sel(year=slice(t1[i],t2[i]))\n",
    "    # txsl = txsl.where(txsl>0).load()\n",
    "    cb2 = sens_slopes(txsl.where(txsl>0).load()).plot(ax=ax[3], vmax=vm, cmap=cm, add_colorbar=False)\n",
    "    ax[3].set_title(f'CTx90 {t1[i]}-{t2[i]}')\n",
    "\n",
    "\n",
    "    tnsl = hwn_tn.groupby('time.year').sum('time').sel(year=slice(t1[i],t2[i]))\n",
    "    sens_slopes(tnsl.where(tnsl>0).load()).plot(ax=ax[4], vmax=vm, cmap=cm, add_colorbar=False)\n",
    "    ax[4].set_title(f'CTn90 {t1[i]}-{t2[i]}')\n",
    "\n",
    "    sens_slopes(ds_gtehf.where(ds_gtehf>0).sel(year=slice(t1[i],t2[i])).load()).plot(ax=ax[5], cmap=cm, vmax=vm, add_colorbar=False)\n",
    "    ax[5].set_title(f'EHF {t1[i]}-{t2[i]}')\n",
    "\n",
    "    # # cb = [cb1, cb2]\n",
    "    label = ['HWN','Trends']\n",
    "\n",
    "    # cax2 = fig.add_axes([1,0.62,0.02,0.3])\n",
    "    # fig.colorbar(cb3,cax = cax2, orientation='vertical', extend='both',label='ehf')\n",
    "    cb = [cb1, cb2]\n",
    "    # Add colorbars\n",
    "    for i, j in enumerate([0.62, 0.13]):\n",
    "        cax = fig.add_axes([1, j, 0.02, 0.3])\n",
    "        fig.colorbar(cb[i], cax=cax, orientation='vertical', extend='both', label = label[i])\n",
    "\n",
    "    fig.tight_layout()\n",
    "    plt.savefig(f'{path}/figures/Climatologies of Yearly Heatwaves {t1[i]}-{t2[i]}_method_2.jpeg', bbox_inches='tight')"
   ]
  },
  {
   "cell_type": "code",
   "execution_count": null,
   "id": "2d207393-9743-4b79-a707-e554e509c035",
   "metadata": {},
   "outputs": [],
   "source": []
  },
  {
   "cell_type": "code",
   "execution_count": null,
   "id": "ea001041-4780-4329-8265-a1e9cd21bddb",
   "metadata": {},
   "outputs": [],
   "source": []
  },
  {
   "cell_type": "code",
   "execution_count": null,
   "id": "0d027059-2739-40d9-a15a-e96d72403fb1",
   "metadata": {},
   "outputs": [],
   "source": []
  },
  {
   "cell_type": "markdown",
   "id": "5882d2d0-038a-47de-8008-0aa3a6e7676f",
   "metadata": {},
   "source": [
    "#### Lenght of the longest heatwaves (hwd)"
   ]
  },
  {
   "cell_type": "code",
   "execution_count": null,
   "id": "a8e8ef86-83f5-47dd-b41e-e52b123cf0e8",
   "metadata": {
    "tags": []
   },
   "outputs": [],
   "source": [
    "sens_slopes(hwn_tx.groupby('time.year').sum('time').load()).plot()"
   ]
  },
  {
   "cell_type": "code",
   "execution_count": null,
   "id": "85c1d1d4-127a-4238-a6e3-97fbbce23771",
   "metadata": {
    "tags": []
   },
   "outputs": [],
   "source": [
    "%%time\n",
    "\n",
    "# Create subplots\n",
    "fig, ax = plt.subplots(ncols=2, nrows=2, figsize=(10, 5), subplot_kw={'projection': crs.PlateCarree()})\n",
    "ax = ax.flatten()\n",
    "set_fig_params(ax)\n",
    "\n",
    "vmax = 20\n",
    "vmax1 = 0.3\n",
    "vmin1 = -0.3\n",
    "# windows = candidates.chunk({'time':20}).rolling(time=5, center=True, min_periods=1).construct('rolling_dim')\n",
    "# heatwave_starts = rising_filter_dask(windows, dim='rolling_dim')\n",
    "cm = 'YlOrRd'\n",
    "cc = 'rainbow'\n",
    "\n",
    "hdtx = hwn_tx.groupby('time.year').sum('time').max('year')\n",
    "cb1 = hdtx.where(hdtx>0).plot(ax=ax[0], cmap=cm, add_colorbar=False, vmax=vmax)\n",
    "ax[0].set_title('CTx90 \\n 1983-2016')\n",
    "\n",
    "hdtn = hwn_tn.groupby('time.year').sum('time').max('year')\n",
    "hdtn.where(hdtn>0).plot(ax=ax[1], cmap=cm, add_colorbar=False, vmax=vmax)\n",
    "ax[1].set_title('CTn90 \\n 1983-2016')\n",
    "\n",
    "\n",
    "cb2 = sens_slopes((HWD(ctx90.load())).groupby('time.year').sum('time').load()).plot(ax=ax[2], cmap=cc, add_colorbar=False, vmax = vmax1, vmin=vmin1)\n",
    "sens_slopes((HWD(ctn90.load())).groupby('time.year').sum('time').load()).plot(ax=ax[3], cmap=cc, add_colorbar=False, vmax = vmax1, vmin=vmin1)\n",
    "\n",
    "ax[2].set_title('CTx90pctl \\n 1983-2016')\n",
    "ax[3].set_title('CTc90pctl \\n 1983-2016')\n",
    "\n",
    "# Add colorbar\n",
    "cb = [cb1, cb2]\n",
    "labels = ['HWD','Trend']\n",
    "\n",
    "for i, j in enumerate([0.585, 0.13]):\n",
    "    cax = fig.add_axes([0.915, j, 0.02, 0.3])\n",
    "    fig.colorbar(cb[i], cax=cax, orientation='vertical', extend='both', label=labels[i])\n",
    "\n",
    "fig.tight_layout()\n",
    "plt.savefig(path+'/figures/lenght of the longest heatwave_monthly_pctl_1983-2016.jpeg', bbox_inches='tight')"
   ]
  },
  {
   "cell_type": "code",
   "execution_count": null,
   "id": "59cdbc0b-c569-48e0-9a9c-9a738264be8b",
   "metadata": {
    "tags": []
   },
   "outputs": [],
   "source": [
    "ehf = df_read(path,tmean_ehf,'Tmax')"
   ]
  },
  {
   "cell_type": "code",
   "execution_count": null,
   "id": "38168caf-4dfd-4a2f-964b-d96edbd0023a",
   "metadata": {
    "tags": []
   },
   "outputs": [],
   "source": [
    "ehf = df_read(path,tmean_ehf,'Tmax')\n",
    "fig, ax = plt.subplots(ncols=2, nrows=1, figsize=(7, 7), subplot_kw={'projection': crs.PlateCarree()})\n",
    "ehf.groupby('time.year').sum('time').idxmax('year').plot(ax=ax[0], cmap='YlOrRd', add_colorbar=True)\n",
    "# cb = dx.plot(ax=ax, cmap='Set2', add_colorbar=False)\n",
    "ehf.groupby('time.year').sum('time').argmax('year').plot(ax=ax[1], cmap='YlOrRd', add_colorbar=True)\n",
    "\n",
    "for i in range(0,2):\n",
    "    ax[i].set_extent([-20,15,4,24])\n",
    "    ax[i].add_feature(feature.COASTLINE)\n",
    "    ax[i].add_feature(feature.BORDERS)\n",
    "    ax[i].add_feature(feature.STATES, linewidth = 0.2)\n",
    "    ax[i].set_xticks([-20,-10,0,10], crs=crs.PlateCarree())\n",
    "    ax[i].set_yticks([5,10,15,20], crs=crs.PlateCarree())\n",
    "    lon_formatter = LongitudeFormatter(zero_direction_label=True)\n",
    "    lat_formatter = LatitudeFormatter()\n",
    "    ax[i].xaxis.set_major_formatter(lon_formatter)\n",
    "    ax[i].yaxis.set_major_formatter(lat_formatter)\n",
    "# cbar = fig.colorbar(cb , orientation ='horizontal')\n",
    "# cbar.ax[i].tick_params(rotation=45)"
   ]
  },
  {
   "cell_type": "code",
   "execution_count": null,
   "id": "c9474706-acab-4b3c-a56c-135babef6f5b",
   "metadata": {
    "tags": []
   },
   "outputs": [],
   "source": [
    "ehf.where(ehf>0).groupby('time.year').sum('time').argmax('year').plot(cmap='YlOrRd', add_colorbar=True)"
   ]
  },
  {
   "cell_type": "code",
   "execution_count": null,
   "id": "6d1ed3ef-580e-4e3a-9bd1-2cb3cfcc2de5",
   "metadata": {
    "tags": []
   },
   "outputs": [],
   "source": []
  },
  {
   "cell_type": "code",
   "execution_count": null,
   "id": "9f5f4404-a97b-4c67-952f-6f5d17ec9923",
   "metadata": {},
   "outputs": [],
   "source": [
    "tm = df_read(path, tmean, 'Tmax')"
   ]
  },
  {
   "cell_type": "code",
   "execution_count": null,
   "id": "1b2dc1d7-8b30-437b-9b91-67a4472169ab",
   "metadata": {},
   "outputs": [],
   "source": [
    "# tm.sel(latitude=6.6, longitude=-1.6, method='nearest').plot(alpha=0.3)\n",
    "region = ehf.sel(latitude=6.6, longitude=-1.6, method='nearest')#,'1999'))\n",
    "region.where(\n",
    "    region.rolling(time=10).count()>=2\n",
    ").plot(marker='*', alpha=0.3)\n",
    "# region.where(\n",
    "#     region.rolling(time=23).count()>=23\n",
    "# ).plot(marker='.')\n",
    "# plt.title('lenght of the longest heatwave at Ghana')\n",
    "plt.grid()\n",
    "# plt.savefig(path+'/figures/lenght_hwd_tn_gh_monthly_pctl_1983-2016.jpeg', bbox_inches='tight')"
   ]
  },
  {
   "cell_type": "code",
   "execution_count": null,
   "id": "4887a35c-3f1e-461b-bb4a-cdb0f991f04c",
   "metadata": {
    "tags": []
   },
   "outputs": [],
   "source": [
    "ehf.sel(longitude=-1.5, latitude=6.6, method= 'nearest').sel(time=slice('1998-01','1998-04')).plot()\n",
    "tm.sel(longitude=-1.5, latitude=6.6, method= 'nearest').sel(time=slice('1998-01','1998-04')).plot()"
   ]
  },
  {
   "cell_type": "code",
   "execution_count": null,
   "id": "08e48fb3-bc11-4ecc-9e16-06df24470102",
   "metadata": {
    "tags": []
   },
   "outputs": [],
   "source": [
    "ehf"
   ]
  },
  {
   "cell_type": "code",
   "execution_count": null,
   "id": "b68dc2f2-f389-44eb-b33b-fd109446e39f",
   "metadata": {},
   "outputs": [],
   "source": [
    "tx = df_read(path, tmax, 'Tmax')"
   ]
  },
  {
   "cell_type": "code",
   "execution_count": null,
   "id": "6aba9404-5308-41fe-9273-d4adf57ec990",
   "metadata": {
    "tags": []
   },
   "outputs": [],
   "source": [
    "dx = hwn_tx.groupby('time.year').sum('time').idxmax('year').load().astype(int)#.plot(ax = ax,cmap='Set2')"
   ]
  },
  {
   "cell_type": "code",
   "execution_count": null,
   "id": "f6ac60d8-1b76-49da-a4da-a367bb3eb9d3",
   "metadata": {},
   "outputs": [],
   "source": []
  },
  {
   "cell_type": "code",
   "execution_count": null,
   "id": "5e9123b8-126e-446d-a38b-6f69f46aa42c",
   "metadata": {},
   "outputs": [],
   "source": [
    "dx.where((dx>=0)).plot()"
   ]
  },
  {
   "cell_type": "code",
   "execution_count": null,
   "id": "9d8c94bc-07cb-46c6-8f88-46011aafbbe2",
   "metadata": {},
   "outputs": [],
   "source": [
    "fig, ax = plt.subplots(ncols=1, nrows=1, figsize=(7, 7), subplot_kw={'projection': crs.PlateCarree()})\n",
    "# cb = ax.contourf(ds,levels= np.linspace(1980,2016,1), cmap='rainbow')\n",
    "cb = dx.plot(ax=ax, cmap='Set2', add_colorbar=False)\n",
    "ax.set_extent([-17.5,15,4,24])\n",
    "ax.add_feature(feature.COASTLINE)\n",
    "ax.add_feature(feature.BORDERS)\n",
    "ax.add_feature(feature.STATES, linewidth = 0.2)\n",
    "ax.set_xticks([-17,-10,0,10], crs=crs.PlateCarree())\n",
    "ax.set_yticks([5,10,15,20], crs=crs.PlateCarree())\n",
    "lon_formatter = LongitudeFormatter(zero_direction_label=True)\n",
    "lat_formatter = LatitudeFormatter()\n",
    "ax.xaxis.set_major_formatter(lon_formatter)\n",
    "ax.yaxis.set_major_formatter(lat_formatter)\n",
    "cbar = fig.colorbar(cb , orientation ='horizontal')\n",
    "cbar.ax.tick_params(rotation=45)\n",
    "plt.savefig(path+'/figures/years_of_longest heatwave_monthly_pctl_1983-2016.jpeg', bbox_inches='tight')"
   ]
  },
  {
   "cell_type": "code",
   "execution_count": null,
   "id": "bfeab740-c773-4ee1-ae29-11066d5b9ebe",
   "metadata": {},
   "outputs": [],
   "source": [
    "f = ctx90.chunk({'time':1000}).rolling(time=16).count()"
   ]
  },
  {
   "cell_type": "code",
   "execution_count": null,
   "id": "06181e58-6c9d-4a67-a51e-fe21fd17f419",
   "metadata": {
    "tags": []
   },
   "outputs": [],
   "source": [
    "d = f.compute()"
   ]
  },
  {
   "cell_type": "code",
   "execution_count": null,
   "id": "2a3a03af-bbff-4624-b752-c75c8354f677",
   "metadata": {
    "tags": []
   },
   "outputs": [],
   "source": [
    "ds = xr.where(f>=16,1,0).compute()"
   ]
  },
  {
   "cell_type": "code",
   "execution_count": null,
   "id": "457bf7d6-cc5b-45ad-ac79-36e2f3926acc",
   "metadata": {
    "tags": []
   },
   "outputs": [],
   "source": [
    "ds.max('time').plot()"
   ]
  },
  {
   "cell_type": "code",
   "execution_count": null,
   "id": "6ff78515-8aa8-42ac-9241-8c1d2d2c3ea8",
   "metadata": {},
   "outputs": [],
   "source": [
    "tx.sel(latitude=20, longitude=15, method='nearest').sel(time=slice('2013-05-15', '2013-07-01')).plot(alpha=0.3)\n",
    "region = ctx90.sel(latitude=20, longitude=15, method='nearest').sel(time=slice('2013-05-15', '2013-07-01'))#,'1999'))\n",
    "region.where(\n",
    "    region.rolling(time=1).count()>=1\n",
    ").plot(marker='*', alpha=0.3)\n",
    "region.where(\n",
    "    region.rolling(time=17).count()>=17\n",
    ").plot(marker='.')\n",
    "plt.title('lenght of the longest heatwave')\n",
    "plt.grid()\n",
    "plt.savefig(path+'/figures/lenght_hwd_tx_egypt_monthly_pctl_1983-2016.jpeg', bbox_inches='tight')"
   ]
  },
  {
   "cell_type": "code",
   "execution_count": null,
   "id": "45b94def-ad37-4f62-bc44-48902d51212e",
   "metadata": {
    "tags": []
   },
   "outputs": [],
   "source": [
    "tx.sel(latitude=5, longitude=6.5, method='nearest').sel(time=slice('2015-12-15', '2016-01-10')).plot(alpha=0.3)\n",
    "region = ctx90.sel(latitude=5, longitude=6.5, method='nearest').sel(time=slice('2015-12-15', '2016-01-10'))#,'1999'))\n",
    "region.where(\n",
    "    region.rolling(time=3).count()>=3\n",
    ").plot(marker='*', alpha=0.3)\n",
    "region.where(\n",
    "    region.rolling(time=18).count()>=18\n",
    ").plot(marker='.')\n",
    "plt.title('lenght of the longest heatwave')\n",
    "# plt.title('lenght of the longest heatwave')\n",
    "plt.grid()\n",
    "plt.savefig(path+'/figures/lenght_hwd_tx_gh_monthly_pctl_1983-2016.jpeg', bbox_inches='tight')"
   ]
  },
  {
   "cell_type": "code",
   "execution_count": null,
   "id": "368e1897-006f-48f4-9508-5f145a8c8fd2",
   "metadata": {},
   "outputs": [],
   "source": [
    "#### Find the specific year the maximum hwd occurres\n",
    "ds = hwn_tn.groupby('time.year').sum('time').idxmax('year').load().astype(int)#.plot(ax = ax,cmap='Set2')"
   ]
  },
  {
   "cell_type": "code",
   "execution_count": null,
   "id": "99ed9f19-e77b-4dd3-8ed6-c0e2fbd8e8e4",
   "metadata": {
    "tags": []
   },
   "outputs": [],
   "source": []
  },
  {
   "cell_type": "code",
   "execution_count": null,
   "id": "95e4c3ed-e9aa-449e-8538-ca57f5bd4150",
   "metadata": {
    "tags": []
   },
   "outputs": [],
   "source": []
  },
  {
   "cell_type": "code",
   "execution_count": null,
   "id": "fcc89daa-095a-4a24-9d41-d13a15f07edb",
   "metadata": {
    "tags": []
   },
   "outputs": [],
   "source": [
    "fig, ax = plt.subplots(ncols=1, nrows=1, figsize=(7, 7), subplot_kw={'projection': crs.PlateCarree()})\n",
    "# cb = ax.contourf(ds,levels= np.linspace(1980,2016,1), cmap='rainbow')\n",
    "cb = ds.where((ds>0)).plot(ax=ax, cmap='Set2', add_colorbar=False)\n",
    "ax.set_extent([-17.5,15,4,24])\n",
    "ax.add_feature(feature.COASTLINE)\n",
    "ax.add_feature(feature.BORDERS)\n",
    "ax.add_feature(feature.STATES, linewidth = 0.2)\n",
    "ax.set_xticks([-17,-10,0,10], crs=crs.PlateCarree())\n",
    "ax.set_yticks([5,10,15,20], crs=crs.PlateCarree())\n",
    "lon_formatter = LongitudeFormatter(zero_direction_label=True)\n",
    "lat_formatter = LatitudeFormatter()\n",
    "ax.xaxis.set_major_formatter(lon_formatter)\n",
    "ax.yaxis.set_major_formatter(lat_formatter)\n",
    "cbar = fig.colorbar(cb , orientation ='horizontal')\n",
    "cbar.ax.tick_params(rotation=45)\n",
    "plt.savefig(path+'/figures/years_of_longest heatwave_tn_monthly_pctl_1983-2016.jpeg', bbox_inches='tight')"
   ]
  },
  {
   "cell_type": "code",
   "execution_count": null,
   "id": "047ba727-ec73-4745-b7ec-b278d9869f66",
   "metadata": {
    "tags": []
   },
   "outputs": [],
   "source": [
    "tn = df_read(path, tmin, 'Tmin')"
   ]
  },
  {
   "cell_type": "code",
   "execution_count": null,
   "id": "7f344c99-27a1-4891-88ae-b0117521c88a",
   "metadata": {
    "tags": []
   },
   "outputs": [],
   "source": [
    "c = hwn_tn.sel(latitude=6.8, longitude=-5.2, method='nearest').sel(time=slice('1996','1996-03'))\n",
    "cs = tn.sel(latitude=6.8, longitude=-5.2, method='nearest').sel(time=slice('1996-01','1996-03'))"
   ]
  },
  {
   "cell_type": "code",
   "execution_count": null,
   "id": "5a26f368-ea5d-4578-a0aa-3aba08283dfd",
   "metadata": {
    "tags": []
   },
   "outputs": [],
   "source": [
    "fs = ctn90.chunk({'time':1000}).rolling(time=16).count()"
   ]
  },
  {
   "cell_type": "code",
   "execution_count": null,
   "id": "3c16f7ab-dde8-4815-b47a-36287bdd0ea6",
   "metadata": {},
   "outputs": [],
   "source": [
    "dsx = xr.where(fs>=16,1,0).compute()"
   ]
  },
  {
   "cell_type": "code",
   "execution_count": null,
   "id": "7d05f03d-c03a-456a-b8c9-dc3f13c80252",
   "metadata": {},
   "outputs": [],
   "source": [
    "fig, ax = plt.subplots(ncols=1, nrows=1, figsize=(7, 7), subplot_kw={'projection': crs.PlateCarree()})\n",
    "dsx.max('time').plot(ax=ax, add_colorbar=False)\n",
    "ax.set_extent([-18,20,4,25])\n",
    "ax.add_feature(feature.BORDERS)\n",
    "ax.add_feature(feature.STATES)\n",
    "ax.add_feature(feature.COASTLINE)\n",
    "ax.set_xticks([-17,-10,0,10], crs=crs.PlateCarree())\n",
    "ax.set_yticks([5,10,15,20], crs=crs.PlateCarree())\n",
    "lon_formatter = LongitudeFormatter(zero_direction_label=True)\n",
    "lat_formatter = LatitudeFormatter()\n",
    "ax.xaxis.set_major_formatter(lon_formatter)\n",
    "ax.yaxis.set_major_formatter(lat_formatter)"
   ]
  },
  {
   "cell_type": "code",
   "execution_count": null,
   "id": "7388ae5b-a14b-4995-b31a-f749f347fece",
   "metadata": {
    "tags": []
   },
   "outputs": [],
   "source": [
    "tn.sel(latitude=6.6, longitude=-1.6, method='nearest').sel(time=slice('1997-08-01', '1997-09-01')).plot(alpha=0.3)\n",
    "region = ctn90.sel(latitude=6.6, longitude=-1.6, method='nearest').sel(time=slice('1997-08-01', '1997-09-01'))#,'1999'))\n",
    "region.where(\n",
    "    region.rolling(time=3).count()>=3\n",
    ").plot(marker='*', alpha=0.3)\n",
    "region.where(\n",
    "    region.rolling(time=23).count()>=23\n",
    ").plot(marker='.')\n",
    "plt.title('lenght of the longest heatwave at Ghana')\n",
    "plt.grid()\n",
    "plt.savefig(path+'/figures/lenght_hwd_tn_gh_monthly_pctl_1983-2016.jpeg', bbox_inches='tight')"
   ]
  },
  {
   "cell_type": "code",
   "execution_count": null,
   "id": "b64b950c-b58f-4bcc-b702-ecf0dedd4e8f",
   "metadata": {},
   "outputs": [],
   "source": []
  },
  {
   "cell_type": "code",
   "execution_count": null,
   "id": "397430db-342d-424f-ac48-cc8650c967a1",
   "metadata": {
    "tags": []
   },
   "outputs": [],
   "source": [
    "tn.sel(latitude=6.8, longitude=-5.2, method='nearest').sel(time=slice('1999-07-09', '1999-08-01')).plot(alpha=0.3)\n",
    "region = ctn90.sel(latitude=6.8, longitude=-5.2, method='nearest').sel(time=slice('1999-07-09', '1999-08-01'))#,'1999'))\n",
    "region.where(\n",
    "    region.rolling(time=1).count()>=1\n",
    ").plot(marker='*', alpha=0.3)\n",
    "region.where(\n",
    "    region.rolling(time=17).count()>=17\n",
    ").plot(marker='.')\n",
    "# plt.title('lenght of the longest heatwave at Ivory Coast')\n",
    "# plt.grid()\n",
    "# plt.twinx()\n",
    "# data_1000_tn.r.sel(longitude=-5.7, latitude=7,method='nearest').sel(time=slice('1999-07-13T03','1999-07-29T03')).plot()\n",
    "# plt.title(None)\n",
    "plt.title('lenght of the longest heatwave at Ivory Coast')\n",
    "plt.grid()\n",
    "plt.savefig(path+'/figures/lenght_hwd_tn_iv_monthly_pctl_1983-2016.jpeg', bbox_inches='tight')"
   ]
  },
  {
   "cell_type": "code",
   "execution_count": null,
   "id": "3f7f864e-8247-4d0d-95a0-9db7eb6bb4dd",
   "metadata": {
    "tags": []
   },
   "outputs": [],
   "source": [
    "ds = xr.open_mfdataset('/media/kenz/1B8D1A637BBA134B/CHIRTS/adaptor.*')\n",
    "d = ds.sel(level=950).drop(['r','sst','ssr','clwc'])"
   ]
  },
  {
   "cell_type": "code",
   "execution_count": null,
   "id": "92778921-956d-418b-b5d8-4655edda183f",
   "metadata": {
    "tags": []
   },
   "outputs": [],
   "source": []
  },
  {
   "cell_type": "code",
   "execution_count": null,
   "id": "579e9d07-36c6-4b17-a6b1-61b536acc76e",
   "metadata": {
    "tags": []
   },
   "outputs": [],
   "source": [
    "fig, ax = plt.subplots(ncols=2, nrows=2, figsize=(12, 5),sharex=True, subplot_kw={'projection': crs.PlateCarree()})\n",
    "ax = ax.flatten()\n",
    "set_fig_params(ax)\n",
    "speed = np.sqrt(d.u**2 + d.v**2) \n",
    "cmap='coolwarm'\n",
    "let = 6\n",
    "cb1 = tn.sel(time='1999-07-12').plot(ax=ax[0],cmap=cmap, add_colorbar=False)\n",
    "# d.sel(time='1999-07-12T03').plot.streamplot(x=\"longitude\", y=\"latitude\", u=\"u\", v=\"v\", density=1.2, linewidth = 2, color='k',ax=ax[0])\n",
    "QV1 = d.sel(time='1999-07-12T03').coarsen(latitude=let, longitude=let, \n",
    "                                    boundary='trim').mean().plot.quiver(x=\"longitude\", \n",
    "                                                                        y=\"latitude\", u=\"u\", v=\"v\", ax=ax[0])\n",
    "cb2 = tn.sel(time='1999-07-17').plot(ax=ax[1],cmap=cmap, add_colorbar=False)\n",
    "QV2 = d.sel(time='1999-07-17T03').coarsen(latitude=let, longitude=let, \n",
    "                                    boundary='trim').mean().plot.quiver(x=\"longitude\", \n",
    "                                                                        y=\"latitude\", u=\"u\", v=\"v\", ax=ax[1])\n",
    "cb3=tn.sel(time='1999-07-22').plot(ax=ax[2],cmap=cmap, add_colorbar=False)\n",
    "QV3 = d.sel(time='1999-07-22T03').coarsen(latitude=let, longitude=let, \n",
    "                                    boundary='trim').mean().plot.quiver(x=\"longitude\", \n",
    "                                                                        y=\"latitude\", u=\"u\", v=\"v\", ax=ax[2])\n",
    "cb4 = tn.sel(time='1999-07-27').plot(ax=ax[3],cmap=cmap, add_colorbar=False)\n",
    "QV4 = d.sel(time='1999-07-27T03').coarsen(latitude=let, longitude=let, \n",
    "                                    boundary='trim').mean().plot.quiver(x=\"longitude\", \n",
    "                                                                        y=\"latitude\", u=\"u\", v=\"v\", ax=ax[3])\n",
    "cb = [cb1,cb2,cb3,cb4]\n",
    "for i, j in enumerate([0.585, 0.13]):\n",
    "    cax = fig.add_axes([0.915, j, 0.02, 0.3])\n",
    "    fig.colorbar(cb[i], cax=cax, orientation='vertical', extend='both', label='Temperature [$^0$C]')\n",
    "# QV = [QV1,QV2,QV3,QV4]\n",
    "titles = ['day1', 'day2', 'day3', 'day4']\n",
    "for i, j in enumerate(titles):\n",
    "    ax[i].set_title(titles[i])\n",
    "for i, j in enumerate([0.585, 0.13]):\n",
    "    cax = fig.add_axes([0.915, j, 0.02, 0.3])\n",
    "    fig.colorbar(cb[i], cax=cax, orientation='vertical', extend='both', label='Temperature [$^0$C]')\n",
    "\n",
    "plt.quiverkey(QV1,  1.2, 0.525, 1, r'$1 \\frac{m}{s}$', labelpos='W',\n",
    "                   coordinates='data')\n",
    "plt.tight_layout()\n",
    "plt.suptitle('')\n",
    "# plt.savefig(path+'/figures/temperature_&_wind_at heatwavedays_monthly_pctl_1983-2016.jpeg', bbox_inches='tight')"
   ]
  },
  {
   "cell_type": "code",
   "execution_count": null,
   "id": "c9b93289-e234-4cde-849c-c4ec0227fede",
   "metadata": {},
   "outputs": [],
   "source": []
  },
  {
   "cell_type": "code",
   "execution_count": null,
   "id": "153bb4b9-9756-4260-8706-0ecff0e24bd7",
   "metadata": {
    "tags": []
   },
   "outputs": [],
   "source": [
    "level = 1000\n",
    "data_1000_tn = xr.open_dataset('../Era_5/adaptor.mars.internal-1696568296.3407738-20356-11-6eb92cae-2150-478f-8f10-5ce4465adc91.nc').sel(level=level)\n",
    "hdtn = hwn_tn.groupby('time.year').sum('time').max('year').sel(longitude=slice(-20,15), latitude=slice(0,18))\n",
    "data_str_tn = xr.open_dataset('../Era_5/adaptor.mars.internal-radiation.nc').str/3600*3\n",
    "data_sst_tn = xr.open_dataset('../Era_5/adaptor.mars.internal-radiation.nc').sst-273.15\n",
    "tn = df_read(path, tmin, 'Tmin')"
   ]
  },
  {
   "cell_type": "code",
   "execution_count": null,
   "id": "656eb56e-1879-4969-aa4c-5f72131a74b0",
   "metadata": {
    "tags": []
   },
   "outputs": [],
   "source": [
    "data_str_tn"
   ]
  },
  {
   "cell_type": "code",
   "execution_count": null,
   "id": "ab59db39-0238-4bf9-a79c-e9a8b518c242",
   "metadata": {
    "tags": []
   },
   "outputs": [],
   "source": [
    "# level =1000\n",
    "def plt_maps(hd,data,temp,data_str,data_sst,dates,level,wind_thres,temp_thres, rad_thres, sst_thres,rh_thres):\n",
    "    import matplotlib as mpl\n",
    "    def show_axes():\n",
    "        for i,j in enumerate(ax):\n",
    "            ax[i].set_extent([-20,15,0,17])\n",
    "            ax[i].add_feature(feature.COASTLINE)\n",
    "            ax[i].add_feature(feature.BORDERS)\n",
    "            ax[i].add_feature(feature.STATES, linewidth = 0.2)\n",
    "            ax[i].set_xticks([-10,-5,0,5], crs=crs.PlateCarree())\n",
    "            ax[i].set_yticks([5,10], crs=crs.PlateCarree())\n",
    "            lon_formatter = LongitudeFormatter(zero_direction_label=True)\n",
    "            lat_formatter = LatitudeFormatter()\n",
    "            ax[i].xaxis.set_major_formatter(lon_formatter)\n",
    "            ax[i].yaxis.set_major_formatter(lat_formatter)\n",
    "    fig, ax = plt.subplots(ncols=4, nrows=3, figsize=(15, 10),sharex=True, subplot_kw={'projection': crs.PlateCarree()})\n",
    "    ax = ax.flatten()\n",
    "    show_axes()\n",
    "    cmap = mpl.cm.rainbow\n",
    "    cm = 'pink_r'\n",
    "    # norm = mpl.colors.Normalize(vmax=wind_thres[0], vmin=wind_thres[1])\n",
    "    # norm = mpl.colors.Normalize(vmin=0, vmax=int(wind_speed.max()))\n",
    "    norm = mpl.colors.Normalize(vmin=0, vmax=wind_thres)\n",
    "    # dates = ['1999-07-12', '1999-07-17', '1999-07-22', '1999-07-27']\n",
    "    days = ['Day 0', 'Day 5', 'Day 10', 'Day 15']\n",
    "\n",
    "    for i in range(0,4):\n",
    "        hwnp = hd.where(hd>0).plot(ax=ax[i],cbar_kwargs={'orientation': 'horizontal', 'label':'HWD'}, vmax = 18, cmap='bone_r')\n",
    "        ax[i].set_title(days[i])\n",
    "\n",
    "    for i, j in enumerate(dates):    \n",
    "        rhp = data.r.sel(longitude=slice(-20,15), latitude=slice(17,0)).sortby('latitude').sel(time=f'{dates[i]}T03', method='nearest').plot.contour(\n",
    "            ax=ax[i+4],add_colorbar=False, cmap= 'rainbow', vmin=rh_thres[1], vmax=rh_thres[0])\n",
    "        temp = tn.sel(longitude=slice(-20,15), latitude=slice(0,17)).sel(time=f'{dates[i]}', method = 'nearest').plot(\n",
    "            ax=ax[i+4],cmap = cm,cbar_kwargs={'orientation': 'horizontal','label':'Temperature [$^o$C]'},vmax=temp_thres[0], vmin=temp_thres[1])\n",
    "        radp = data_str.sel(longitude=slice(-20,15), latitude=slice(17,0)).sortby('latitude').sel(\n",
    "            time=f'{dates[i]}T03', method = 'nearest').plot(ax=ax[8+i],cbar_kwargs={\n",
    "            'orientation': 'horizontal', 'label':'OLR [$Wm^2$C]'}, cmap= 'rainbow', vmax = rad_thres[0], vmin=rad_thres[1])\n",
    "        sstp = data_sst.sel(longitude=slice(-20,15), latitude=slice(17,0)).sortby('latitude').sel(time=f'{dates[i]}T03', method = 'nearest').plot(\n",
    "            ax=ax[8+i],add_colorbar=False, cmap = 'jet', vmax=sst_thres[0], vmin=sst_thres[1])\n",
    "        # ds = data.sel(longitude=slice(-15,10), latitude=slice(15,0)).sortby('latitude').drop(\n",
    "        #     ['z','r','t','w','vo']).sel(time=f'{dates[i]}T03', method='nearest')\n",
    "        # strm = ax[i].streamplot(x=ds[\"longitude\"],y=ds[\"latitude\"], u=ds[\"u\"], v=ds[\"v\"], color=ds.u.values, linewidth=1, cmap='rainbow', density=0.6, norm=norm)\n",
    "        ds = data.sel(longitude=slice(-20,15), latitude=slice(17,0)).sortby('latitude').drop(\n",
    "            ['z','r','t','w','vo']).sel(time=f'{dates[i]}T03', method='nearest')\n",
    "        wind_speed = np.sqrt(ds.u[::3, ::3] ** 2 + ds.v[::3, ::3] ** 2)\n",
    "        # norm = mpl.colors.Normalize(vmin=0, vmax=int(wind_speed.max()))\n",
    "        quiver = ax[i].quiver(ds.u[::3,::3].longitude, ds.u[::3,::3].latitude, \n",
    "                               ds.u[::3,::3], ds.v[::3,::3],wind_speed, scale=1200-int(level[:-3]),\n",
    "                              cmap='rainbow',linewidth=1.50, norm=norm, headwidth=5, headlength=5)\n",
    "\n",
    "    for i in range(0,12):\n",
    "        ax[i].set_xlabel(None)\n",
    "        ax[i].set_ylabel(None)\n",
    "\n",
    "    cbmap = [rhp,sstp]#,strm]\n",
    "    lb = ['Relative Humidity [%]','Sea Surface Temperature [$^o$C]']\n",
    "    for i, j in enumerate([0.45, 0.13]):#, 0.18]):\n",
    "        cax = fig.add_axes([1, j, 0.02, 0.15])\n",
    "        fig.colorbar(cbmap[i], cax=cax, orientation='vertical', label = lb[i])\n",
    "\n",
    "    cax = fig.add_axes([1, 0.77, 0.02, 0.15])\n",
    "    # cbar = fig.colorbar(strm.lines, cax=cax, orientation='vertical', label = 'wind speed [ms$^-2$]')\n",
    "    cbar = fig.colorbar(quiver, cax=cax, orientation='vertical', label='wind speed [ms$^-2$]')\n",
    "\n",
    "    fig.suptitle(f'Pressure level = {level[:-3]} hpa', fontweight ='bold')\n",
    "    plt.tight_layout()\n",
    "    plt.savefig(path+f'/figures/temp_wind_radiation_rh_hwn_sst_monthly_pctl_{level}{dates[0]}_1983-2016.jpeg', bbox_inches='tight')"
   ]
  },
  {
   "cell_type": "code",
   "execution_count": null,
   "id": "6497f18a-e776-4c4a-9a7f-764738988329",
   "metadata": {},
   "outputs": [],
   "source": []
  },
  {
   "cell_type": "code",
   "execution_count": null,
   "id": "d94e2b3e-2ffd-4608-aa5e-941b7788a4ad",
   "metadata": {
    "tags": []
   },
   "outputs": [],
   "source": [
    "lon = [-20,20]\n",
    "lat = [0,20]\n",
    "level = '850 tn'\n",
    "fig, ax = plt.subplots(ncols=4, nrows=1, figsize=(15, 10),sharex=True, subplot_kw={'projection': crs.PlateCarree()})\n",
    "ax = ax.flatten()\n",
    "def show_axes():\n",
    "    for i,j in enumerate(ax):\n",
    "        ax[i].set_extent([-20,15,0,17])\n",
    "        ax[i].add_feature(feature.COASTLINE)\n",
    "        ax[i].add_feature(feature.BORDERS)\n",
    "        ax[i].add_feature(feature.STATES, linewidth = 0.2)\n",
    "        ax[i].set_xticks([-20,-10,0,10,20], crs=crs.PlateCarree())\n",
    "        ax[i].set_yticks([10,20], crs=crs.PlateCarree())\n",
    "        lon_formatter = LongitudeFormatter(zero_direction_label=True)\n",
    "        lat_formatter = LatitudeFormatter()\n",
    "        ax[i].xaxis.set_major_formatter(lon_formatter)\n",
    "        ax[i].yaxis.set_major_formatter(lat_formatter)\n",
    "show_axes()\n",
    "dates = ['1997-08-09', '1997-08-15', '1997-08-22', '1997-08-30']\n",
    "data_1000_tn = xr.open_dataset('../Era_5/adaptor.mars.internal-1696568296.3407738-20356-11-6eb92cae-2150-478f-8f10-5ce4465adc91.nc').sel(level=1000)\n",
    "\n",
    "for i, j in enumerate(dates):\n",
    "    # data_str_tn.sel(latitude=6.6, longitude=-1.6, method='nearest').sel(time=slice('1997-08-01', '1997-09-01'))\n",
    "    # ds = data_1000_tn.sel(longitude=slice(lon[0],lon[1]), latitude=slice(lat[1],lat[0])).sortby('latitude').drop(\n",
    "            # ['z','r','t','w','vo']).sel(time=f'{dates[i]}T15', method='nearest')\n",
    "    # wind_speed = np.sqrt(ds.u[::3, ::3] ** 2 + ds.v[::3, ::3] ** 2)\n",
    "        # norm = mpl.colors.Normalize(vmin=0, vmax=int(wind_speed.max()))\n",
    "    # norm = mpl.colors.Normalize(vmin=0, vmax=10)\n",
    "    # quiver = ax[i].quiver(ds.u[::3,::3].longitude, ds.u[::3,::3].latitude, \n",
    "    #                       ds.u[::3,::3], ds.v[::3,::3],wind_speed, scale=1200-int(level[:-3]),\n",
    "    # #                       cmap='rainbow',linewidth=1.50, headwidth=5, headlength=5, norm=norm)\n",
    "    radp = rad_tn.sel(longitude=slice(lon[0],lon[1]), latitude=slice(lat[1],lat[0])).sortby('latitude').sel(\n",
    "            time=f'{dates[i]}T15', method = 'nearest').plot(ax=ax[i],cbar_kwargs={\n",
    "            'orientation': 'horizontal', 'label':'OLR [$Wm^2$C]'}, cmap= 'rainbow')\n",
    "        \n",
    "    # temp = tn.sel(longitude=slice(lon[0],lon[1]), latitude=slice(lat[0],lat[1])).sel(time=f'{dates[i]}', method = 'nearest').plot(\n",
    "    #     ax=ax[i],cmap = 'pink_r',cbar_kwargs={'orientation': 'horizontal','label':'Temperature [$^o$C]'}, vmax=34, vmin=16)\n",
    "    # rhp = data_850_tn.r.sel(longitude=slice(lon[0],lon[1]), latitude=slice(lat[1],lat[0])).sortby('latitude').sel(time=f'{dates[i]}T15', method='nearest').plot.contour(\n",
    "    #         ax=ax[i],add_colorbar=True, cmap= 'rainbow')\n",
    "    # sstp = data_sst_tn.sel(longitude=slice(lon[0],lon[1]), latitude=slice(lat[1],lat[0])).sortby('latitude').sel(time=f'{dates[i]}T03', method = 'nearest').plot(\n",
    "    #         ax=ax[i],add_colorbar=True, cmap = 'jet')\n",
    "\n",
    "# cax = fig.add_axes([1, 0.47, 0.02, 0.15])\n",
    "# cbar = fig.colorbar(quiver, cax=cax, orientation='vertical', label='wind speed [ms$^-2$]')"
   ]
  },
  {
   "cell_type": "code",
   "execution_count": null,
   "id": "4811fdd7-81ed-4a8f-8838-da9785789382",
   "metadata": {},
   "outputs": [],
   "source": [
    "rad_tn"
   ]
  },
  {
   "cell_type": "code",
   "execution_count": null,
   "id": "7bc2da42-84de-4104-879b-a19c5cd163cd",
   "metadata": {
    "tags": []
   },
   "outputs": [],
   "source": [
    "data_1000_tn = xr.open_dataset('../Era_5/adaptor.mars.internal-1696568296.3407738-20356-11-6eb92cae-2150-478f-8f10-5ce4465adc91.nc').sel(level=1000)\n",
    "plt_maps(hdtn, data_1000_tn, tn, data_str_tn,data_sst_tn,dates = ['1997-08-09', '1997-08-15', '1997-08-22', '1997-08-30'],level = '1000 tn',\n",
    "        wind_thres = 10,temp_thres = [30,18], rad_thres = [10,-180], sst_thres = [30,23], rh_thres=[120,0])"
   ]
  },
  {
   "cell_type": "code",
   "execution_count": null,
   "id": "e5e9ef28-3bb9-40c2-be17-3cf3b775f753",
   "metadata": {},
   "outputs": [],
   "source": []
  },
  {
   "cell_type": "code",
   "execution_count": null,
   "id": "39ade773-35ee-4683-93b7-0b5a5c3fe6aa",
   "metadata": {
    "tags": []
   },
   "outputs": [],
   "source": [
    "data_950_tn = xr.open_dataset('../Era_5/adaptor.mars.internal-1696568296.3407738-20356-11-6eb92cae-2150-478f-8f10-5ce4465adc91.nc').sel(level=950)\n",
    "plt_maps(hdtn, data_950_tn, tn, data_str_tn,data_sst_tn,dates = ['1997-08-09', '1997-08-15', '1997-08-22', '1997-08-30'],level = '950 tn',\n",
    "        wind_thres = 14,temp_thres = [30,18], rad_thres = [10,-180], sst_thres = [30,23], rh_thres=[120,0])"
   ]
  },
  {
   "cell_type": "code",
   "execution_count": null,
   "id": "c8ddf831-1378-4021-96aa-ca16285fde87",
   "metadata": {},
   "outputs": [],
   "source": []
  },
  {
   "cell_type": "code",
   "execution_count": null,
   "id": "522b8039-9fd9-4e13-9965-43c9ff16a0c5",
   "metadata": {
    "tags": []
   },
   "outputs": [],
   "source": [
    "data_850_tn = xr.open_dataset('../Era_5/adaptor.mars.internal-1696568296.3407738-20356-11-6eb92cae-2150-478f-8f10-5ce4465adc91.nc').sel(level=850)\n",
    "plt_maps(hdtn, data_850_tn, tn, data_str_tn,data_sst_tn,dates = ['1997-08-09', '1997-08-15', '1997-08-22', '1997-08-30'],level = '850 tn',\n",
    "        wind_thres = 15,temp_thres = [30,18], rad_thres = [10,-180], sst_thres = [30,23], rh_thres=[120,0])"
   ]
  },
  {
   "cell_type": "code",
   "execution_count": null,
   "id": "84dcf45c-4433-4a14-9a1d-112d53bfd35e",
   "metadata": {},
   "outputs": [],
   "source": []
  },
  {
   "cell_type": "code",
   "execution_count": null,
   "id": "7b2615dd-dba6-4390-8f41-84220155bdd3",
   "metadata": {
    "tags": []
   },
   "outputs": [],
   "source": [
    "data_500_tn = xr.open_dataset('../Era_5/adaptor.mars.internal-1696568296.3407738-20356-11-6eb92cae-2150-478f-8f10-5ce4465adc91.nc').sel(level=500)\n",
    "plt_maps(hdtn, data_500_tn, tn, data_str_tn,data_sst_tn,dates = ['1997-08-09', '1997-08-15', '1997-08-22', '1997-08-30'],level = '500 tn',\n",
    "        wind_thres = 20,temp_thres = [30,18], rad_thres = [10,-180], sst_thres = [30,23], rh_thres=[120,0])"
   ]
  },
  {
   "cell_type": "code",
   "execution_count": null,
   "id": "226cf83b-8139-409a-ac2c-0c9e16a96d77",
   "metadata": {},
   "outputs": [],
   "source": []
  },
  {
   "cell_type": "code",
   "execution_count": null,
   "id": "514bd76b-08b3-437b-bae2-0d01e0fd0fab",
   "metadata": {
    "tags": []
   },
   "outputs": [],
   "source": [
    "data_200_tn = xr.open_dataset('../Era_5/adaptor.mars.internal-1696568296.3407738-20356-11-6eb92cae-2150-478f-8f10-5ce4465adc91.nc').sel(level=200)\n",
    "plt_maps(hdtn, data_200_tn, tn, data_str_tn,data_sst_tn,dates = ['1997-08-09', '1997-08-15', '1997-08-22', '1997-08-30'],level = '200 tn',\n",
    "        wind_thres = 60,temp_thres = [30,18], rad_thres = [10,-180], sst_thres = [30,25], rh_thres=[120,0])"
   ]
  },
  {
   "cell_type": "code",
   "execution_count": null,
   "id": "b1915f33-09e2-4a3f-a72c-f5e153f97133",
   "metadata": {},
   "outputs": [],
   "source": []
  },
  {
   "cell_type": "code",
   "execution_count": null,
   "id": "238e7e3f-a9fb-4c47-b2bf-274cc4b207a0",
   "metadata": {},
   "outputs": [],
   "source": [
    "data_1000_tn = xr.open_dataset('../Era_5/adaptor.mars.internal-1696568296.3407738-20356-11-6eb92cae-2150-478f-8f10-5ce4465adc91.nc').sel(level=1000)"
   ]
  },
  {
   "cell_type": "code",
   "execution_count": null,
   "id": "94a7db89-6604-430b-adb0-74c48e1da223",
   "metadata": {},
   "outputs": [],
   "source": [
    "plt_maps(hdtn, data_1000_tn, tn, data_str_tn,data_sst_tn,dates = ['1999-07-10', '1999-07-16', '1999-07-21', '1999-07-26'],level = '1000 tn',\n",
    "        wind_thres = 10,temp_thres = [29,20], rad_thres = [10,-180], sst_thres = [29,22], rh_thres=[104,56])"
   ]
  },
  {
   "cell_type": "code",
   "execution_count": null,
   "id": "44d08737-58bb-47b1-b08b-2d75029c0d32",
   "metadata": {},
   "outputs": [],
   "source": []
  },
  {
   "cell_type": "code",
   "execution_count": null,
   "id": "a522e9d2-0b3a-4f59-9e66-b7a84edfc638",
   "metadata": {
    "tags": []
   },
   "outputs": [],
   "source": [
    "data_950 = xr.open_dataset('../Era_5/adaptor.mars.internal-1696568296.3407738-20356-11-6eb92cae-2150-478f-8f10-5ce4465adc91.nc').sel(level=950)"
   ]
  },
  {
   "cell_type": "code",
   "execution_count": null,
   "id": "f86feb37-3719-4d67-8480-cd5b3d89e374",
   "metadata": {
    "tags": []
   },
   "outputs": [],
   "source": [
    "plt_maps(hdtn, data_950, tn, data_str_tn,data_sst_tn,dates = ['1999-07-11', '1999-07-16', '1999-07-21', '1999-07-26'],level = '950 tn',\n",
    "        wind_thres = 12,temp_thres = [29,20], rad_thres = [10,-180], sst_thres = [29,22], rh_thres=[104,56])"
   ]
  },
  {
   "cell_type": "code",
   "execution_count": null,
   "id": "7281c30a-11d4-45d6-afaf-bcf386c4bd1b",
   "metadata": {
    "tags": []
   },
   "outputs": [],
   "source": []
  },
  {
   "cell_type": "code",
   "execution_count": null,
   "id": "ab0c0293-1058-4850-be93-5aa84d5c969d",
   "metadata": {
    "tags": []
   },
   "outputs": [],
   "source": [
    "data_850 = xr.open_dataset('../Era_5/adaptor.mars.internal-1696568296.3407738-20356-11-6eb92cae-2150-478f-8f10-5ce4465adc91.nc').sel(level=850)\n",
    "plt_maps(hdtn, data_850, tn, data_str_tn,data_sst_tn,dates = ['1999-07-10', '1999-07-17', '1999-07-22', '1999-07-27'],level = '850 tn',\n",
    "        wind_thres = 11,temp_thres = [29,20], rad_thres = [10,-180], sst_thres = [29,22], rh_thres=[120,0])"
   ]
  },
  {
   "cell_type": "code",
   "execution_count": null,
   "id": "581558ce-21e0-48fe-be3a-8cbc6ec92791",
   "metadata": {
    "tags": []
   },
   "outputs": [],
   "source": []
  },
  {
   "cell_type": "code",
   "execution_count": null,
   "id": "3cd08753-67ad-48df-b957-25c2a609539a",
   "metadata": {
    "tags": []
   },
   "outputs": [],
   "source": [
    "data_500 = xr.open_dataset('../Era_5/adaptor.mars.internal-1696568296.3407738-20356-11-6eb92cae-2150-478f-8f10-5ce4465adc91.nc').sel(level=500)\n",
    "plt_maps(hdtn, data_500, tn, data_str_tn,data_sst_tn,dates = ['1999-07-10', '1999-07-17', '1999-07-22', '1999-07-27'],level = '500 tn',\n",
    "        wind_thres = 15,temp_thres = [29,20], rad_thres = [10,-180], sst_thres = [29,22], rh_thres=[120,0])"
   ]
  },
  {
   "cell_type": "code",
   "execution_count": null,
   "id": "4c1b7b1e-015c-4e23-940a-4d9d56c365b4",
   "metadata": {
    "tags": []
   },
   "outputs": [],
   "source": []
  },
  {
   "cell_type": "code",
   "execution_count": null,
   "id": "305302c3-c8af-48c2-ab01-7b93daab0f4c",
   "metadata": {
    "tags": []
   },
   "outputs": [],
   "source": [
    "data_200 = xr.open_dataset('../Era_5/adaptor.mars.internal-1696568296.3407738-20356-11-6eb92cae-2150-478f-8f10-5ce4465adc91.nc').sel(level=200)\n",
    "plt_maps(hdtn, data_200, tn, data_str_tn,data_sst_tn,dates = ['1999-07-10', '1999-07-17', '1999-07-22', '1999-07-27'],level = '200 tn',\n",
    "        wind_thres = 35,temp_thres = [29,20], rad_thres = [10,-180], sst_thres = [29,22], rh_thres=[120,0])"
   ]
  },
  {
   "cell_type": "code",
   "execution_count": null,
   "id": "fdb0021f-0096-41df-ac93-625af436c560",
   "metadata": {},
   "outputs": [],
   "source": []
  },
  {
   "cell_type": "code",
   "execution_count": null,
   "id": "c3ff8c46-7edf-4a05-bd45-6f6e270b978d",
   "metadata": {},
   "outputs": [],
   "source": [
    "#### Line Plots"
   ]
  },
  {
   "cell_type": "code",
   "execution_count": null,
   "id": "ffb32912-97dc-4595-b497-adda1964745e",
   "metadata": {
    "tags": []
   },
   "outputs": [],
   "source": [
    "data_1000_tn.r.sel(longitude=-5.7, latitude=7,method='nearest').sel(time=slice('1999-07-10T03','1999-07-28T03')).plot()"
   ]
  },
  {
   "cell_type": "code",
   "execution_count": null,
   "id": "e901bbd8-d877-4290-bbdc-6831482784ca",
   "metadata": {},
   "outputs": [],
   "source": []
  },
  {
   "cell_type": "code",
   "execution_count": null,
   "id": "9866e5d7-6af8-472d-8abd-869827320d95",
   "metadata": {},
   "outputs": [],
   "source": [
    "#### Maximum Temperature"
   ]
  },
  {
   "cell_type": "code",
   "execution_count": null,
   "id": "f339da0c-b4d4-47ec-b9bb-32e61e092e5f",
   "metadata": {},
   "outputs": [],
   "source": [
    "# level = 1000\n",
    "# data_1000_tx = xr.open_dataset('../Era_5/adaptor.mars.internal-1696568296.3407738-20356-11-6eb92cae-2150-478f-8f10-5ce4465adc91.nc').sel(level=level)\n",
    "hdtx = hwn_tx.groupby('time.year').sum('time').max('year').sel(longitude=slice(-15,10), latitude=slice(0,15))\n",
    "# data_str_x = xr.open_dataset('../Era_5/adaptor.mars.internal-radiation.nc').str/3600*3\n",
    "# data_sst_tx = xr.open_dataset('../Era_5/adaptor.mars.internal-radiation.nc').sst-273.15\n",
    "tx = df_read(path, tmax, 'Tmax')"
   ]
  },
  {
   "cell_type": "code",
   "execution_count": null,
   "id": "670dbf4c-1ae6-4799-bc50-c85a4130e02f",
   "metadata": {
    "tags": []
   },
   "outputs": [],
   "source": []
  },
  {
   "cell_type": "code",
   "execution_count": null,
   "id": "31520601-9a9b-43ec-aed0-672fc187ddeb",
   "metadata": {
    "tags": []
   },
   "outputs": [],
   "source": [
    "# level =1000\n",
    "def plt_map(hd,data,temp,data_str,data_sst,dates,level,wind_thres,temp_thres, rad_thres, sst_thres,rh_thres):\n",
    "    import matplotlib as mpl\n",
    "    def show_axes():\n",
    "        for i,j in enumerate(ax):\n",
    "            ax[i].set_extent([-22,25,4,30])\n",
    "            ax[i].add_feature(feature.COASTLINE)\n",
    "            ax[i].add_feature(feature.BORDERS)\n",
    "            ax[i].add_feature(feature.STATES, linewidth = 0.2)\n",
    "            ax[i].set_xticks([-20,-10,0,10,20], crs=crs.PlateCarree())\n",
    "            ax[i].set_yticks([10,20,27], crs=crs.PlateCarree())\n",
    "            lon_formatter = LongitudeFormatter(zero_direction_label=True)\n",
    "            lat_formatter = LatitudeFormatter()\n",
    "            ax[i].xaxis.set_major_formatter(lon_formatter)\n",
    "            ax[i].yaxis.set_major_formatter(lat_formatter)\n",
    "    fig, ax = plt.subplots(ncols=4, nrows=3, figsize=(15, 10),sharex=True, subplot_kw={'projection': crs.PlateCarree()})\n",
    "    ax = ax.flatten()\n",
    "    show_axes()\n",
    "    cmap = mpl.cm.rainbow\n",
    "    cm = 'pink_r'\n",
    "    # norm = mpl.colors.Normalize(vmax=wind_thres[0], vmin=wind_thres[1])\n",
    "    # norm = mpl.colors.Normalize(vmin=0, vmax=int(wind_speed.max()))\n",
    "    norm = mpl.colors.Normalize(vmin=0, vmax=wind_thres)\n",
    "    # dates = ['1999-07-12', '1999-07-17', '1999-07-22', '1999-07-27']\n",
    "    days = ['Day 0', 'Day 5', 'Day 10', 'Day 15']\n",
    "\n",
    "    for i in range(0,4):\n",
    "        hwnp = hd.where(hd>0).plot(ax=ax[i],cbar_kwargs={'orientation': 'horizontal', 'label':'HWD'}, vmax = 18, cmap='bone_r')\n",
    "        ax[i].set_title(days[i])\n",
    "    lon = [-30,25]\n",
    "    lat = [0,35]\n",
    "    for i, j in enumerate(dates):    \n",
    "        rhp = data.r.sel(longitude=slice(lon[0],lon[1]), latitude=slice(lat[1],lat[0])).sortby('latitude').sel(time=f'{dates[i]}T15', method='nearest').plot.contour(\n",
    "            ax=ax[i+4],add_colorbar=False, cmap= 'rainbow', vmin=rh_thres[1], vmax=rh_thres[0])\n",
    "        temp = tx.sel(longitude=slice(lon[0],lon[1]), latitude=slice(lat[0],lat[1])).sel(time=f'{dates[i]}', method = 'nearest').plot(\n",
    "            ax=ax[i+4],cmap = cm,cbar_kwargs={'orientation': 'horizontal','label':'Temperature [$^o$C]'},vmax=temp_thres[0], vmin=temp_thres[1])\n",
    "        radp = data_str.sel(longitude=slice(lon[0],lon[1]), latitude=slice(lat[1],lat[0])).sortby('latitude').sel(\n",
    "            time=f'{dates[i]}T15', method = 'nearest').plot(ax=ax[8+i],cbar_kwargs={\n",
    "            'orientation': 'horizontal', 'label':'OLR [$Wm^2$C]'}, cmap= 'rainbow', vmax = rad_thres[0], vmin=rad_thres[1])\n",
    "        sstp = data_sst.sel(longitude=slice(lon[0],lon[1]), latitude=slice(lat[1],lat[0])).sortby('latitude').sel(time=f'{dates[i]}T15', method = 'nearest').plot(\n",
    "            ax=ax[8+i],add_colorbar=False, cmap = 'jet', vmax=sst_thres[0], vmin=sst_thres[1])\n",
    "        # ds = data.sel(longitude=slice(-15,10), latitude=slice(15,0)).sortby('latitude').drop(\n",
    "        #     ['z','r','t','w','vo']).sel(time=f'{dates[i]}T15', method='nearest')\n",
    "        # strm = ax[i].streamplot(x=ds[\"longitude\"],y=ds[\"latitude\"], u=ds[\"u\"], v=ds[\"v\"], color=ds.u.values, linewidth=1, cmap='rainbow', density=0.6, norm=norm)\n",
    "        ds = data.sel(longitude=slice(lon[0],lon[1]), latitude=slice(lat[1],lat[0])).sortby('latitude').drop(\n",
    "            ['z','r','t','w','vo']).sel(time=f'{dates[i]}T15', method='nearest')\n",
    "        wind_speed = np.sqrt(ds.u[::3, ::3] ** 2 + ds.v[::3, ::3] ** 2)\n",
    "        # norm = mpl.colors.Normalize(vmin=0, vmax=int(wind_speed.max()))\n",
    "        quiver = ax[i].quiver(ds.u[::3,::3].longitude, ds.u[::3,::3].latitude, \n",
    "                               ds.u[::3,::3], ds.v[::3,::3],wind_speed, scale=1200-int(level[:-3]),\n",
    "                              cmap='rainbow',linewidth=1.50, norm=norm, headwidth=5, headlength=5)\n",
    "\n",
    "    for i in range(0,12):\n",
    "        ax[i].set_xlabel(None)\n",
    "        ax[i].set_ylabel(None)\n",
    "\n",
    "    cbmap = [rhp,sstp]#,strm]\n",
    "    lb = ['Relative Humidity [%]','Sea Surface Temperature [$^o$C]']\n",
    "    for i, j in enumerate([0.45, 0.13]):#, 0.18]):\n",
    "        cax = fig.add_axes([1, j, 0.02, 0.15])\n",
    "        fig.colorbar(cbmap[i], cax=cax, orientation='vertical', label = lb[i])\n",
    "\n",
    "    cax = fig.add_axes([1, 0.77, 0.02, 0.15])\n",
    "    # cbar = fig.colorbar(strm.lines, cax=cax, orientation='vertical', label = 'wind speed [ms$^-2$]')\n",
    "    cbar = fig.colorbar(quiver, cax=cax, orientation='vertical', label='wind speed [ms$^-2$]')\n",
    "\n",
    "    fig.suptitle(f'Pressure level = {level[:-3]} hpa', fontweight ='bold')\n",
    "    plt.tight_layout()\n",
    "    plt.savefig(path+f'/figures/temp_wind_radiation_rh_hwn_sst_monthly_pctl_{level}_{dates[0]}_1983-2016.jpeg', bbox_inches='tight')"
   ]
  },
  {
   "cell_type": "code",
   "execution_count": null,
   "id": "c0d66c34-8de5-4257-a864-22acc1b477db",
   "metadata": {},
   "outputs": [],
   "source": [
    "hdtx = hwn_tx.groupby('time.year').sum('time').max('year')\n",
    "data_str_tx = xr.open_dataset('../Era_5/adaptor.mars.internal.tx.nc').str/3600*3\n",
    "data_sst_tx = xr.open_dataset('../Era_5/adaptor.mars.internal.tx.nc').sst-273.15\n",
    "tx = df_read(path, tmax, 'Tmax')"
   ]
  },
  {
   "cell_type": "code",
   "execution_count": null,
   "id": "28847f31-2f9a-40a3-848b-ded205a44c27",
   "metadata": {},
   "outputs": [],
   "source": []
  },
  {
   "cell_type": "code",
   "execution_count": null,
   "id": "df21cd83-2a8a-46d1-8ee7-286d7b52126f",
   "metadata": {
    "tags": []
   },
   "outputs": [],
   "source": [
    "lon = [-30,25]\n",
    "lat = [-20,35]\n",
    "level = '1000 tx'\n",
    "data_tx_1000 = xr.open_dataset('../Era_5/adaptor.mars.internal-1696586869.7078497-9814-6-e617163c-d080-4831-bbee-0e77f388871a.nc').sel(level=1000)\n"
   ]
  },
  {
   "cell_type": "code",
   "execution_count": null,
   "id": "14f8734c-86be-4205-913b-768652dbf03b",
   "metadata": {
    "tags": []
   },
   "outputs": [],
   "source": [
    "data_tx_1000 = xr.open_dataset('../Era_5/adaptor.mars.internal-1696586869.7078497-9814-6-e617163c-d080-4831-bbee-0e77f388871a.nc').sel(level=1000)\n",
    "plt_map(hdtx, data_tx_1000, tx, data_str_tx,data_sst_tx,dates = ['2013-06-26', '2013-07-01', '2013-07-06', '2013-08-11'],level = '1000 tx',\n",
    "        wind_thres = 16,temp_thres = [59,20], rad_thres = [10,-850], sst_thres = [32,18], rh_thres=[120,0])"
   ]
  },
  {
   "cell_type": "code",
   "execution_count": null,
   "id": "26306370-7013-46a1-bb1c-650965b66b1a",
   "metadata": {
    "tags": []
   },
   "outputs": [],
   "source": [
    "data_tx_950 = xr.open_dataset('../Era_5/adaptor.mars.internal-1696586869.7078497-9814-6-e617163c-d080-4831-bbee-0e77f388871a.nc').sel(level=950)\n",
    "plt_map(hdtx, data_tx_950, tx, data_str_tx,data_sst_tx,dates = ['2013-06-26', '2013-07-01', '2013-07-06', '2013-08-11'],level = '950 tx',\n",
    "        wind_thres = 20,temp_thres = [59,20], rad_thres = [10,-850], sst_thres = [32,18], rh_thres=[120,0])"
   ]
  },
  {
   "cell_type": "code",
   "execution_count": null,
   "id": "7570e610-e436-4bc7-8270-54f7d322b5f0",
   "metadata": {},
   "outputs": [],
   "source": []
  },
  {
   "cell_type": "code",
   "execution_count": null,
   "id": "1dcb55bb-d872-4aab-a930-419ddb78b0e0",
   "metadata": {
    "tags": []
   },
   "outputs": [],
   "source": [
    "data_tx_850 = xr.open_dataset('../Era_5/adaptor.mars.internal-1696586869.7078497-9814-6-e617163c-d080-4831-bbee-0e77f388871a.nc').sel(level=850)\n",
    "plt_map(hdtx, data_tx_850, tx, data_str_tx,data_sst_tx,dates = ['2013-06-26', '2013-07-01', '2013-07-06', '2013-08-11'],level = '850 tx',\n",
    "        wind_thres = 20,temp_thres = [59,20], rad_thres = [10,-850], sst_thres = [32,18], rh_thres=[120,0])"
   ]
  },
  {
   "cell_type": "code",
   "execution_count": null,
   "id": "5a5e492e-c294-44a4-8475-f8f1e3739ad3",
   "metadata": {
    "tags": []
   },
   "outputs": [],
   "source": [
    "data_tx_500 = xr.open_dataset('../Era_5/adaptor.mars.internal-1696586869.7078497-9814-6-e617163c-d080-4831-bbee-0e77f388871a.nc').sel(level=500)\n",
    "plt_map(hdtx, data_tx_500, tx, data_str_tx,data_sst_tx,dates = ['2013-06-26', '2013-07-01', '2013-07-06', '2013-08-11'],level = '500 tx',\n",
    "        wind_thres = 23,temp_thres = [59,20], rad_thres = [10,-850], sst_thres = [32,18], rh_thres=[120,0])"
   ]
  },
  {
   "cell_type": "code",
   "execution_count": null,
   "id": "6b05408c-b5e1-43b2-a0b3-51e7707c277e",
   "metadata": {
    "tags": []
   },
   "outputs": [],
   "source": [
    "data_tx_200 = xr.open_dataset('../Era_5/adaptor.mars.internal-1696586869.7078497-9814-6-e617163c-d080-4831-bbee-0e77f388871a.nc').sel(level=200)\n",
    "plt_map(hdtx, data_tx_200, tx, data_str_tx,data_sst_tx,dates = ['2013-06-26', '2013-07-01', '2013-07-06', '2013-08-11'],level = '200 tx',\n",
    "        wind_thres = 38,temp_thres = [59,20], rad_thres = [10,-850], sst_thres = [32,18], rh_thres=[120,0])"
   ]
  },
  {
   "cell_type": "code",
   "execution_count": null,
   "id": "1527a358-2cb6-44b8-b044-a1168e5a39a2",
   "metadata": {},
   "outputs": [],
   "source": []
  },
  {
   "cell_type": "code",
   "execution_count": null,
   "id": "dc651e7b-c2be-47f8-b6cf-e2fabbc7f6f4",
   "metadata": {
    "tags": []
   },
   "outputs": [],
   "source": [
    "data_tx_950 = xr.open_dataset('../Era_5/adaptor.mars.internal-1696586869.7078497-9814-6-e617163c-d080-4831-bbee-0e77f388871a.nc').sel(level=950)\n"
   ]
  },
  {
   "cell_type": "code",
   "execution_count": null,
   "id": "4b0f3e86-5432-4918-bb83-d87869df43fa",
   "metadata": {},
   "outputs": [],
   "source": [
    "hdtx = hwn_tx.groupby('time.year').sum('time').max('year').sel(longitude=slice(-15,10), latitude=slice(0,15))\n",
    "data_str_tx = xr.open_dataset('../Era_5/adaptor.mars.internal.tx.nc').str/3600*3\n",
    "data_sst_tx = xr.open_dataset('../Era_5/adaptor.mars.internal.tx.nc').sst-273.15\n",
    "tx = df_read(path, tmax, 'Tmax')"
   ]
  },
  {
   "cell_type": "code",
   "execution_count": null,
   "id": "1b4bd24d-5bdc-4a39-b630-9d4bcf78956d",
   "metadata": {},
   "outputs": [],
   "source": [
    "data_tx_1000 = xr.open_dataset('../Era_5/adaptor.mars.internal-1696586869.7078497-9814-6-e617163c-d080-4831-bbee-0e77f388871a.nc').sel(level=1000)\n",
    "plt_map(hdtx, data_tx_950, tx, data_str_tx,data_sst_tx,dates = ['2015-12-16', '2015-12-23', '2015-12-28', '2016-01-03'],level = '1000 tx',\n",
    "        wind_thres = 18,temp_thres = [38,15], rad_thres = [-100,-650], sst_thres = [32,18], rh_thres=[120,0])"
   ]
  },
  {
   "cell_type": "code",
   "execution_count": null,
   "id": "081dc031-9881-4c6c-838e-f93f367b2253",
   "metadata": {},
   "outputs": [],
   "source": []
  },
  {
   "cell_type": "code",
   "execution_count": null,
   "id": "423ca4ec-5a0b-4551-a910-c1fa8795baa3",
   "metadata": {},
   "outputs": [],
   "source": [
    "data_tx_950 = xr.open_dataset('../Era_5/adaptor.mars.internal-1696586869.7078497-9814-6-e617163c-d080-4831-bbee-0e77f388871a.nc').sel(level=950)\n",
    "plt_map(hdtx, data_tx_950, tx, data_str_tx,data_sst_tx,dates = ['2015-12-16', '2015-12-23', '2015-12-28', '2016-01-03'],level = '950 tx',\n",
    "        wind_thres = 22,temp_thres = [38,15], rad_thres = [-100,-650], sst_thres = [32,18], rh_thres=[120,0])"
   ]
  },
  {
   "cell_type": "code",
   "execution_count": null,
   "id": "65a899a2-63a7-4dae-872b-f0f2fcf8911f",
   "metadata": {},
   "outputs": [],
   "source": [
    "tx = df_read(path, tmax, 'Tmax')\n",
    "data_tx_950 = xr.open_dataset('../Era_5/adaptor.mars.internal-1697563853.3145142-15820-15-f77cdf85-8321-421e-80ef-f67af09303db.nc').sel(level=950)"
   ]
  },
  {
   "cell_type": "code",
   "execution_count": null,
   "id": "2b1633b2-18f1-466c-9db2-0f56ebfd4cf5",
   "metadata": {
    "tags": []
   },
   "outputs": [],
   "source": [
    "rh_tn = xr.open_dataset('/media/kenz/1B8D1A637BBA134B/Era_5/adaptor.mars.internal-rh_tn.nc').r.sel(level=1000)\n",
    "rad_tn = xr.open_dataset('/media/kenz/1B8D1A637BBA134B/Era_5/adaptor.mars.internal-radiation_new_tn.nc').str/3600*3"
   ]
  },
  {
   "cell_type": "code",
   "execution_count": null,
   "id": "d696a7f9-cccb-432a-8bd5-21fc92e17bd9",
   "metadata": {
    "tags": []
   },
   "outputs": [],
   "source": []
  },
  {
   "cell_type": "code",
   "execution_count": null,
   "id": "fb154ba5-5da9-41e3-835a-bb6bdd7ff00e",
   "metadata": {
    "tags": []
   },
   "outputs": [],
   "source": [
    "import matplotlib.pyplot as plt\n",
    "\n",
    "fig = plt.figure(figsize=(14,6))\n",
    "ax = fig.add_subplot(2,2,1)\n",
    "# fig.subplots_adjust(right=0.75)\n",
    "ax1 = fig.add_subplot(2,2,2)\n",
    "\n",
    "twin1 = ax.twinx()\n",
    "twin2 = ax.twinx()\n",
    "\n",
    "twin2.spines.right.set_position((\"axes\", 1.2))\n",
    "\n",
    "p1, = rad_tn.sel(latitude=6.8, longitude=-5.2, method='nearest').sel(time=slice('1999-07-09', '1999-08-01')).plot(ax=ax,label = 'rad', color='k')\n",
    "p2, = data_1000_tn.r.sel(latitude=6.8, longitude=-5.2, method='nearest').sel(time=slice('1999-07-09', '1999-08-01')).plot(ax=twin1,alpha=0.5, label = 'rh')\n",
    "p3, = tn.sel(latitude=6.8, longitude=-5.2, method='nearest').sel(time=slice('1999-07-09', '1999-08-01')).plot(alpha=0.5, ax=twin2, label='tn', color= 'r')\n",
    "# p4, = data_sst_tn.sel(latitude=5.1, longitude=-5.2, method='nearest').sel(time=slice('1999-07-09', '1999-08-01')).plot(ax=twin2,alpha=0.5,marker= '.',label='sst', color = 'r')\n",
    "region = ctn90.sel(latitude=6.8, longitude=-5.2, method='nearest').sel(time=slice('1999-07-09', '1999-08-01'))\n",
    "p5, = region.where(\n",
    "    region.rolling(time=1).count()>=1\n",
    ").plot(marker='*', alpha=0.5, label='ctn90', ax=twin2, color = 'r')\n",
    "p6, = region.where(\n",
    "    region.rolling(time=18).count()>=18\n",
    ").plot(marker='.', color='g', label='end', ax=twin2)\n",
    "\n",
    "plt.grid()\n",
    "\n",
    "\n",
    "# region2 = ctn90.sel(latitude=6.8, longitude=-5.2, method='nearest').sel(time=slice('1999-07-09', '1999-08-01'))\n",
    "\n",
    "twinax1 = ax1.twinx()\n",
    "twinax2 = ax1.twinx()\n",
    "twinax2.spines.right.set_position((\"axes\", 1.2))\n",
    "\n",
    "p1a = rad_tn.sel(latitude=6.8, longitude=-5.2, method='nearest').sel(time=slice('1998-07-12', '1998-07-30')).plot(ax=ax1,label = 'rad', color='k')\n",
    "p2a, = rh_tn.sel(latitude=6.8, longitude=-5.2, method='nearest').sel(time=slice('1998-07-12', '1998-07-30')).plot(ax=twinax1,alpha=0.5, label = 'rh')\n",
    "p3a, = tn.sel(latitude=6.8, longitude=-5.2, method='nearest').sel(time=slice('1998-07-12', '1998-07-30')).plot(alpha=0.5, ax=twinax2, label='tx', color= 'r')\n",
    "region = ctn90.sel(latitude=6.8, longitude=-5.2, method='nearest').sel(time=slice('1998-07-12', '1998-07-30'))\n",
    "p6a, = region.where(\n",
    "    region.rolling(time=1).count()>=1\n",
    ").plot(marker='*', alpha=0.5, label='ctn90', ax=twinax2, color = 'r')\n",
    "\n",
    "# tx.sel(latitude=20, longitude=15, method='nearest').sel(time=slice('2012-05-01', '2012-06-30')).plot(alpha=0.3, label='tx')\n",
    "# region = ctn90.sel(latitude=6.8, longitude=-5.2, method='nearest').sel(time=slice('1998-07-12', '1998-07-30'))\n",
    "# region.where(region.rolling(time=1).count()>=1).plot(marker='*', alpha=0.3, label='ctx90', ax=twinax2)\n",
    "\n",
    "\n",
    "# # ax.legend(handles=[p1, p2, p3, p4, p5,p6], loc='best')\n",
    "# # ax1.legend(handles=[p3a], loc='best')\n",
    "\n",
    "ax3 = fig.add_subplot(2,2,3)\n",
    "twin3a = ax3.twinx()\n",
    "twin3b = ax3.twinx()\n",
    "\n",
    "twin3b.spines.right.set_position((\"axes\", 1.2))\n",
    "\n",
    "p1b, = rad_tn.sel(latitude=6.6, longitude=-1.6, method='nearest').sel(time=slice('1997-08-01', '1997-09-01')).plot(ax=ax3,label = 'rad', color='k')\n",
    "p2b, = rh_tn.sel(latitude=6.6, longitude=-1.6, method='nearest').sel(time=slice('1997-08-01', '1997-09-01')).plot(ax=twin3a,alpha=0.5, label = 'rh')\n",
    "p3b, = tn.sel(latitude=6.6, longitude=-1.6, method='nearest').sel(time=slice('1997-08-01', '1997-09-01')).plot(alpha=0.5, ax=twin3b, label='tx', color= 'r')\n",
    "\n",
    "# # p2c, = data_1000_tn.r.sel(latitude=6.6, longitude=-1.6, method='nearest').sel(time=slice('1997-08-01', '1997-09-01')).plot(ax=twin3a,alpha=0.5, label = 'rh')\n",
    "# # p4c, = data_sst_tx.sel(latitude=6.6, longitude=-1.6, method='nearest').sel(time=slice('1997-08-01', '1997-09-01')).plot(ax=twin3b,alpha=0.5,marker= '.',label='sst', color = 'r')\n",
    "region = ctn90.sel(latitude=6.6, longitude=-1.6, method='nearest').sel(time=slice('1997-08-01', '1997-09-01'))\n",
    "p5b, = region.where(\n",
    "    region.rolling(time=1).count()>=1\n",
    ").plot(marker='*', alpha=0.5, label='ctn90', ax=twin3b, color = 'r')\n",
    "p6b, = region.where(\n",
    "    region.rolling(time=23).count()>=23\n",
    ").plot(marker='.', color='g', label='end', ax=twin3b)\n",
    "plt.grid()\n",
    "\n",
    "# twin3a.set_title(None)\n",
    "# # twin3b.set_title(None)\n",
    "# # ax3.set_title('Ghana 1997')\n",
    "\n",
    "# # ax3.legend(handles=[p1c, p2c, p3c, p4c, p5c,p6c], loc='best')\n",
    "\n",
    "ax4 = fig.add_subplot(2,2,4)\n",
    "twin4a = ax4.twinx()\n",
    "twin4b = ax4.twinx()\n",
    "twin4b.spines.right.set_position((\"axes\", 1.2))\n",
    "\n",
    "p1c, = rad_tn.sel(latitude=5, longitude=6.5, method='nearest').sel(time=slice('1999-08-09', '1999-09-01')).plot(ax=ax4,label = 'olr', color='k')\n",
    "p2c, = rh_tn.sel(latitude=5, longitude=6.5, method='nearest').sel(time=slice('1999-08-09', '1999-09-01')).plot(ax=twin4a,alpha=0.5, label = 'rh')\n",
    "p3c, = tn.sel(latitude=5, longitude=6.5, method='nearest').sel(time=slice('1999-08-09', '1999-09-01')).plot(alpha=0.5, label='tn', ax=twin4b, color='r')\n",
    "region = ctn90.sel(latitude=5, longitude=6.5, method='nearest').sel(time=slice('1999-08-09', '1999-09-01'))\n",
    "p5c, = region.where(\n",
    "    region.rolling(time=1).count()>=1\n",
    ").plot(marker='*', alpha=0.5, label='ctn90', ax=twin4b)\n",
    "\n",
    "ax4.set_title('Ghana 1999')\n",
    "ax3.set_title('Ghana 19997')\n",
    "ax1.set_title('Ivory Cost 1998')\n",
    "ax.set_title('Ivory Coast 1999')\n",
    "\n",
    "twin1.set_title(None)\n",
    "twin2.set_title(None)\n",
    "twinax1.set_title(None)\n",
    "twinax2.set_title(None)\n",
    "twin3a.set_title(None)\n",
    "twin3b.set_title(None)\n",
    "twin4a.set_title(None)\n",
    "twin4b.set_title(None)\n",
    "\n",
    "ax1.set(xlabel=\"Time [ Years ]\", ylabel=\"OLR [ Wm$^-$$^2$ ]\", ylim=(-135,-18))\n",
    "ax.set(xlabel=\"Time [ Years ]\", ylabel=\"OLR [ Wm$^-$$^2$ ]\", ylim=(-135,-18))\n",
    "ax3.set(xlabel=\"Time [ Years ]\", ylabel=\"OLR [ Wm$^-$$^2$ ]\", ylim=(-135,-18))\n",
    "ax4.set(xlabel=\"Time [ Years ]\", ylabel=\"OLR [ Wm$^-$$^2$ ]\", ylim=(-135,-18))\n",
    "\n",
    "twin1.yaxis.label.set_color(p2.get_color())\n",
    "twin1.tick_params(axis='y', colors=p2.get_color())\n",
    "twin1.set(ylim=(78,100))\n",
    "\n",
    "twinax1.tick_params(axis='y', colors=p2a.get_color())\n",
    "twinax1.yaxis.label.set_color(p2a.get_color())\n",
    "twinax1.set(ylim=(78,100))\n",
    "\n",
    "twin3a.tick_params(axis='y', colors=p2b.get_color())\n",
    "twin3a.yaxis.label.set_color(p2b.get_color())\n",
    "twin3a.set(ylim=(78,100))\n",
    "\n",
    "twin4a.tick_params(axis='y', colors=p2c.get_color())\n",
    "twin4a.yaxis.label.set_color(p2c.get_color())\n",
    "twin4a.set(ylim=(78,100))\n",
    "\n",
    "twin2.yaxis.label.set_color(p3.get_color())\n",
    "twin2.tick_params(axis='y', colors=p3.get_color())\n",
    "twin2.set(ylabel=\"Temperature [ $^0$C ]\", ylim= (22,25.5))\n",
    "\n",
    "twin3b.tick_params(axis='y', colors=p3c.get_color())\n",
    "twin3b.yaxis.label.set_color(p3c.get_color())\n",
    "twin3b.set(ylabel=\"Temperature [ $^0$C ]\", ylim= (22,25.5))\n",
    "\n",
    "twinax2.tick_params(axis='y', colors=p3b.get_color())\n",
    "twinax2.yaxis.label.set_color(p3b.get_color())\n",
    "twinax2.set(ylabel=\"Temperature [ $^0$C ]\", ylim= (22,25.5))\n",
    "\n",
    "twin4b.yaxis.label.set_color(p3d.get_color())\n",
    "twin4b.tick_params(axis='y', colors=p3d.get_color())\n",
    "twin4b.set(ylabel=\"Temperature [ $^0$C ]\", ylim= (22,25.5))\n",
    "\n",
    "fig.legend(handles=[p1, p2, p3, p5,p6],bbox_to_anchor=(1.07, 1.07))\n",
    "plt.tight_layout()\n",
    "plt.savefig(path+f'/figures/all_var_tn_monthly_pctl_1983-2016.jpeg', bbox_inches='tight')"
   ]
  },
  {
   "cell_type": "code",
   "execution_count": null,
   "id": "a20ada12-30b4-42f1-9418-a44f5b6df8fe",
   "metadata": {
    "tags": []
   },
   "outputs": [],
   "source": []
  },
  {
   "cell_type": "code",
   "execution_count": null,
   "id": "feddce54-989c-421e-9696-8f1f2e44a0ab",
   "metadata": {
    "tags": []
   },
   "outputs": [],
   "source": []
  },
  {
   "cell_type": "code",
   "execution_count": null,
   "id": "5dbb8a9e-6634-4f90-87cb-a44f1dce303b",
   "metadata": {
    "tags": []
   },
   "outputs": [],
   "source": [
    "# data_tx_950#.sel(latitude=5, longitude=6.5, method='nearest').sortby('time').plot(alpha=0.3, label = 'rh')\n",
    "data = xr.open_dataset('/media/kenz/1B8D1A637BBA134B/Era_5/adaptor.mars.internal-1697563853.3145142-15820-15-f77cdf85-8321-421e-80ef-f67af09303db.nc')"
   ]
  },
  {
   "cell_type": "code",
   "execution_count": null,
   "id": "4f3def3b-4dec-4fa6-bcbf-108b1bec40ad",
   "metadata": {
    "tags": []
   },
   "outputs": [],
   "source": [
    "data"
   ]
  },
  {
   "cell_type": "code",
   "execution_count": null,
   "id": "de591415-8ba8-467e-9292-ee7ba871a15d",
   "metadata": {
    "tags": []
   },
   "outputs": [],
   "source": [
    "tx.sel(latitude=20, longitude=15, method='nearest').sel(time=slice('2012-05-01', '2012-08-07')).plot(alpha=0.3, label='tx')\n",
    "region = ctx90.sel(latitude=20, longitude=15, method='nearest').sel(time=slice('2012-05-01', '2012-08-07'))#,'1999'))\n",
    "region.where(\n",
    "    region.rolling(time=1).count()>=1\n",
    ").plot(marker='*', alpha=0.3, label='ctx90')\n",
    "#     region.rolling(time=18).count()>=18\n",
    "# ).plot(marker='.', color='g')\n",
    "# data_str_tx.sel(latitude=5, longitude=6.5, method='nearest').sel(time=slice('2013-06-08', '2013-06-30')).plot(alpha=0.3, label='str')\n",
    "# data_tx_950"
   ]
  },
  {
   "cell_type": "code",
   "execution_count": null,
   "id": "5083b4ac-de06-4bdd-a33e-ae5b036bdf19",
   "metadata": {
    "tags": []
   },
   "outputs": [],
   "source": [
    "str_tx = (xr.open_dataset('/media/kenz/1B8D1A637BBA134B/Era_5/adaptor.mars.internal-radiation_new.nc').str)/3600*3\n",
    "rh_tx = xr.open_dataset('/media/kenz/1B8D1A637BBA134B/Era_5/adaptor.mars.internal-rh_new.nc').r.sel(level=1000)\n",
    "str_tx\n",
    "# str_tx.sel(latitude=20, longitude=15, method='nearest').sel(time=slice('2013-05-15', '2013-06-15')).plot()"
   ]
  },
  {
   "cell_type": "code",
   "execution_count": null,
   "id": "aa5f34bc-bb5d-46fa-8318-dfd9d439e5f7",
   "metadata": {
    "tags": []
   },
   "outputs": [],
   "source": [
    "str_tx.sel(latitude=6.8, longitude=-5.2, method='nearest')#.sel(time=slice('1998-07-12', '1998-07-30'))"
   ]
  },
  {
   "cell_type": "code",
   "execution_count": null,
   "id": "75724493-46d4-4a03-9ee7-10eeb9fb27c1",
   "metadata": {},
   "outputs": [],
   "source": []
  },
  {
   "cell_type": "code",
   "execution_count": null,
   "id": "bab1235e-bbbd-4bf1-b195-544576157f90",
   "metadata": {
    "tags": []
   },
   "outputs": [],
   "source": [
    "import matplotlib.pyplot as plt\n",
    "\n",
    "fig = plt.figure(figsize=(14,6))\n",
    "ax = fig.add_subplot(2,2,1)\n",
    "# fig.subplots_adjust(right=0.75)\n",
    "ax1 = fig.add_subplot(2,2,2)\n",
    "\n",
    "twin1 = ax.twinx()\n",
    "twin2 = ax.twinx()\n",
    "\n",
    "twin2.spines.right.set_position((\"axes\", 1.2))\n",
    "\n",
    "p1, = data_str_tx.sel(latitude=20, longitude=15, method='nearest').sel(time=slice('2013-05-18', '2013-06-15')).plot(ax=ax,label = 'olr', color='k')\n",
    "p2, = rh_tx.sel(latitude=20, longitude=15, method='nearest').sel(time=slice('2013-05-18', '2013-06-15')).plot(ax=twin1,alpha=0.5, label = 'rh')\n",
    "p3, = tx.sel(latitude=20, longitude=15, method='nearest').sel(time=slice('2013-05-18', '2013-06-15')).plot(alpha=0.5, ax=twin2, label='tn', color= 'r')\n",
    "# p4, = data_sst_tn.sel(latitude=5.1, longitude=-5.2, method='nearest').sel(time=slice('1999-07-09', '1999-08-01')).plot(ax=twin2,alpha=0.5,marker= '.',label='sst', color = 'r')\n",
    "region = ctx90.sel(latitude=20, longitude=15, method='nearest').sel(time=slice('2013-05-18', '2013-06-15'))\n",
    "p5, = region.where(\n",
    "    region.rolling(time=1).count()>=1\n",
    ").plot(marker='*', alpha=0.5, label='ctx90', ax=twin2, color = 'r')\n",
    "p6, = region.where(\n",
    "    region.rolling(time=18).count()>=18\n",
    ").plot(marker='.', color='g', label='end', ax=twin2)\n",
    "\n",
    "plt.grid()\n",
    "\n",
    "twinax1 = ax1.twinx()\n",
    "twinax2 = ax1.twinx()\n",
    "twinax2.spines.right.set_position((\"axes\", 1.2))\n",
    "\n",
    "p1a = str_tx.sel(latitude=20, longitude=15, method='nearest').sel(time=slice('2012-05-01', '2012-05-24')).plot(ax=ax1,label = 'olr', color='k')\n",
    "p2a, = rh_tx.sel(latitude=20, longitude=15, method='nearest').sel(time=slice('2012-05-01', '2012-05-24')).plot(ax=twinax1,alpha=0.5, label = 'rh')\n",
    "p3a, = tx.sel(latitude=20, longitude=15, method='nearest').sel(time=slice('2012-05-01', '2012-05-24')).plot(alpha=0.5, ax=twinax2, label='tx', color= 'r')\n",
    "region = ctx90.sel(latitude=20, longitude=15, method='nearest').sel(time=slice('2012-05-01', '2012-05-24'))\n",
    "p6a, = region.where(\n",
    "    region.rolling(time=1).count()>=1\n",
    ").plot(marker='*', alpha=0.5, label='ctx90', ax=twinax2, color = 'r')\n",
    "\n",
    "# # tx.sel(latitude=20, longitude=15, method='nearest').sel(time=slice('2012-05-01', '2012-06-30')).plot(alpha=0.3, label='tx')\n",
    "# # region = ctn90.sel(latitude=6.8, longitude=-5.2, method='nearest').sel(time=slice('1998-07-12', '1998-07-30'))\n",
    "# # region.where(region.rolling(time=1).count()>=1).plot(marker='*', alpha=0.3, label='ctx90', ax=twinax2)\n",
    "\n",
    "\n",
    "# # # ax.legend(handles=[p1, p2, p3, p4, p5,p6], loc='best')\n",
    "# # # ax1.legend(handles=[p3a], loc='best')\n",
    "\n",
    "ax3 = fig.add_subplot(2,2,3)\n",
    "twin3a = ax3.twinx()\n",
    "twin3b = ax3.twinx()\n",
    "\n",
    "twin3b.spines.right.set_position((\"axes\", 1.2))\n",
    "\n",
    "p1b, = str_tx.sel(latitude=5, longitude=6.5, method='nearest').sel(time=slice('2015-12-15', '2016-01-10')).plot(ax=ax3,label = 'olr', color='k')\n",
    "p2b, = rh_tx.sel(latitude=5, longitude=6.5, method='nearest').sel(time=slice('2015-12-15', '2016-01-10')).plot(ax=twin3a,alpha=0.5, label = 'rh')\n",
    "p3b, = tx.sel(latitude=5, longitude=6.5, method='nearest').sel(time=slice('2015-12-15', '2016-01-10')).plot(alpha=0.5, ax=twin3b, label='tx', color= 'r')\n",
    "\n",
    "# # # p2c, = data_1000_tn.r.sel(latitude=6.6, longitude=-1.6, method='nearest').sel(time=slice('1997-08-01', '1997-09-01')).plot(ax=twin3a,alpha=0.5, label = 'rh')\n",
    "# # # p4c, = data_sst_tx.sel(latitude=6.6, longitude=-1.6, method='nearest').sel(time=slice('1997-08-01', '1997-09-01')).plot(ax=twin3b,alpha=0.5,marker= '.',label='sst', color = 'r')\n",
    "region = ctx90.sel(latitude=5, longitude=6.5, method='nearest').sel(time=slice('2015-12-15', '2016-01-10'))\n",
    "p5b, = region.where(\n",
    "    region.rolling(time=1).count()>=1\n",
    ").plot(marker='*', alpha=0.5, label='ctx90', ax=twin3b, color = 'r')\n",
    "p6b, = region.where(\n",
    "    region.rolling(time=23).count()>=23\n",
    ").plot(marker='.', color='g', label='end', ax=twin3b)\n",
    "plt.grid()\n",
    "\n",
    "# # twin3a.set_title(None)\n",
    "# # # twin3b.set_title(None)\n",
    "# # # ax3.set_title('Ghana 1997')\n",
    "\n",
    "# # # ax3.legend(handles=[p1c, p2c, p3c, p4c, p5c,p6c], loc='best')\n",
    "\n",
    "ax4 = fig.add_subplot(2,2,4)\n",
    "twin4a = ax4.twinx()\n",
    "twin4b = ax4.twinx()\n",
    "twin4b.spines.right.set_position((\"axes\", 1.2))\n",
    "\n",
    "p1c, = str_tx.sel(latitude=5, longitude=6.5, method='nearest').sel(time=slice('2014-10-22', '2014-11-22')).plot(ax=ax4,label = 'olr', color='k')\n",
    "p2c, = rh_tx.sel(latitude=5, longitude=6.5, method='nearest').sel(time=slice('2014-10-22', '2014-11-22')).plot(ax=twin4a,alpha=0.5, label = 'rh')\n",
    "p3c, = tx.sel(latitude=5, longitude=6.5, method='nearest').sel(time=slice('2014-10-22', '2014-11-22')).plot(alpha=0.5, label='tn', ax=twin4b, color='r')\n",
    "region = ctx90.sel(latitude=5, longitude=6.5, method='nearest').sel(time=slice('2014-10-22', '2014-11-22'))\n",
    "p5c, = region.where(\n",
    "    region.rolling(time=1).count()>=1\n",
    ").plot(marker='*', alpha=0.5, label='ctn90', ax=twin4b)\n",
    "\n",
    "ax4.set_title('Ghana 2015')\n",
    "ax3.set_title('Ghana 2014')\n",
    "ax1.set_title('North Africa 2012')\n",
    "ax.set_title('North Africa 2013')\n",
    "\n",
    "twin1.set_title(None)\n",
    "twin2.set_title(None)\n",
    "twinax1.set_title(None)\n",
    "twinax2.set_title(None)\n",
    "twin3a.set_title(None)\n",
    "twin3b.set_title(None)\n",
    "twin4a.set_title(None)\n",
    "twin4b.set_title(None)\n",
    "\n",
    "ax1.set(xlabel=\"Time [ Years ]\", ylabel=\"OLR [ Wm$^-$$^2$ ]\", ylim=(-800,-450))\n",
    "ax.set(xlabel=\"Time [ Years ]\", ylabel=\"OLR [ Wm$^-$$^2$ ]\", ylim=(-800,-450))\n",
    "ax3.set(xlabel=\"Time [ Years ]\", ylabel=\"OLR [ Wm$^-$$^2$ ]\", ylim=(-450,-40))\n",
    "ax4.set(xlabel=\"Time [ Years ]\", ylabel=\"OLR [ Wm$^-$$^2$ ]\", ylim=(-450,-40))\n",
    "\n",
    "twin1.yaxis.label.set_color(p2.get_color())\n",
    "twin1.tick_params(axis='y', colors=p2.get_color())\n",
    "twin1.set(ylim=(0,15))\n",
    "\n",
    "twinax1.tick_params(axis='y', colors=p2a.get_color())\n",
    "twinax1.yaxis.label.set_color(p2a.get_color())\n",
    "twinax1.set(ylim=(0,15))\n",
    "\n",
    "twin3a.tick_params(axis='y', colors=p2b.get_color())\n",
    "twin3a.yaxis.label.set_color(p2b.get_color())\n",
    "twin3a.set(ylim=(10,100))\n",
    "\n",
    "twin4a.tick_params(axis='y', colors=p2c.get_color())\n",
    "twin4a.yaxis.label.set_color(p2c.get_color())\n",
    "twin4a.set(ylim=(10,100))\n",
    "\n",
    "twin2.yaxis.label.set_color(p3.get_color())\n",
    "twin2.tick_params(axis='y', colors=p3.get_color())\n",
    "twin2.set(ylabel=\"Temperature [ $^0$C ]\", ylim= (39,48))\n",
    "\n",
    "twin3b.tick_params(axis='y', colors=p3c.get_color())\n",
    "twin3b.yaxis.label.set_color(p3c.get_color())\n",
    "twin3b.set(ylabel=\"Temperature [ $^0$C ]\", ylim= (28,38))\n",
    "\n",
    "twinax2.tick_params(axis='y', colors=p3b.get_color())\n",
    "twinax2.yaxis.label.set_color(p3b.get_color())\n",
    "twinax2.set(ylabel=\"Temperature [ $^0$C ]\", ylim= (39,48))\n",
    "\n",
    "twin4b.yaxis.label.set_color(p3d.get_color())\n",
    "twin4b.tick_params(axis='y', colors=p3d.get_color())\n",
    "twin4b.set(ylabel=\"Temperature [ $^0$C ]\", ylim= (28,38))\n",
    "\n",
    "fig.legend(handles=[p1, p2, p3, p5,p6],bbox_to_anchor=(1.07, 1.07))\n",
    "plt.tight_layout()\n",
    "plt.savefig(path+f'/figures/all_var_tx_monthly_pctl_1983-2016.jpeg', bbox_inches='tight')"
   ]
  },
  {
   "cell_type": "code",
   "execution_count": null,
   "id": "544dec39-fc9d-465a-a16f-1a9a7317c4f6",
   "metadata": {
    "tags": []
   },
   "outputs": [],
   "source": [
    "str_tx = xr.open_dataset('/media/kenz/1B8D1A637BBA134B/Era_5/adaptor.mars.internal-radiation_new.nc').str/3600*3"
   ]
  },
  {
   "cell_type": "code",
   "execution_count": null,
   "id": "920427f2-a225-46a2-bff7-10456ca03964",
   "metadata": {
    "tags": []
   },
   "outputs": [],
   "source": []
  },
  {
   "cell_type": "code",
   "execution_count": null,
   "id": "55099eb6-6edc-4ebf-8025-ac1d7682410e",
   "metadata": {},
   "outputs": [],
   "source": [
    "dates = ['2012-05-01', '2012-05-06', '2012-05-12', '2012-05-18']\n",
    "import matplotlib as mpl\n",
    "def show_axes():\n",
    "    for i,j in enumerate(ax):\n",
    "        ax[i].set_extent([-22,25,4,30])\n",
    "        ax[i].add_feature(feature.COASTLINE)\n",
    "        ax[i].add_feature(feature.BORDERS)\n",
    "        ax[i].add_feature(feature.STATES, linewidth = 0.2)\n",
    "        ax[i].set_xticks([-20,-10,0,10,20], crs=crs.PlateCarree())\n",
    "        ax[i].set_yticks([10,20,27], crs=crs.PlateCarree())\n",
    "        lon_formatter = LongitudeFormatter(zero_direction_label=True)\n",
    "        lat_formatter = LatitudeFormatter()\n",
    "        ax[i].xaxis.set_major_formatter(lon_formatter)\n",
    "        ax[i].yaxis.set_major_formatter(lat_formatter)\n",
    "fig, ax = plt.subplots(ncols=4, nrows=3, figsize=(15, 10),sharex=True, subplot_kw={'projection': crs.PlateCarree()})\n",
    "ax = ax.flatten()\n",
    "show_axes()\n",
    "cmap = mpl.cm.rainbow\n",
    "cm = 'pink_r'\n",
    "# norm = mpl.colors.Normalize(vmax=wind_thres[0], vmin=wind_thres[1])\n",
    "# norm = mpl.colors.Normalize(vmin=0, vmax=int(wind_speed.max()))\n",
    "norm = mpl.colors.Normalize(vmin=0, vmax=15)\n",
    "# dates = ['1999-07-12', '1999-07-17', '1999-07-22', '1999-07-27']\n",
    "days = ['Day 0', 'Day 5', 'Day 10', 'Day 15']\n",
    "\n",
    "for i in range(0,4):\n",
    "    hwnp = hdtx.where(hdtx>0).plot(ax=ax[i],cbar_kwargs={'orientation': 'horizontal', 'label':'HWD'}, vmax = 18, cmap='bone_r')\n",
    "    ax[i].set_title(days[i])\n",
    "lon = [-30,25]\n",
    "lat = [0,35]\n",
    "for i, j in enumerate(dates):    \n",
    "    rhp = rh_tx.sel(longitude=slice(lon[0],lon[1]), latitude=slice(lat[1],lat[0])).sortby('latitude').sel(time=f'{dates[i]}T15', method='nearest').plot.contour(\n",
    "        ax=ax[i+4],add_colorbar=False, cmap= 'rainbow', vmin=0, vmax=120)\n",
    "    temp = tx.sel(longitude=slice(lon[0],lon[1]), latitude=slice(lat[0],lat[1])).sel(time=f'{dates[i]}', method = 'nearest').plot(\n",
    "        ax=ax[i+4],cmap = cm,cbar_kwargs={'orientation': 'horizontal','label':'Temperature [$^o$C]'},vmax=60, vmin=20)\n",
    "    radp = data_str_tx.sel(longitude=slice(lon[0],lon[1]), latitude=slice(lat[1],lat[0])).sortby('latitude').sel(\n",
    "        time=f'{dates[i]}T15', method = 'nearest').plot(ax=ax[8+i],cbar_kwargs={\n",
    "        'orientation': 'horizontal', 'label':'OLR [$Wm^2$C]'}, cmap= 'rainbow', vmax = -800, vmin=0)\n",
    "    # sstp = data_sst.sel(longitude=slice(lon[0],lon[1]), latitude=slice(lat[1],lat[0])).sortby('latitude').sel(time=f'{dates[i]}T15', method = 'nearest').plot(\n",
    "    #     ax=ax[8+i],add_colorbar=False, cmap = 'jet', vmax=sst_thres[0], vmin=sst_thres[1])\n",
    "    # ds = data.sel(longitude=slice(-15,10), latitude=slice(15,0)).sortby('latitude').drop(\n",
    "    #     ['z','r','t','w','vo']).sel(time=f'{dates[i]}T15', method='nearest')\n",
    "    # strm = ax[i].streamplot(x=ds[\"longitude\"],y=ds[\"latitude\"], u=ds[\"u\"], v=ds[\"v\"], color=ds.u.values, linewidth=1, cmap='rainbow', density=0.6, norm=norm)\n",
    "    # ds = data.sel(longitude=slice(lon[0],lon[1]), latitude=slice(lat[1],lat[0])).sortby('latitude').drop(\n",
    "    #     ['z','r','t','w','vo']).sel(time=f'{dates[i]}T15', method='nearest')\n",
    "    # wind_speed = np.sqrt(ds.u[::3, ::3] ** 2 + ds.v[::3, ::3] ** 2)\n",
    "    # # norm = mpl.colors.Normalize(vmin=0, vmax=int(wind_speed.max()))\n",
    "    # quiver = ax[i].quiver(ds.u[::3,::3].longitude, ds.u[::3,::3].latitude, \n",
    "    #                        ds.u[::3,::3], ds.v[::3,::3],wind_speed, scale=1200-int(level[:-3]),\n",
    "    #                       cmap='rainbow',linewidth=1.50, norm=norm, headwidth=5, headlength=5)\n",
    "\n",
    "for i in range(0,12):\n",
    "    ax[i].set_xlabel(None)\n",
    "    ax[i].set_ylabel(None)\n",
    "\n",
    "# cbmap = [rhp,sstp]#,strm]\n",
    "# lb = ['Relative Humidity [%]','Sea Surface Temperature [$^o$C]']\n",
    "# for i, j in enumerate([0.45, 0.13]):#, 0.18]):\n",
    "#     cax = fig.add_axes([1, j, 0.02, 0.15])\n",
    "#     fig.colorbar(cbmap[i], cax=cax, orientation='vertical', label = lb[i])\n",
    "\n",
    "# cax = fig.add_axes([1, 0.77, 0.02, 0.15])\n",
    "# # cbar = fig.colorbar(strm.lines, cax=cax, orientation='vertical', label = 'wind speed [ms$^-2$]')\n",
    "# cbar = fig.colorbar(quiver, cax=cax, orientation='vertical', label='wind speed [ms$^-2$]')\n",
    "\n",
    "fig.suptitle(f'Pressure level = {level[:-3]} hpa', fontweight ='bold')\n",
    "plt.tight_layout()\n",
    "# plt.savefig(path+f'/figures/temp_wind_radiation_rh_hwn_sst_monthly_pctl_{level}_{dates[0]}_1983-2016.jpeg', bbox_inches='tight')"
   ]
  },
  {
   "cell_type": "code",
   "execution_count": null,
   "id": "e390331a-a628-4c55-9f89-c278756a4bd5",
   "metadata": {},
   "outputs": [],
   "source": []
  },
  {
   "cell_type": "code",
   "execution_count": null,
   "id": "564a89de-1fb5-4da4-ae26-fefa70132d11",
   "metadata": {},
   "outputs": [],
   "source": []
  },
  {
   "cell_type": "markdown",
   "id": "31c31be5-ddcb-4977-b86b-fa11a8db7c77",
   "metadata": {
    "tags": []
   },
   "source": [
    "### import matplotlib.pyplot as plt\n",
    "\n",
    "fig = plt.figure(figsize=(13,5))\n",
    "ax = fig.add_subplot(1,2,1)\n",
    "# fig.subplots_adjust(right=0.75)\n",
    "ax1 = fig.add_subplot(1,2,2)\n",
    "\n",
    "twin1 = ax.twinx()\n",
    "twin2 = ax.twinx()\n",
    "\n",
    "twin2.spines.right.set_position((\"axes\", 1.2))\n",
    "\n",
    "p1, = data_str_tx.sel(latitude=5, longitude=6.5, method='nearest').sel(time=slice('2015-12-15', '2016-01-05')).plot(ax=ax,label = 'rad', color='k')\n",
    "p2, = data_tx_950.r.sel(latitude=5, longitude=6.5, method='nearest').sel(time=slice('2015-12-15', '2016-01-05')).plot(ax=twin1,alpha=0.5, label = 'rh')\n",
    "p3, = tx.sel(latitude=5, longitude=6.5, method='nearest').sel(time=slice('2015-12-15', '2016-01-05')).plot(alpha=0.5, ax=twin2, label='tx', color= 'r')\n",
    "p4, = data_sst_tx.sel(latitude=4, longitude=6.5, method='nearest').sel(time=slice('2015-12-15', '2016-01-05')).plot(ax=twin2,alpha=0.5,marker= '.',label='sst', color = 'r')\n",
    "region = ctx90.sel(latitude=5, longitude=6.5, method='nearest').sel(time=slice('2015-12-15', '2016-01-05'))#,'1999'))\n",
    "p5, = region.where(\n",
    "    region.rolling(time=1).count()>=1\n",
    ").plot(marker='*', alpha=0.5, label='ctx90', ax=twin2, color = 'r')\n",
    "p6, = region.where(\n",
    "    region.rolling(time=18).count()>=18\n",
    ").plot(marker='.', color='g', label='end', ax=twin2)\n",
    "\n",
    "plt.grid()\n",
    "ax.set(xlabel=\"Time [ Years ]\", ylabel=\"OLR [ Wm$^-$$^2$ ]\")\n",
    "twin2.yaxis.label.set_color(p3.get_color())\n",
    "\n",
    "ax.tick_params(axis='y', colors=p1.get_color())\n",
    "twin1.tick_params(axis='y', colors=p2.get_color())\n",
    "twin2.tick_params(axis='y', colors=p3.get_color())\n",
    "ax.legend(handles=[p1, p2, p3, p4, p5,p6], loc='center')\n",
    "\n",
    "ax.set_title(None)\n",
    "plt.title(None)\n",
    "\n",
    "plt.tight_layout()\n",
    "plt.savefig(path+f'/figures/all_var_monthly_pctl_1983-2016.jpeg', bbox_inches='tight')"
   ]
  },
  {
   "cell_type": "code",
   "execution_count": null,
   "id": "441b0d5b-51e4-48a8-ad2d-9c7a852267e4",
   "metadata": {
    "tags": []
   },
   "outputs": [],
   "source": [
    "da = data.r.sel(latitude=5, longitude=6.5,level=950, method='nearest')\n",
    "# da.resample(time\n",
    "\n",
    "# da.sel(time=slice('1999-07-01T15', '1999-08-08T15'))"
   ]
  },
  {
   "cell_type": "code",
   "execution_count": null,
   "id": "4a987100-cb0f-4604-9a38-325b5a292415",
   "metadata": {
    "tags": []
   },
   "outputs": [],
   "source": [
    "da.sel(time='1999-07-01T03').values"
   ]
  },
  {
   "cell_type": "code",
   "execution_count": null,
   "id": "b08808ed-7188-45e0-ac26-6e6cac6b1f48",
   "metadata": {
    "tags": []
   },
   "outputs": [],
   "source": [
    "data_tx_850 = xr.open_dataset('../Era_5/adaptor.mars.internal-1696586869.7078497-9814-6-e617163c-d080-4831-bbee-0e77f388871a.nc').sel(level=850)\n",
    "plt_map(hdtx, data_tx_850, tx, data_str_tx,data_sst_tx,dates = ['2015-12-16', '2015-12-23', '2015-12-28', '2016-01-03'],level = '850 tx',\n",
    "        wind_thres = 22,temp_thres = [38,15], rad_thres = [-100,-650], sst_thres = [32,18], rh_thres=[120,0])"
   ]
  },
  {
   "cell_type": "code",
   "execution_count": null,
   "id": "7f0b749c-0988-408d-8742-f97339adb065",
   "metadata": {},
   "outputs": [],
   "source": []
  },
  {
   "cell_type": "code",
   "execution_count": null,
   "id": "4db19144-9062-4679-8dac-d057cd708b20",
   "metadata": {
    "tags": []
   },
   "outputs": [],
   "source": [
    "data_tx_500 = xr.open_dataset('../Era_5/adaptor.mars.internal-1696586869.7078497-9814-6-e617163c-d080-4831-bbee-0e77f388871a.nc').sel(level=500)\n",
    "plt_map(hdtx, data_tx_500, tx, data_str_tx,data_sst_tx,dates = ['2015-12-16', '2015-12-23', '2015-12-28', '2016-01-03'],level = '500 tx',\n",
    "        wind_thres = 30,temp_thres = [38,15], rad_thres = [-100,-650], sst_thres = [32,18], rh_thres=[120,0])"
   ]
  },
  {
   "cell_type": "code",
   "execution_count": null,
   "id": "0739905d-0bd5-4cde-bee3-88bc0b6e0360",
   "metadata": {},
   "outputs": [],
   "source": []
  },
  {
   "cell_type": "code",
   "execution_count": null,
   "id": "5a254d2a-19c8-418a-8e6e-f5fdde549017",
   "metadata": {
    "tags": []
   },
   "outputs": [],
   "source": [
    "data_tx_200 = xr.open_dataset('../Era_5/adaptor.mars.internal-1696586869.7078497-9814-6-e617163c-d080-4831-bbee-0e77f388871a.nc').sel(level=200)\n",
    "plt_map(hdtx, data_tx_200, tx, data_str_tx,data_sst_tx,dates = ['2015-12-16', '2015-12-23', '2015-12-28', '2016-01-03'],level = '200 tx',\n",
    "        wind_thres = 60,temp_thres = [38,15], rad_thres = [-110,-650], sst_thres = [32,18], rh_thres=[120,0])"
   ]
  },
  {
   "cell_type": "code",
   "execution_count": null,
   "id": "d2ef45b7-6347-41e8-8614-80f6ce1c63d2",
   "metadata": {},
   "outputs": [],
   "source": []
  },
  {
   "cell_type": "code",
   "execution_count": null,
   "id": "13538dd1-01e1-43c2-a21d-847785dbc9e4",
   "metadata": {},
   "outputs": [],
   "source": [
    "### Analysis Altitudewise\n",
    "fig, ax = plt.subplots(ncols=2, nrows=1, figsize=(15, 10),sharex=True, subplot_kw={'projection': crs.PlateCarree()})\n",
    "ax = ax.flatten()\n",
    "lon = np.linspace(-5.7,-5.7)\n",
    "lat = np.linspace(0,8.5)\n",
    "lon1 = np.linspace(-20,-4)\n",
    "lat2 = np.linspace(7,7)\n",
    "show_axes()\n",
    "for i in range(0,2):\n",
    "    ax[i].set_extent([-20,10,0,15])\n",
    "    ax[i].add_feature(feature.COASTLINE)\n",
    "    ax[i].add_feature(feature.BORDERS)\n",
    "    hwnp = hdtn.where(hdtn>0).plot(ax=ax[i],cbar_kwargs={'orientation': 'horizontal', 'label':'HWD'}, vmax = 18, cmap='bone_r')\n",
    "ax[0].plot(lon,lat,linewidth=10, alpha=0.2, color= 'red')\n",
    "ax[1].plot(lon1,lat2,linewidth=10, alpha=0.2, color= 'red')\n",
    "plt.savefig(path+f'/figures/column_tn_monthly_pctl_1983-2016.jpeg', bbox_inches='tight')"
   ]
  },
  {
   "cell_type": "code",
   "execution_count": null,
   "id": "a1aff4ee-9ec0-46bd-8b50-66e2c49e29d6",
   "metadata": {
    "tags": []
   },
   "outputs": [],
   "source": [
    "### Maximum Temperature  ###\n",
    "data = xr.open_dataset('/media/kenz/1B8D1A637BBA134B/Era_5/adaptor.mars.internal-1697563853.3145142-15820-15-f77cdf85-8321-421e-80ef-f67af09303db.nc')"
   ]
  },
  {
   "cell_type": "code",
   "execution_count": null,
   "id": "f942046f-c3d3-4ba5-979e-e4a58af6391e",
   "metadata": {
    "tags": []
   },
   "outputs": [],
   "source": [
    "fig, ax = plt.subplots(ncols=4, nrows=2, figsize=(15, 8))\n",
    "ax = ax.flatten()\n",
    "dates = ['1999-07-10', '1999-07-17', '1999-07-22', '1999-07-27']\n",
    "days = ['Day 0', 'Day 5', 'Day 10', 'Day 15']\n",
    "for i, j in enumerate(dates):    \n",
    "        rhp = data.r.sel(longitude=slice(-15,10), latitude=slice(15,0)).sel(\n",
    "            time=f'{dates[i]}T03', method='nearest').sel(longitude=5.7, method='nearest').T.plot(\n",
    "            ax=ax[i],add_colorbar=False if i<=2 else True, cmap= 'rainbow', vmin=0, vmax=120)\n",
    "        ax[i].set_title(days[i])\n",
    "        ax[i].invert_xaxis()\n",
    "        tmp = (data.t.sel(longitude=slice(-15,10), latitude=slice(15,0)).sel(\n",
    "            time=f'{dates[i]}T03', method='nearest')-273.15).sel(longitude=5.7, method='nearest').T.plot(\n",
    "            ax=ax[i+4],add_colorbar=False if i<=2 else True, cmap= 'seismic', vmax=40)\n",
    "        ax[i+4].set_title('')\n",
    "        ax[i+4].invert_xaxis()\n",
    "plt.tight_layout()\n",
    "plt.savefig(path+f'/figures/rh_column_tn_monthly_pctl_1983-2016.jpeg', bbox_inches='tight')"
   ]
  },
  {
   "cell_type": "code",
   "execution_count": null,
   "id": "6e211989-6294-4302-9075-a8fc8a98320e",
   "metadata": {
    "tags": []
   },
   "outputs": [],
   "source": []
  },
  {
   "cell_type": "code",
   "execution_count": null,
   "id": "acb9238c-1c32-4e78-953f-51bc0ac73e33",
   "metadata": {},
   "outputs": [],
   "source": [
    "fig, ax = plt.subplots(ncols=4, nrows=2, figsize=(15, 8))\n",
    "ax = ax.flatten()\n",
    "dates = ['2015-12-16', '2015-12-23', '2015-12-28', '2016-01-03']\n",
    "days = ['Day 0', 'Day 5', 'Day 10', 'Day 15']\n",
    "for i, j in enumerate(dates):    \n",
    "        rhp = data.r.sel(longitude=slice(-15,10), latitude=slice(15,0)).sel(\n",
    "            time=f'{dates[i]}T15', method='nearest').sel(longitude=5.7, method='nearest').T.plot(\n",
    "            ax=ax[i],add_colorbar=False if i<=2 else True, cmap= 'rainbow', vmin=0, vmax=110)\n",
    "        ax[i].set_title(days[i])\n",
    "        ax[i].invert_xaxis()\n",
    "        tmp = (data.t.sel(longitude=slice(-15,10), latitude=slice(15,0)).sel(\n",
    "            time=f'{dates[i]}T15', method='nearest')-273.15).sel(longitude=5.7, method='nearest').T.plot(\n",
    "            ax=ax[i+4],add_colorbar=False if i<=2 else True, cmap= 'seismic', vmax=40)\n",
    "        ax[i+4].set_title('')\n",
    "        ax[i+4].invert_xaxis()\n",
    "plt.tight_layout()\n",
    "plt.savefig(path+f'/figures/rh_column_tx_monthly_pctl_1983-2016.jpeg', bbox_inches='tight')"
   ]
  },
  {
   "cell_type": "code",
   "execution_count": null,
   "id": "78ce9019-ff4b-4c42-8691-aaff8f51b57b",
   "metadata": {},
   "outputs": [],
   "source": []
  },
  {
   "cell_type": "code",
   "execution_count": null,
   "id": "c14c5076-1fb1-4f6e-9f9b-456ce4904e9a",
   "metadata": {
    "tags": []
   },
   "outputs": [],
   "source": [
    "### Analysis Altitudewise\n",
    "fig, ax = plt.subplots(ncols=2, nrows=1, figsize=(15, 10),sharex=True, subplot_kw={'projection': crs.PlateCarree()})\n",
    "ax = ax.flatten()\n",
    "lon = np.linspace(-20,-4)\n",
    "lat = np.linspace(7,7)\n",
    "for i in range(0,2):\n",
    "    ax[i].set_extent([-20,10,0,20])\n",
    "    ax[i].add_feature(feature.COASTLINE)\n",
    "    ax[i].add_feature(feature.BORDERS)\n",
    "    hwnp = hdtn.where(hdtn>0).plot(ax=ax[i],cbar_kwargs={'orientation': 'horizontal', 'label':'HWD'}, vmax = 18, cmap='bone_r')\n",
    "ax[0].plot(lon,lat,linewidth=10, alpha=0.2, color= 'red')"
   ]
  },
  {
   "cell_type": "code",
   "execution_count": null,
   "id": "12e095f9-277d-440e-9b3f-83045c1479f2",
   "metadata": {
    "tags": []
   },
   "outputs": [],
   "source": []
  },
  {
   "cell_type": "code",
   "execution_count": null,
   "id": "f726201e-9318-4666-8c79-dbb56f5c8b27",
   "metadata": {
    "tags": []
   },
   "outputs": [],
   "source": [
    "fig, ax = plt.subplots(ncols=4, nrows=2, figsize=(15, 8))\n",
    "ax = ax.flatten()\n",
    "dates = ['1999-07-10', '1999-07-17', '1999-07-22', '1999-07-27']\n",
    "days = ['Day 0', 'Day 5', 'Day 10', 'Day 15']\n",
    "for i, j in enumerate(dates):    \n",
    "        rhp = data.r.sel(longitude=slice(-15,10), latitude=slice(15,0)).sel(\n",
    "            time=f'{dates[i]}T03', method='nearest').sel(latitude=7, method='nearest').plot(\n",
    "            ax=ax[i],add_colorbar=False if i<=2 else True, cmap= 'rainbow', vmin=0, vmax=120)\n",
    "        ax[i].set_title(days[i])\n",
    "        ax[i].invert_yaxis()\n",
    "        tmp = (data.t.sel(longitude=slice(-15,10), latitude=slice(15,0)).sel(\n",
    "            time=f'{dates[i]}T03', method='nearest')-273.15).sel(latitude=7, method='nearest').plot(\n",
    "            ax=ax[i+4],add_colorbar=False if i<=2 else True, cmap= 'seismic', vmax=40)\n",
    "        ax[i+4].set_title('')\n",
    "        ax[i+4].invert_yaxis()\n",
    "plt.tight_layout()\n",
    "plt.savefig(path+f'/figures/rh_column_tn_2_monthly_pctl_1983-2016.jpeg', bbox_inches='tight')"
   ]
  },
  {
   "cell_type": "code",
   "execution_count": null,
   "id": "46068f6e-efa5-4645-88d0-def4f58de28f",
   "metadata": {
    "tags": []
   },
   "outputs": [],
   "source": []
  },
  {
   "cell_type": "code",
   "execution_count": null,
   "id": "04a04445-c6c7-4052-be0c-cf3bfb70a19a",
   "metadata": {
    "tags": []
   },
   "outputs": [],
   "source": [
    "fig, ax = plt.subplots(ncols=4, nrows=2, figsize=(15, 8))\n",
    "ax = ax.flatten()\n",
    "dates = ['2015-12-16', '2015-12-23', '2015-12-28', '2016-01-03']\n",
    "days = ['Day 0', 'Day 5', 'Day 10', 'Day 15']\n",
    "for i, j in enumerate(dates):    \n",
    "        rhp = data.r.sel(longitude=slice(-15,10), latitude=slice(15,0)).sel(\n",
    "            time=f'{dates[i]}T15', method='nearest').sel(latitude=7, method='nearest').plot(\n",
    "            ax=ax[i],add_colorbar=False if i<=2 else True, cmap= 'rainbow', vmin=0, vmax=110)\n",
    "        ax[i].set_title(days[i])\n",
    "        ax[i].invert_yaxis()\n",
    "        tmp = (data.t.sel(longitude=slice(-15,10), latitude=slice(15,0)).sel(\n",
    "            time=f'{dates[i]}T15', method='nearest')-273.15).sel(latitude=7, method='nearest').plot(\n",
    "            ax=ax[i+4],add_colorbar=False if i<=2 else True, cmap= 'seismic', vmax=40)\n",
    "        ax[i+4].set_title('')\n",
    "        ax[i+4].invert_yaxis()\n",
    "plt.tight_layout()\n",
    "plt.savefig(path+f'/figures/rh_column_tx_2_monthly_pctl_1983-2016.jpeg', bbox_inches='tight')"
   ]
  },
  {
   "cell_type": "code",
   "execution_count": null,
   "id": "6c1f9d57-df68-4a73-877b-beb348d2d07d",
   "metadata": {},
   "outputs": [],
   "source": []
  },
  {
   "cell_type": "code",
   "execution_count": null,
   "id": "eb62259a-75d5-4642-ac70-70cf02e41593",
   "metadata": {},
   "outputs": [],
   "source": [
    "import metpy.calc as mpcalc\n",
    "from metpy.cbook import get_test_data\n",
    "from metpy.plots import add_metpy_logo, add_timestamp\n",
    "from metpy.units import units\n",
    "\n",
    "import cartopy.crs as ccrs\n",
    "import cartopy.feature as cfeature\n",
    "import matplotlib.pyplot as plt\n",
    "import numpy as np\n",
    "import xarray as xr\n",
    "\n",
    "import metpy.calc as mpcalc\n",
    "from metpy.cbook import get_test_data\n",
    "from metpy.interpolate import cross_section\n",
    "# data_tx = xr.open_dataset('../Era_5/adaptor.mars.internal-1696586869.7078497-9814-6-e617163c-d080-4831-bbee-0e77f388871a.nc').sel(\n",
    "    # time='2015-12-28T15', method ='nearest')\n"
   ]
  },
  {
   "cell_type": "code",
   "execution_count": null,
   "id": "c5812415-02d2-4c0f-b3f3-9cb21f7e48b1",
   "metadata": {
    "tags": []
   },
   "outputs": [],
   "source": [
    "ds = xr.open_dataset('../Era_5/adaptor.mars.internal-1696586869.7078497-9814-6-e617163c-d080-4831-bbee-0e77f388871a.nc').sel(\n",
    "    time='2015-12-28T15', method ='nearest')"
   ]
  },
  {
   "cell_type": "code",
   "execution_count": null,
   "id": "152da55c-28f8-48e3-863e-1d2f9df8d25a",
   "metadata": {
    "tags": []
   },
   "outputs": [],
   "source": []
  },
  {
   "cell_type": "code",
   "execution_count": null,
   "id": "4612309e-2a08-4fb3-96de-3679b2573ee9",
   "metadata": {
    "tags": []
   },
   "outputs": [],
   "source": [
    "data =  xr.open_dataset('/media/kenz/1B8D1A637BBA134B/Era_5/adaptor.mars.internal-1697563853.3145142-15820-15-f77cdf85-8321-421e-80ef-f67af09303db.nc'\n",
    "                       ).sel(time='1999-01-01T03')\n",
    "data = data.metpy.parse_cf().squeeze().sortby('latitude')"
   ]
  },
  {
   "cell_type": "code",
   "execution_count": null,
   "id": "f2eeae05-a1bc-418b-aca7-ee5e45ecb4ae",
   "metadata": {
    "tags": []
   },
   "outputs": [],
   "source": [
    "print(list(data.variables))"
   ]
  },
  {
   "cell_type": "code",
   "execution_count": null,
   "id": "ff11af6d-8f9b-4aa7-b90f-f981cacb3b45",
   "metadata": {
    "tags": []
   },
   "outputs": [],
   "source": [
    "data"
   ]
  },
  {
   "cell_type": "code",
   "execution_count": null,
   "id": "32c81eb4-9c67-4975-98f7-94881d6a7574",
   "metadata": {
    "tags": []
   },
   "outputs": [],
   "source": [
    "isentlevs = [296.] * units.kelvin"
   ]
  },
  {
   "cell_type": "code",
   "execution_count": null,
   "id": "e0cbfd9f-3af3-43a1-aedf-5cd43454e372",
   "metadata": {
    "tags": []
   },
   "outputs": [],
   "source": [
    "start = (-20.0, -30.0)\n",
    "end = (35.0, 25.0)"
   ]
  },
  {
   "cell_type": "code",
   "execution_count": null,
   "id": "fbded2eb-309a-4ad2-8134-e830458acd71",
   "metadata": {
    "tags": []
   },
   "outputs": [],
   "source": [
    "cross = cross_section(data, start, end).set_coords(('latitude', 'longitude'))"
   ]
  },
  {
   "cell_type": "code",
   "execution_count": null,
   "id": "04e15052-69ed-493e-ac4c-98fa93329394",
   "metadata": {
    "tags": []
   },
   "outputs": [],
   "source": [
    "cross"
   ]
  },
  {
   "cell_type": "code",
   "execution_count": null,
   "id": "bce5ee2c-058b-4b8b-9df0-9b5d5683e40f",
   "metadata": {
    "tags": []
   },
   "outputs": [],
   "source": [
    "data"
   ]
  },
  {
   "cell_type": "code",
   "execution_count": null,
   "id": "5f1440ed-301a-45fa-a69b-7c533b21fbe8",
   "metadata": {
    "tags": []
   },
   "outputs": [],
   "source": [
    "# cross_section(data, start, end).set_coords(('latitude', 'longitude'))\n"
   ]
  },
  {
   "cell_type": "code",
   "execution_count": null,
   "id": "66be371a-7927-4e6c-ad4b-d65afda3425c",
   "metadata": {
    "tags": []
   },
   "outputs": [],
   "source": [
    "import cartopy.crs as ccrs\n",
    "import cartopy.feature as cfeature\n",
    "import matplotlib.pyplot as plt\n",
    "import numpy as np\n",
    "import xarray as xr\n",
    "import metpy.calc as mpcalc\n",
    "from metpy.cbook import get_test_data\n",
    "from metpy.interpolate import cross_section\n",
    "\n",
    "data = data.metpy.parse_cf().squeeze().sortby('latitude')\n",
    "# Define the start and end points of the cross-section\n",
    "start = (-10.0, -30.0)\n",
    "end = (30.0, 25.0)\n",
    "isentlevs = [296.] * units.kelvin\n",
    "cross = cross_section(data, start, end).set_coords(('latitude', 'longitude'))\n",
    "# Extract cross-section data\n",
    "# cross = cross_section(data, start, end).set_coords(('latitude', 'longitude'))\n",
    "\n",
    "# Calculate potential temperature, relative humidity, and wind components\n",
    "cross['Relative_humidity'] = cross['r']\n",
    "cross['u_wind'] = cross['u'].metpy.convert_units('knots')\n",
    "cross['v_wind'] = cross['v'].metpy.convert_units('knots')\n",
    "cross['t_wind'], cross['n_wind'] = mpcalc.cross_section_components(\n",
    "    cross['u_wind'],\n",
    "    cross['v_wind']\n",
    ")\n",
    "\n",
    "# Define the figure object and primary axes\n",
    "fig = plt.figure(figsize=(10., 7.))\n",
    "ax = plt.axes()\n",
    "\n",
    "# Plot relative humidity using contourf\n",
    "rh_contour = ax.contourf(cross['longitude'], cross['level'], cross['r'],\n",
    "                         levels=np.arange(0, 101, 5), cmap='YlGnBu')\n",
    "rh_colorbar = fig.colorbar(rh_contour)\n",
    "\n",
    "# Plot potential temperature using contour\n",
    "theta_contour = ax.contour(cross['longitude'], cross['level'], cross['t'],\n",
    "                           levels=np.arange(250, 500, 5), colors='k', linewidths=2)\n",
    "theta_contour.clabel(theta_contour.levels[1::2], fontsize=8, colors='k', inline=1,\n",
    "                     inline_spacing=8, fmt='%i', rightside_up=True, use_clabeltext=True)\n",
    "\n",
    "# Plot winds using the axes interface directly\n",
    "wind_slc_vert = list(range(0, 5, 1))\n",
    "wind_slc_horz = slice(0, 221, 20)\n",
    "ax.barbs(cross['longitude'][wind_slc_horz], cross['level'][wind_slc_vert],\n",
    "         cross['t_wind'][wind_slc_vert, wind_slc_horz],\n",
    "         cross['n_wind'][wind_slc_vert, wind_slc_horz], color='k')\n",
    "\n",
    "# Adjust the y-axis to be logarithmic\n",
    "ax.set_yscale('symlog')\n",
    "ax.set_yticklabels(np.arange(1000, 0, -100))\n",
    "ax.set_ylim(cross['level'].max(), cross['level'].min())\n",
    "ax.set_yticks(np.arange(1000, 200, -100))\n",
    "\n",
    "# # Define the CRS and inset axes\n",
    "# data_crs = ccrs.PlateCarree()\n",
    "# ax_inset = fig.add_axes([0.125, 0.665, 0.25, 0.22], projection=data_crs)\n",
    "\n",
    "# # # Plot geopotential height at 500 hPa using xarray's contour wrapper\n",
    "# # ax_inset.contour(data['longitude'], data['latitude'], data['z'].sel(level=500),\n",
    "# #                  levels=np.arange(5100, 6000, 60), cmap='inferno')\n",
    "\n",
    "# Plot the path of the cross-section\n",
    "# endpoints = data_crs.transform_points(ccrs.Geodetic(),\n",
    "#                                       *np.vstack([start, end]).transpose()[::-1])\n",
    "# ax_inset.scatter(endpoints[:, 0], endpoints[:, 1], c='k', zorder=2)\n",
    "# ax_inset.plot(cross['longitude'], cross['latitude'], c='k', zorder=2)\n",
    "\n",
    "# Add geographic features\n",
    "# ax_inset.coastlines()\n",
    "# ax_inset.add_feature(cfeature.STATES.with_scale('50m'), edgecolor='k', alpha=0.2, zorder=0)\n",
    "\n",
    "# Set the titles and axes labels\n",
    "# ax_inset.set_title('')\n",
    "ax.set_title(f'Cross-Section from {start} to {end}')\n",
    "ax.set_ylabel('Pressure (hPa)')\n",
    "ax.set_xlabel('Longitude (degrees east)')\n",
    "rh_colorbar.set_label('Relative Humidity (%)')\n",
    "\n",
    "plt.show()\n"
   ]
  },
  {
   "cell_type": "code",
   "execution_count": null,
   "id": "88fb3e7d-3d30-421c-a0ff-3555020fe2ba",
   "metadata": {
    "tags": []
   },
   "outputs": [],
   "source": [
    "cross"
   ]
  },
  {
   "cell_type": "code",
   "execution_count": null,
   "id": "0d6e5a3c-efaa-45f5-95fe-d6d04715c55f",
   "metadata": {
    "tags": []
   },
   "outputs": [],
   "source": [
    "# Define the figure object and primary axes\n",
    "fig = plt.figure(1, figsize=(16., 9.))\n",
    "ax = plt.axes()\n",
    "\n",
    "# Plot RH using contourf\n",
    "rh_contour = ax.contourf(cross['longitude'], cross['level'], cross['Relative_humidity'],\n",
    "                         levels=np.arange(0, 1.05, .05), cmap='YlGnBu')\n",
    "rh_colorbar = fig.colorbar(rh_contour)\n",
    "\n",
    "# # Plot potential temperature using contour, with some custom labeling\n",
    "# theta_contour = ax.contour(cross['lon'], cross['isobaric'], cross['Potential_temperature'],\n",
    "#                            levels=np.arange(250, 450, 5), colors='k', linewidths=2)\n",
    "# theta_contour.clabel(theta_contour.levels[1::2], fontsize=8, colors='k', inline=1,\n",
    "#                      inline_spacing=8, fmt='%i', rightside_up=True, use_clabeltext=True)\n",
    "\n",
    "# # Plot winds using the axes interface directly, with some custom indexing to make the barbs\n",
    "# # less crowded\n",
    "# wind_slc_vert = list(range(0, 19, 2)) + list(range(19, 29))\n",
    "# wind_slc_horz = slice(5, 100, 5)\n",
    "# ax.barbs(cross['lon'][wind_slc_horz], cross['isobaric'][wind_slc_vert],\n",
    "#          cross['t_wind'][wind_slc_vert, wind_slc_horz],\n",
    "#          cross['n_wind'][wind_slc_vert, wind_slc_horz], color='k')\n",
    "\n",
    "# # Adjust the y-axis to be logarithmic\n",
    "# ax.set_yscale('symlog')\n",
    "# ax.set_yticklabels(np.arange(1000, 50, -100))\n",
    "# ax.set_ylim(cross['isobaric'].max(), cross['isobaric'].min())\n",
    "# ax.set_yticks(np.arange(1000, 50, -100))\n",
    "\n",
    "# # Define the CRS and inset axes\n",
    "# data_crs = data['Geopotential_height'].metpy.cartopy_crs\n",
    "# ax_inset = fig.add_axes([0.125, 0.665, 0.25, 0.25], projection=data_crs)\n",
    "\n",
    "# # Plot geopotential height at 500 hPa using xarray's contour wrapper\n",
    "# ax_inset.contour(data['x'], data['y'], data['Geopotential_height'].sel(isobaric=500.),\n",
    "#                  levels=np.arange(5100, 6000, 60), cmap='inferno')\n",
    "\n",
    "# # Plot the path of the cross section\n",
    "# endpoints = data_crs.transform_points(ccrs.Geodetic(),\n",
    "#                                       *np.vstack([start, end]).transpose()[::-1])\n",
    "# ax_inset.scatter(endpoints[:, 0], endpoints[:, 1], c='k', zorder=2)\n",
    "# ax_inset.plot(cross['x'], cross['y'], c='k', zorder=2)\n",
    "\n",
    "# # Add geographic features\n",
    "# ax_inset.coastlines()\n",
    "# ax_inset.add_feature(cfeature.STATES.with_scale('50m'), edgecolor='k', alpha=0.2, zorder=0)\n",
    "\n",
    "# # Set the titles and axes labels\n",
    "# ax_inset.set_title('')\n",
    "# ax.set_title(f'NARR Cross-Section \\u2013 {start} to {end} \\u2013 '\n",
    "#              f'Valid: {cross[\"time\"].dt.strftime(\"%Y-%m-%d %H:%MZ\").item()}\\n'\n",
    "#              'Potential Temperature (K), Tangential/Normal Winds (knots), Relative Humidity '\n",
    "#              '(dimensionless)\\nInset: Cross-Section Path and 500 hPa Geopotential Height')\n",
    "# ax.set_ylabel('Pressure (hPa)')\n",
    "# ax.set_xlabel('Longitude (degrees east)')\n",
    "# rh_colorbar.set_label('Relative Humidity (dimensionless)')\n",
    "\n",
    "# plt.show()"
   ]
  },
  {
   "cell_type": "code",
   "execution_count": null,
   "id": "1e7c6901-044c-46c2-898e-c402fa9b64e4",
   "metadata": {},
   "outputs": [],
   "source": []
  },
  {
   "cell_type": "code",
   "execution_count": null,
   "id": "0fc38881-5873-4050-b0ae-f3d8b84fd399",
   "metadata": {
    "tags": []
   },
   "outputs": [],
   "source": [
    "isent_data['u'] = isent_data['u'].metpy.convert_units('kt')\n",
    "isent_data['v'] = isent_data['v'].metpy.convert_units('kt')"
   ]
  },
  {
   "cell_type": "code",
   "execution_count": null,
   "id": "4b296c5f-9329-4e60-959c-88b198ef170e",
   "metadata": {
    "tags": []
   },
   "outputs": [],
   "source": [
    "isent_data"
   ]
  },
  {
   "cell_type": "code",
   "execution_count": null,
   "id": "1a47aeba-f407-4400-8fb2-87b9fb45d22f",
   "metadata": {
    "tags": []
   },
   "outputs": [],
   "source": [
    "# Set up our projection and coordinates\n",
    "crs = ccrs.PlateCarree()\n",
    "lon = isent_data['pressure'].metpy.longitude\n",
    "lat = isent_data['pressure'].metpy.latitude\n",
    "\n",
    "# Coordinates to limit map area\n",
    "bounds = [(-35., 30., -30., 40.)]\n",
    "# Choose a level to plot, in this case 296 K (our sole level in this example)\n",
    "level = 0\n",
    "\n",
    "fig = plt.figure(figsize=(10., 8.))\n",
    "# add_metpy_logo(fig, 120, 245, size='large')\n",
    "ax = fig.add_subplot(1, 1, 1, projection=crs)\n",
    "ax.set_extent(*bounds, crs=ccrs.PlateCarree())\n",
    "ax.add_feature(cfeature.COASTLINE.with_scale('50m'), linewidth=0.75)\n",
    "ax.add_feature(cfeature.STATES, linewidth=0.5)\n",
    "\n",
    "# Plot the surface\n",
    "clevisent = np.arange(0, 1000, 25)\n",
    "cs = ax.contour(lon, lat, isent_data['pressure'].isel(isentropic_level=level),\n",
    "                clevisent, colors='k', linewidths=1.0, linestyles='solid',\n",
    "                transform=ccrs.PlateCarree())\n",
    "cs.clabel(fontsize=10, inline=1, inline_spacing=7, fmt='%i', rightside_up=True,\n",
    "          use_clabeltext=True)\n",
    "\n",
    "# Plot RH\n",
    "cf = ax.contourf(lon, lat, isent_data['r'].isel(isentropic_level=level),\n",
    "                 range(10, 106, 5), cmap=plt.cm.gist_earth_r, transform=ccrs.PlateCarree())\n",
    "cb = fig.colorbar(cf, orientation='horizontal', aspect=65, shrink=0.5, pad=0.05,\n",
    "                  extendrect='True')\n",
    "cb.set_label('r', size='x-large')\n",
    "\n",
    "# Plot wind barbs\n",
    "ax.barbs(lon.values, lat.values, isent_data['u'].isel(isentropic_level=level).values,\n",
    "         isent_data['v'].isel(isentropic_level=level).values, length=6,\n",
    "         regrid_shape=20, transform=ccrs.PlateCarree())\n",
    "\n",
    "# Make some titles\n",
    "ax.set_title(f'{isentlevs[level]:~.0f} Isentropic Pressure (hPa), Wind (kt), '\n",
    "             'Relative Humidity (percent)', loc='left')\n",
    "add_timestamp(ax, isent_data['time'].values.astype('datetime64[ms]').astype('O'),\n",
    "              y=0.02, high_contrast=True)\n",
    "fig.tight_layout()"
   ]
  },
  {
   "cell_type": "code",
   "execution_count": null,
   "id": "0d5f29e3-1c9c-402b-b775-149218b87fb4",
   "metadata": {
    "tags": []
   },
   "outputs": [],
   "source": [
    "isent_data.temperature[0].sortby('longitude').plot()"
   ]
  },
  {
   "cell_type": "code",
   "execution_count": null,
   "id": "495c95be-899a-461b-a3e7-23a6627c79e7",
   "metadata": {},
   "outputs": [],
   "source": []
  },
  {
   "cell_type": "code",
   "execution_count": null,
   "id": "a8d8bb45-d0da-4919-9587-4f1f87740499",
   "metadata": {},
   "outputs": [],
   "source": []
  },
  {
   "cell_type": "code",
   "execution_count": null,
   "id": "9a5d25ce-92ee-4829-bba4-34ec9b124bdd",
   "metadata": {},
   "outputs": [],
   "source": []
  },
  {
   "cell_type": "code",
   "execution_count": null,
   "id": "c973764b-474a-4741-8a9a-a5057f736940",
   "metadata": {
    "tags": []
   },
   "outputs": [],
   "source": [
    "import metpy.calc as mpcalc\n",
    "from metpy.cbook import get_test_data\n",
    "from metpy.plots import add_metpy_logo, add_timestamp\n",
    "from metpy.units import units"
   ]
  },
  {
   "cell_type": "code",
   "execution_count": null,
   "id": "f84f4711-8323-48e1-b6a6-8de5c27e4c8c",
   "metadata": {},
   "outputs": [],
   "source": [
    "data = data.squeeze().set_coords(['longitude', 'latitude'])"
   ]
  },
  {
   "cell_type": "code",
   "execution_count": null,
   "id": "d1a097a4-ef70-4992-97ae-d3caa6f566c9",
   "metadata": {
    "tags": []
   },
   "outputs": [],
   "source": [
    "isent_data['u'] = isent_data['u'].metpy.convert_units('kt')\n",
    "isent_data['v'] = isent_data['v'].metpy.convert_units('kt')"
   ]
  },
  {
   "cell_type": "code",
   "execution_count": null,
   "id": "7712c955-6854-4f01-ba34-f3ec90dfee53",
   "metadata": {
    "tags": []
   },
   "outputs": [],
   "source": [
    "temperature = tn.sel(time='1999-07-22')"
   ]
  },
  {
   "cell_type": "code",
   "execution_count": null,
   "id": "80e23177-6403-4128-bfc4-f80a851914cb",
   "metadata": {
    "tags": []
   },
   "outputs": [],
   "source": [
    "ds = ds.sel(time='1999-07-22')"
   ]
  },
  {
   "cell_type": "code",
   "execution_count": null,
   "id": "d7aab5a4-bf60-4999-8803-9cf86bf098bd",
   "metadata": {
    "tags": []
   },
   "outputs": [],
   "source": [
    "data = ds.squeeze().set_coords(['longitude', 'latitude'])"
   ]
  },
  {
   "cell_type": "code",
   "execution_count": null,
   "id": "3345d974-f43d-4f4f-98aa-479c77a89075",
   "metadata": {
    "tags": []
   },
   "outputs": [],
   "source": [
    "d = d.sel(time='1999-07-22T03')"
   ]
  },
  {
   "cell_type": "code",
   "execution_count": null,
   "id": "ff44f622-63fc-4b3f-b4c4-d89ba61ed483",
   "metadata": {},
   "outputs": [],
   "source": [
    "d = d.load()"
   ]
  },
  {
   "cell_type": "code",
   "execution_count": null,
   "id": "9996c001-9fb7-48d6-b1b3-aef5f85c7964",
   "metadata": {},
   "outputs": [],
   "source": [
    "float(wind_speed.max())"
   ]
  },
  {
   "cell_type": "code",
   "execution_count": null,
   "id": "8167b68c-235e-446c-b4e5-304ab475d4fa",
   "metadata": {
    "tags": []
   },
   "outputs": [],
   "source": [
    "import matplotlib.pyplot as plt\n",
    "\n",
    "import metpy.calc as mpcalc\n",
    "from metpy.cbook import example_data\n",
    "\n",
    "# load example data\n",
    "# ds = example_data()\n",
    "\n",
    "# Calculate the total deformation of the flow\n",
    "wind_speed = mpcalc.wind_speed(d.u, d.v)\n",
    "\n",
    "# start figure and set axis\n",
    "fig, ax = plt.subplots(figsize=(5, 5))\n",
    "\n",
    "# plot wind speed\n",
    "cf = ax.contourf(ds.longitude, ds.latitude, wind_speed, range(int(wind_speed.min()), int(wind_speed.max()), 1), cmap=plt.cm.BuPu)\n",
    "plt.colorbar(cf, pad=0, aspect=50)\n",
    "ax.barbs(d.longitude.values, d.latitude.values, d.u, d.v, color='black', length=0.01\n",
    "         , alpha=0.5)\n",
    "ax.set(xlim=(-27, 30), ylim=(-5, 30))\n",
    "ax.set_title('Wind Speed Calculation')\n"
   ]
  },
  {
   "cell_type": "code",
   "execution_count": null,
   "id": "888b4075-572a-411a-9143-5dfb7c4fc4e8",
   "metadata": {
    "tags": []
   },
   "outputs": [],
   "source": []
  },
  {
   "cell_type": "code",
   "execution_count": null,
   "id": "39c883c2-0dbe-4dad-856b-5d1ca37e3e46",
   "metadata": {
    "tags": []
   },
   "outputs": [],
   "source": []
  },
  {
   "cell_type": "code",
   "execution_count": null,
   "id": "59d1ec73-5742-43b4-98cd-0272276210ef",
   "metadata": {
    "tags": []
   },
   "outputs": [],
   "source": []
  },
  {
   "cell_type": "code",
   "execution_count": null,
   "id": "9f288c7e-4033-49b0-9f00-c23f9c0d5639",
   "metadata": {
    "tags": []
   },
   "outputs": [],
   "source": [
    "s"
   ]
  },
  {
   "cell_type": "code",
   "execution_count": null,
   "id": "0b1394f0-5c1d-400a-863c-66a6092449ed",
   "metadata": {
    "tags": []
   },
   "outputs": [],
   "source": [
    "c = s.sel(longitude=-6,latitude=6, method='nearest').to_dataframe()['Tmin']"
   ]
  },
  {
   "cell_type": "code",
   "execution_count": null,
   "id": "9647f40d-87d5-4db5-b0af-b8b3342320d2",
   "metadata": {
    "tags": []
   },
   "outputs": [],
   "source": [
    "v = s.sel(longitude=-6,latitude=6, method='nearest')"
   ]
  },
  {
   "cell_type": "code",
   "execution_count": null,
   "id": "b794d91c-6cae-4624-86ef-25e5ebafdd42",
   "metadata": {
    "tags": []
   },
   "outputs": [],
   "source": [
    "# Select rows which do not have NaN value in column 'Age'\n",
    "# f\n",
    "selected_rows = f[~f['Tmin'].isna()]"
   ]
  },
  {
   "cell_type": "code",
   "execution_count": null,
   "id": "63a5021f-8a08-4e5c-8dba-a5bb4bb5ddff",
   "metadata": {
    "tags": []
   },
   "outputs": [],
   "source": [
    "selected_rows"
   ]
  },
  {
   "cell_type": "code",
   "execution_count": null,
   "id": "00a13a75-077a-4579-9340-112f5c7932c9",
   "metadata": {
    "tags": []
   },
   "outputs": [],
   "source": [
    "# tn.sel(longitude = -5.95, latitude = 6.15, method = 'nearest').sel(time = f'{year}').plot()\n",
    "\n",
    "s.sel(longitude = -5.95, latitude = 6.15, method = 'nearest').sel(time = f'{year}').plot()\n",
    "# ctn90.sel(longitude = -5.95, latitude = 6.15, method = 'nearest').sel(time = f'{year}').drop('month').plot()"
   ]
  },
  {
   "cell_type": "code",
   "execution_count": null,
   "id": "ed6d33de-a7fc-4ff0-811c-ce1d6676ac7f",
   "metadata": {
    "tags": []
   },
   "outputs": [],
   "source": []
  },
  {
   "cell_type": "code",
   "execution_count": null,
   "id": "9d6b9047-0ab2-447b-ab53-76c9c9ea8a1a",
   "metadata": {
    "tags": []
   },
   "outputs": [],
   "source": [
    "%%time\n",
    "\n",
    "levels = range(int(tx.max())-50)\n",
    "fig, axes = plt.subplots(ncols=1,figsize=[7,5], subplot_kw={'projection': crs.PlateCarree()})#ncols=1) #Creating the basis for the plot\n",
    "axes.set_extent([-19,15,4,24])\n",
    "axes.add_feature(feature.COASTLINE)\n",
    "axes.add_feature(feature.BORDERS)\n",
    "axes.add_feature(feature.STATES, linewidth = 0.2)\n",
    "axes.set_xticks([-20,-10,0,10], crs=crs.PlateCarree())\n",
    "axes.set_yticks([5,10,15,20], crs=crs.PlateCarree())\n",
    "lon_formatter = LongitudeFormatter(zero_direction_label=True)\n",
    "lat_formatter = LatitudeFormatter()\n",
    "axes.xaxis.set_major_formatter(lon_formatter)\n",
    "axes.yaxis.set_major_formatter(lat_formatter)\n",
    "\n",
    "def animate(time):\n",
    "    tx.isel(year=time).plot(levels=levels, ax=axes, add_colorbar= False, cmap = 'plasma')\n",
    "\n",
    "ani = animation.FuncAnimation(fig, animate, tx.year.size, interval=400, blit=False)\n",
    "\n",
    "mld = tx.isel(year=0).plot.contourf(levels=levels, ax=axes, add_colorbar= False, cmap='plasma')\n",
    "cbar= fig.colorbar(mld, shrink=0.6)\n",
    "cbar.set_label('CTx90pctl')\n",
    "fig.suptitle(\"Yearly Heatwave Days\", fontsize= 18)\n",
    "\n",
    "HTML(ani.to_jshtml())"
   ]
  },
  {
   "cell_type": "code",
   "execution_count": null,
   "id": "51ed4eed-c101-4b83-88e5-520ace44c922",
   "metadata": {
    "tags": []
   },
   "outputs": [],
   "source": [
    "# tx_gt_tx90.resample(time='M').count('time').groupby('time.month').mean('time')[11].plot()\n",
    "ani.save('figures/animated_avearged_yearly_heatwave_events.gif', writer='imagemagick', fps = 2) #Save animation as gif-file"
   ]
  },
  {
   "cell_type": "code",
   "execution_count": null,
   "id": "f3f963c2-35ae-4b5b-814b-70b9e84ad80b",
   "metadata": {
    "tags": []
   },
   "outputs": [],
   "source": []
  },
  {
   "cell_type": "code",
   "execution_count": null,
   "id": "cf051c41-8565-42b0-8358-90785d7574f7",
   "metadata": {},
   "outputs": [],
   "source": [
    "######## Plotting Tmax 90 ########\n",
    "fig, axes = plt.subplots(ncols = 4, nrows=3, figsize = (12,8))\n",
    "ax=axes.flatten()\n",
    "set_fig_params(ax)\n",
    "months = ['JAN','FEB','MAR','APR','MAY','JUN','JUL','AUG', 'SEP','OCT','NOV','DEC']\n",
    "for i, month in enumerate(ds_tn90['month']):\n",
    "    cb = ds_tn90.sel(month=month).plot(ax=ax[i], add_colorbar = False, cmap='YlOrRd', vmax = int(ds_tn90.max()))\n",
    "    ax[i].set_title(months[i])\n",
    "for i in [3,7,11]:\n",
    "    fig.colorbar(cb, ax = ax[i], label = 'Tmin90')\n",
    "plt.suptitle('Monthly 90th Percentile from 1983-2016', fontweight = 'bold')\n",
    "plt.tight_layout()\n"
   ]
  },
  {
   "cell_type": "code",
   "execution_count": null,
   "id": "326fd1df-b597-469d-addb-49ee18ee9eee",
   "metadata": {},
   "outputs": [],
   "source": []
  },
  {
   "cell_type": "code",
   "execution_count": null,
   "id": "c84bf402-b61a-4334-9503-a9d3da331a38",
   "metadata": {},
   "outputs": [],
   "source": [
    "tn = CTX(ds_tn,ds_tn90).groupby('time.year').count('time')\n",
    "tn = tn.where(tn>0)\n",
    "# tn = tn.groupby('time.year').count('time')"
   ]
  },
  {
   "cell_type": "code",
   "execution_count": null,
   "id": "c804a5b5-e6ea-419e-95ca-c33207d1e767",
   "metadata": {},
   "outputs": [],
   "source": [
    "levels = range(int(tn.max())-50)\n",
    "fig, axes = plt.subplots(figsize=[7,5])#ncols=1) #Creating the basis for the plot\n",
    "def animate(time):\n",
    "    tn.isel(year=time).plot(levels=levels, ax=axes, add_colorbar= False, cmap='magma')\n",
    "\n",
    "ani = animation.FuncAnimation(fig, animate, tn.year.size, interval=400, blit=False)\n",
    "\n",
    "mld= tn.isel(year=0).plot.contourf(levels=levels, ax=axes, add_colorbar= False,cmap='magma')\n",
    "cbar= fig.colorbar(mld, extend = 'both')\n",
    "cbar.set_label('CTx90pctl')\n",
    "fig.suptitle(\"Yearly Heatwave Days\", fontsize= 18)\n",
    "\n",
    "HTML(ani.to_jshtml())"
   ]
  },
  {
   "cell_type": "code",
   "execution_count": null,
   "id": "3b77b008-190d-49c2-a174-1fb6d6da4a2d",
   "metadata": {},
   "outputs": [],
   "source": [
    "ani.save('figures/Tmin_avearged_yearly_heatwave_events.gif', writer='imagemagick', fps = 2) #Save animation as gif-file"
   ]
  },
  {
   "cell_type": "code",
   "execution_count": null,
   "id": "64e660f4-9436-438d-b535-035b39613776",
   "metadata": {},
   "outputs": [],
   "source": []
  },
  {
   "cell_type": "markdown",
   "id": "518d11dc-6eb3-4ab0-af23-1e2a0abedc51",
   "metadata": {},
   "source": [
    "### Calculating EHI's"
   ]
  },
  {
   "cell_type": "code",
   "execution_count": null,
   "id": "04851650-c5e5-48b0-b6eb-c247ddfee68a",
   "metadata": {
    "tags": []
   },
   "outputs": [],
   "source": [
    " hwf_tx.where(hwf_tx>0).plot()"
   ]
  },
  {
   "cell_type": "code",
   "execution_count": null,
   "id": "139c859e-96da-4346-b616-954be81d5878",
   "metadata": {
    "tags": []
   },
   "outputs": [],
   "source": [
    " hwf_tn.where(hwf_tn>0).plot()"
   ]
  },
  {
   "cell_type": "code",
   "execution_count": null,
   "id": "77453226-9bff-4788-af0f-ea2e952e1897",
   "metadata": {
    "tags": []
   },
   "outputs": [],
   "source": [
    "%%time\n",
    "\n",
    "fig, ax = plt.subplots(ncols=2, nrows=1, figsize=(10, 5), subplot_kw={'projection': crs.PlateCarree()})\n",
    "ax = ax.flatten()\n",
    "set_fig_params(ax)\n",
    "\n",
    "vmax = 35\n",
    "\n",
    "cc = 'PuRd'\n",
    "\n",
    "cb = hwf_tx.where(hwf_tx>0).plot(ax=ax[0], cmap=cc, vmax=vmax, add_colorbar=False)\n",
    "\n",
    "hwf_tn.where(hwf_tn>0).plot(ax=ax[1], cmap=cc, vmax=vmax, add_colorbar=False)\n",
    "\n",
    "ax[0].set_title('CTx90pct \\n 1983-2016')\n",
    "ax[1].set_title('CTn90pct \\n 1983-2016')\n",
    "\n",
    "\n",
    "cax = fig.add_axes([1,0.35,0.02,0.3])\n",
    "fig.colorbar(cb, cax=cax, orientation='vertical', extend='both', label='HWF')\n",
    "\n",
    "fig.tight_layout()\n",
    "plt.savefig(path+'/figures/Yearly Number of Participating Heatwave Day-monthly_pctl_1983-2016.jpeg', bbox_inches='tight')"
   ]
  },
  {
   "cell_type": "code",
   "execution_count": null,
   "id": "5a8fa65e-7d4a-4d8d-b53f-65b17833fb27",
   "metadata": {
    "tags": []
   },
   "outputs": [],
   "source": [
    "\n",
    "hwdtx = hwn_tx.sel(time=slice(t1,t2))#.sum('time')/33\n",
    "# hwdtx.where(hwdtx>0).plot()"
   ]
  },
  {
   "cell_type": "code",
   "execution_count": null,
   "id": "5973c1b6-62f7-457f-8e3b-f00d60b0b834",
   "metadata": {
    "tags": []
   },
   "outputs": [],
   "source": [
    "hwdtn = hwn_tn.sel(time=slice(t1,t2)).sum('time')/33\n",
    "hwdtn.where(hwdtn>0).plot()"
   ]
  },
  {
   "cell_type": "code",
   "execution_count": null,
   "id": "07ff9e06-e0bf-47e2-b143-a110883b4a14",
   "metadata": {},
   "outputs": [],
   "source": [
    "%%time\n",
    "t1 = '1983'\n",
    "t2 = '1992'\n",
    "# Create subplots\n",
    "fig, ax = plt.subplots(ncols=2, nrows=2, figsize=(10, 5), subplot_kw={'projection': crs.PlateCarree()})\n",
    "ax = ax.flatten()\n",
    "set_fig_params(ax)\n",
    "\n",
    "# Plot data\n",
    "vmax=2.5\n",
    "cc='gist_heat_r'\n",
    "\n",
    "hwdtx = hwn_tx.sel(time=slice(t1,t2)).sum('time')/33\n",
    "cb1 = hwdtx.where(hwdtx>0).plot(ax=ax[0], cmap=cc, vmax=vmax, add_colorbar=False)\n",
    "ax[0].set_title(f'CTx90 {t1}-{t2}')\n",
    "\n",
    "hwdtn = (hwn_tn.sel(time=slice(t1,t2)).sum('time')/33)\n",
    "hwdtn.where(hwdtn>0).plot(ax=ax[1], cmap=cc, vmax=vmax, add_colorbar=False)\n",
    "ax[1].set_title(f'CTn90 {t1}-{t2}')\n",
    "\n",
    "cm = 'RdBu_r'\n",
    "vm = 1\n",
    "\n",
    "txsl = hwn_tx.sel(time=slice(t1,t2)).groupby('time.year').sum('time')\n",
    "cb2 = sens_slopes((txsl.where(txsl>0)).sel(year=slice(t1,t2)).load()).plot(ax=ax[2], vmax=vm, vmin=-1, cmap=cm, add_colorbar=False)\n",
    "\n",
    "tnsl = hwn_tn.sel(time=slice(t1,t2)).groupby('time.year').sum('time')\n",
    "sens_slopes((tnsl.where(tnsl>0)).sel(year=slice(t1,t2)).load()).plot(ax=ax[3], vmax=vm, vmin=-1, cmap=cm, add_colorbar=False)\n",
    "\n",
    "label = ['HWN','Trends']\n",
    "\n",
    "cb = [cb1, cb2]\n",
    "# Add colorbars\n",
    "for i, j in enumerate([0.61, 0.13]):\n",
    "    cax = fig.add_axes([0.91, j, 0.02, 0.3])\n",
    "    fig.colorbar(cb[i], cax=cax, orientation='vertical', extend='both', label = label[i])\n",
    "\n",
    "fig.tight_layout()\n",
    "plt.savefig(f'{path}/figures/Climatologies of Yearly Heatwaves-using monthly percentiles {t1}-{t2}.jpeg', bbox_inches='tight')"
   ]
  },
  {
   "cell_type": "code",
   "execution_count": null,
   "id": "2d8d2a9b-619d-4b00-844d-8b270fa906f3",
   "metadata": {},
   "outputs": [],
   "source": []
  }
 ],
 "metadata": {
  "kernelspec": {
   "display_name": "Python 3 (ipykernel)",
   "language": "python",
   "name": "python3"
  },
  "language_info": {
   "codemirror_mode": {
    "name": "ipython",
    "version": 3
   },
   "file_extension": ".py",
   "mimetype": "text/x-python",
   "name": "python",
   "nbconvert_exporter": "python",
   "pygments_lexer": "ipython3",
   "version": "3.10.11"
  }
 },
 "nbformat": 4,
 "nbformat_minor": 5
}
